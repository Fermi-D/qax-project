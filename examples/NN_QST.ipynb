{
 "cells": [
  {
   "cell_type": "code",
   "execution_count": 2,
   "id": "eb35a92e-54e4-4090-9a14-0936e322d786",
   "metadata": {},
   "outputs": [],
   "source": [
    "import jax\n",
    "import jax.numpy as jnp\n",
    "from flax import nnx\n",
    "from functools import partial\n",
    "import optax"
   ]
  },
  {
   "cell_type": "code",
   "execution_count": null,
   "id": "76a863e9-e828-4cc2-9c70-ebd621b88203",
   "metadata": {},
   "outputs": [],
   "source": [
    "class RBM(nnx.Module):\n",
    "    def __init__(self, n_vnodes: int, n_hnodes: int, rngs: nnx.Rngs, use_gpu: bool):\n",
    "        self.n_vnodes = n_vnodes\n",
    "        self.n_hnodes = n_hnodes\n",
    "        self.W = nnx.Param(jax.random.uniform(key, (self.n_vnodes, self.n_hnodes)))\n",
    "        self.b = nnx.Param(jnp.zeros((self.n_vnodes,)))\n",
    "        self.c = nnx.Param(jnp.zeros((self.n_hnodes,)))\n",
    "        \n",
    "    def energy(self, v: jax.Array, h: jax.Array) -> jax.Array:\n",
    "        r\"\"\"\n",
    "        E \\left( \\vb*{v}, \\vb*{h}, \\vb*{\\theta} \\right)\n",
    "        &= - \\vb*{b}^\\top \\vb*{v} - \\vb*{c}^\\top \\vb*{h} - \\vb*{v}^\\top \\vb*{W} \\vb*{h}\n",
    "        \"\"\"\n",
    "        f_term = jnp.inner(self.b, v)\n",
    "        s_term = jnp.inner(self.c, h)\n",
    "        t_term = jnp.inner(v, jnp.dot(self.W, h))\n",
    "\n",
    "        return -(f_term + s_term + t_term)\n",
    "        \n",
    "    def free_energy(self, ):\n",
    "        r\"\"\"\n",
    "        $$\n",
    "        F \\left(  \\right)\n",
    "        &= \n",
    "        $$\n",
    "        \"\"\"\n",
    "\n",
    "    def prob_v_given_h(self, h: jax.Array) -> jax.Array:\n",
    "        r\"\"\"\n",
    "        P \\left( v_i | \\vb*{h}, vb*{\\theta} \\right)\n",
    "        &= \\frac{\\exp \\left\\{ \\left( b_i + \\sum_j w_{ij} h_j \\right) v_i \\right\\}}{1 + \\exp \\left( b_i + \\sum_j w_{ij} h_j \\right)}\n",
    "        \"\"\"\n",
    "        top = jax.lax.exp((b+jnp.dot(weights, h))*v)\n",
    "        bottom = 1 + jax.lax.exp(b+jnp.dot(weights, h))\n",
    "        \n",
    "        return jax.lax.clamp(0.0, top/bottom, 1.0)\n",
    "\n",
    "    def sample_v_given_h(self, prob_v: jax.Array) -> jax.Array:\n",
    "        r\"\"\"\n",
    "\n",
    "        \"\"\"\n",
    "        return jax.random.bernoulli(key, p=prob_v).astype(jnp.int32)\n",
    "\n",
    "    def prob_h_given_v(self, v: jax.Array) -> jax.Array:\n",
    "        top = jax.lax.exp((b+jnp.dot(weights, h))*v)\n",
    "        bottom = 1 + jax.lax.exp(b+jnp.dot(weights, h))\n",
    "        \n",
    "        return jax.lax.clamp(0.0, top/bottom, 1.0)\n",
    "\n",
    "    def sample_h_given_v(self, prob_h: jax.Array) -> jax.Array:\n",
    "        r\"\"\"\n",
    "\n",
    "        \"\"\"\n",
    "        return jax.random.bernoulli(key, p=prob_h).astype(jnp.int32)\n",
    "\n",
    "def gibbs_sampling():\n",
    "\n",
    "def contrastive_divergence():\n",
    "\n",
    "class ComplexWavefunction:"
   ]
  },
  {
   "cell_type": "code",
   "execution_count": 3,
   "id": "7c606717-a33b-4c73-94c5-ebed3b802109",
   "metadata": {},
   "outputs": [],
   "source": [
    "n_vnode = 10**6\n",
    "n_hnode = 10\n",
    "\n",
    "key = jax.random.PRNGKey(2025)\n",
    "v = jax.random.bernoulli(key, p=0.5, shape=(n_vnode,)).astype(jnp.int32)\n",
    "h = jax.random.bernoulli(key, p=0.5, shape=(n_hnode,)).astype(jnp.int32)\n",
    "weights = jax.random.uniform(key, shape=(n_vnode, n_hnode))\n",
    "b = jax.random.uniform(key, shape=(n_vnode,))\n",
    "c = jax.random.uniform(key, shape=(n_hnode,))"
   ]
  },
  {
   "cell_type": "code",
   "execution_count": 4,
   "id": "6d46442e-81b6-40fe-ae8d-270269af977a",
   "metadata": {},
   "outputs": [],
   "source": [
    "top = jax.lax.exp((b+jnp.dot(weights, h))*v)\n",
    "bottom = 1 + jax.lax.exp(b+jnp.dot(weights, h))\n",
    "#jax.lax.clamp(0.0, top/bottom, 1.0)"
   ]
  },
  {
   "cell_type": "code",
   "execution_count": 5,
   "id": "45130b93-2965-4e7c-8537-8925ba17469f",
   "metadata": {},
   "outputs": [],
   "source": [
    "n_qubit = 5\n",
    "n_sample = 100\n",
    "\n",
    "dataset = jax.random.bernoulli(key, p=0.5, shape=(n_sample, n_qubit)).astype(jnp.int32)"
   ]
  },
  {
   "cell_type": "code",
   "execution_count": 6,
   "id": "94458fd9-29e9-44d3-bf70-545720471e75",
   "metadata": {},
   "outputs": [],
   "source": [
    "def prob_v_given_h(h):\n",
    "    top = jax.lax.exp((b+jnp.dot(weights, h))*v)\n",
    "    bottom = 1 + jax.lax.exp(b+jnp.dot(weights, h))\n",
    "    return jax.lax.clamp(0.0, top/bottom, 1.0)"
   ]
  },
  {
   "cell_type": "code",
   "execution_count": 7,
   "id": "7be966f7-7bc4-4ed9-a8cb-a2e1f626d443",
   "metadata": {},
   "outputs": [],
   "source": [
    "@jax.vmap\n",
    "def sample_v_given_h(prob_vi):\n",
    "    return jax.random.bernoulli(key, p=prob_vi, shape=(1,)).astype(jnp.int32).squeeze()"
   ]
  },
  {
   "cell_type": "code",
   "execution_count": 9,
   "id": "cbc8591f-0c92-44dd-9a4e-113f443c1678",
   "metadata": {},
   "outputs": [
    {
     "name": "stdout",
     "output_type": "stream",
     "text": [
      "1.41 ms ± 13.7 μs per loop (mean ± std. dev. of 7 runs, 1,000 loops each)\n"
     ]
    }
   ],
   "source": [
    "%timeit sample_v_given_h(prob_v_given_h(h))"
   ]
  },
  {
   "cell_type": "code",
   "execution_count": 83,
   "id": "c1955c49-0224-4651-86e3-dc7ceb68830d",
   "metadata": {},
   "outputs": [],
   "source": [
    "def sample_v_given_h(prob_v):\n",
    "    return jax.random.bernoulli(key, p=prob_v).astype(jnp.int32)"
   ]
  },
  {
   "cell_type": "code",
   "execution_count": 84,
   "id": "deec1417-6ea4-4abd-9fb3-d144fba286b5",
   "metadata": {},
   "outputs": [
    {
     "name": "stdout",
     "output_type": "stream",
     "text": [
      "774 μs ± 5.46 μs per loop (mean ± std. dev. of 7 runs, 1,000 loops each)\n"
     ]
    }
   ],
   "source": [
    "%timeit sample_v_given_h(prob_v_given_h(h))"
   ]
  },
  {
   "cell_type": "code",
   "execution_count": 2,
   "id": "c43b64cb-0798-4142-ace2-4fc2444a0809",
   "metadata": {},
   "outputs": [
    {
     "name": "stdout",
     "output_type": "stream",
     "text": [
      "JAX QuCumber: Pure State Reconstruction\n",
      "========================================\n",
      "Generating training data...\n",
      "Initializing trainer...\n",
      "Training model...\n",
      "Epoch 1: Loss = 2.294414, Fidelity = 0.615251\n",
      "Epoch 11: Loss = 0.999232, Fidelity = 0.660537\n",
      "Epoch 21: Loss = 0.981186, Fidelity = 0.731453\n",
      "Epoch 31: Loss = 0.914040, Fidelity = 0.749632\n",
      "Epoch 41: Loss = 0.978682, Fidelity = 0.753717\n",
      "Epoch 51: Loss = 0.962633, Fidelity = 0.753071\n",
      "Epoch 61: Loss = 0.966015, Fidelity = 0.751138\n",
      "Epoch 71: Loss = 0.989560, Fidelity = 0.748920\n",
      "Epoch 81: Loss = 0.976888, Fidelity = 0.746586\n",
      "Epoch 91: Loss = 0.952689, Fidelity = 0.744592\n",
      "\n",
      "Generating samples from trained model...\n",
      "Generated 2500 samples\n",
      "\n",
      "Final fidelity: 0.7428755760192871\n",
      "\n",
      "Training data statistics:\n",
      "Mean magnetization: 1.9895000457763672\n",
      "Generated data statistics:\n",
      "Mean magnetization: 1.9012000560760498\n"
     ]
    }
   ],
   "source": [
    "import jax\n",
    "import jax.numpy as jnp\n",
    "import flax.nnx as nnx\n",
    "import numpy as np\n",
    "from typing import Tuple, Optional, Dict, Any\n",
    "from functools import partial\n",
    "import matplotlib.pyplot as plt\n",
    "\n",
    "class RBM(nnx.Module):\n",
    "    \"\"\"Restricted Boltzmann Machine for quantum wavefunction reconstruction.\"\"\"\n",
    "    \n",
    "    def __init__(self, num_visible: int, num_hidden: int, rngs: nnx.Rngs):\n",
    "        \"\"\"\n",
    "        Initialize RBM.\n",
    "        \n",
    "        Args:\n",
    "            num_visible: Number of visible units (qubits)\n",
    "            num_hidden: Number of hidden units\n",
    "            rngs: Random number generator state\n",
    "        \"\"\"\n",
    "        self.num_visible = num_visible\n",
    "        self.num_hidden = num_hidden\n",
    "        \n",
    "        # Initialize weights and biases\n",
    "        self.W = nnx.Param(\n",
    "            jax.random.normal(rngs.params(), (num_visible, num_hidden)) * 0.01\n",
    "        )\n",
    "        self.a = nnx.Param(jnp.zeros(num_visible))  # visible bias\n",
    "        self.b = nnx.Param(jnp.zeros(num_hidden))   # hidden bias\n",
    "    \n",
    "    def visible_to_hidden(self, v: jnp.ndarray) -> jnp.ndarray:\n",
    "        \"\"\"Compute hidden unit activations given visible units.\"\"\"\n",
    "        return jnp.dot(v, self.W.value) + self.b.value\n",
    "    \n",
    "    def hidden_to_visible(self, h: jnp.ndarray) -> jnp.ndarray:\n",
    "        \"\"\"Compute visible unit activations given hidden units.\"\"\"\n",
    "        return jnp.dot(h, self.W.value.T) + self.a.value\n",
    "    \n",
    "    def sample_hidden_given_visible(self, v: jnp.ndarray, key: jax.random.PRNGKey) -> jnp.ndarray:\n",
    "        \"\"\"Sample hidden units given visible units.\"\"\"\n",
    "        h_prob = jax.nn.sigmoid(self.visible_to_hidden(v))\n",
    "        return jax.random.bernoulli(key, h_prob).astype(jnp.float32)\n",
    "    \n",
    "    def sample_visible_given_hidden(self, h: jnp.ndarray, key: jax.random.PRNGKey) -> jnp.ndarray:\n",
    "        \"\"\"Sample visible units given hidden units.\"\"\"\n",
    "        v_prob = jax.nn.sigmoid(self.hidden_to_visible(h))\n",
    "        return jax.random.bernoulli(key, v_prob).astype(jnp.float32)\n",
    "    \n",
    "    def gibbs_step(self, v: jnp.ndarray, key: jax.random.PRNGKey) -> Tuple[jnp.ndarray, jnp.ndarray]:\n",
    "        \"\"\"Perform one Gibbs sampling step.\"\"\"\n",
    "        key1, key2 = jax.random.split(key)\n",
    "        h = self.sample_hidden_given_visible(v, key1)\n",
    "        v_new = self.sample_visible_given_hidden(h, key2)\n",
    "        return v_new, h\n",
    "    \n",
    "    def log_probability(self, v: jnp.ndarray) -> jnp.ndarray:\n",
    "        \"\"\"Compute log probability of visible configuration.\"\"\"\n",
    "        # For positive wavefunction: log|ψ(v)|² = 2 * Re[log ψ(v)]\n",
    "        hidden_term = jnp.sum(jnp.log(1 + jnp.exp(self.visible_to_hidden(v))))\n",
    "        visible_term = jnp.dot(v, self.a.value)\n",
    "        return 2 * (visible_term + hidden_term)  # Factor of 2 for |ψ|²\n",
    "\n",
    "\n",
    "class PositiveWavefunction(nnx.Module):\n",
    "    \"\"\"Positive real wavefunction using RBM.\"\"\"\n",
    "    \n",
    "    def __init__(self, num_visible: int, num_hidden: int, rngs: nnx.Rngs):\n",
    "        self.rbm = RBM(num_visible, num_hidden, rngs)\n",
    "        self.num_visible = num_visible\n",
    "    \n",
    "    def log_amplitude(self, v: jnp.ndarray) -> jnp.ndarray:\n",
    "        \"\"\"Compute log amplitude of wavefunction.\"\"\"\n",
    "        hidden_term = jnp.sum(jnp.log(1 + jnp.exp(self.rbm.visible_to_hidden(v))))\n",
    "        visible_term = jnp.dot(v, self.rbm.a.value)\n",
    "        return visible_term + hidden_term\n",
    "    \n",
    "    def amplitude(self, v: jnp.ndarray) -> jnp.ndarray:\n",
    "        \"\"\"Compute amplitude of wavefunction.\"\"\"\n",
    "        return jnp.exp(self.log_amplitude(v))\n",
    "    \n",
    "    def probability(self, v: jnp.ndarray) -> jnp.ndarray:\n",
    "        \"\"\"Compute probability |ψ(v)|².\"\"\"\n",
    "        return jnp.exp(2 * self.log_amplitude(v))\n",
    "    \n",
    "    def sample(self, num_samples: int, num_chains: int, key: jax.random.PRNGKey) -> jnp.ndarray:\n",
    "        \"\"\"Generate samples using Gibbs sampling.\"\"\"\n",
    "        # Initialize random configurations\n",
    "        key, subkey = jax.random.split(key)\n",
    "        v = jax.random.bernoulli(subkey, 0.5, (num_chains, self.num_visible)).astype(jnp.float32)\n",
    "        \n",
    "        samples = []\n",
    "        for i in range(num_samples):\n",
    "            key, subkey = jax.random.split(key)\n",
    "            v, _ = self.rbm.gibbs_step(v, subkey)\n",
    "            if i >= num_samples // 2:  # Burn-in period\n",
    "                samples.append(v)\n",
    "        \n",
    "        return jnp.concatenate(samples, axis=0)\n",
    "\n",
    "\n",
    "def contrastive_divergence_loss(model: PositiveWavefunction, \n",
    "                               data_batch: jnp.ndarray, \n",
    "                               k: int,\n",
    "                               key: jax.random.PRNGKey) -> jnp.ndarray:\n",
    "    \"\"\"Compute contrastive divergence loss.\"\"\"\n",
    "    batch_size = data_batch.shape[0]\n",
    "    \n",
    "    # Positive phase\n",
    "    pos_hidden_prob = jax.nn.sigmoid(model.rbm.visible_to_hidden(data_batch))\n",
    "    \n",
    "    # Negative phase - k steps of Gibbs sampling\n",
    "    v_neg = data_batch\n",
    "    for _ in range(k):\n",
    "        key, subkey = jax.random.split(key)\n",
    "        v_neg, _ = jax.vmap(model.rbm.gibbs_step, in_axes=(0, None))(v_neg, subkey)\n",
    "    \n",
    "    neg_hidden_prob = jax.nn.sigmoid(model.rbm.visible_to_hidden(v_neg))\n",
    "    \n",
    "    # Compute gradients for CD\n",
    "    pos_weights_grad = jnp.mean(data_batch[:, :, None] * pos_hidden_prob[:, None, :], axis=0)\n",
    "    neg_weights_grad = jnp.mean(v_neg[:, :, None] * neg_hidden_prob[:, None, :], axis=0)\n",
    "    \n",
    "    pos_visible_grad = jnp.mean(data_batch, axis=0)\n",
    "    neg_visible_grad = jnp.mean(v_neg, axis=0)\n",
    "    \n",
    "    pos_hidden_grad = jnp.mean(pos_hidden_prob, axis=0)\n",
    "    neg_hidden_grad = jnp.mean(neg_hidden_prob, axis=0)\n",
    "    \n",
    "    # Compute loss (negative log-likelihood approximation)\n",
    "    loss = (jnp.sum((pos_weights_grad - neg_weights_grad)**2) + \n",
    "            jnp.sum((pos_visible_grad - neg_visible_grad)**2) + \n",
    "            jnp.sum((pos_hidden_grad - neg_hidden_grad)**2))\n",
    "    \n",
    "    return loss\n",
    "\n",
    "\n",
    "def compute_fidelity(model: PositiveWavefunction, \n",
    "                    true_psi: jnp.ndarray, \n",
    "                    hilbert_space: jnp.ndarray) -> float:\n",
    "    \"\"\"Compute fidelity between reconstructed and true wavefunction.\"\"\"\n",
    "    # Get model amplitudes\n",
    "    model_amplitudes = jax.vmap(model.amplitude)(hilbert_space)\n",
    "    \n",
    "    # Normalize both wavefunctions\n",
    "    model_norm = jnp.sqrt(jnp.sum(model_amplitudes**2))\n",
    "    true_norm = jnp.sqrt(jnp.sum(true_psi**2))\n",
    "    \n",
    "    model_normalized = model_amplitudes / model_norm\n",
    "    true_normalized = true_psi / true_norm\n",
    "    \n",
    "    # Compute fidelity |<ψ_true|ψ_model>|²\n",
    "    overlap = jnp.abs(jnp.sum(jnp.conj(true_normalized) * model_normalized))**2\n",
    "    return float(overlap)\n",
    "\n",
    "\n",
    "def train_step(model: PositiveWavefunction, \n",
    "               optimizer: nnx.Optimizer,\n",
    "               data_batch: jnp.ndarray,\n",
    "               k: int,\n",
    "               key: jax.random.PRNGKey) -> float:\n",
    "    \"\"\"Perform one training step.\"\"\"\n",
    "    \n",
    "    def loss_fn(model):\n",
    "        return contrastive_divergence_loss(model, data_batch, k, key)\n",
    "    \n",
    "    loss, grads = nnx.value_and_grad(loss_fn)(model)\n",
    "    optimizer.update(grads)\n",
    "    \n",
    "    return float(loss)\n",
    "\n",
    "\n",
    "class QuCumberTrainer:\n",
    "    \"\"\"Trainer for quantum wavefunction reconstruction.\"\"\"\n",
    "    \n",
    "    def __init__(self, \n",
    "                 num_visible: int,\n",
    "                 num_hidden: int,\n",
    "                 learning_rate: float = 0.01,\n",
    "                 seed: int = 42):\n",
    "        self.key = jax.random.PRNGKey(seed)\n",
    "        \n",
    "        # Initialize model\n",
    "        self.key, model_key = jax.random.split(self.key)\n",
    "        rngs = nnx.Rngs(model_key)\n",
    "        self.model = PositiveWavefunction(num_visible, num_hidden, rngs)\n",
    "        \n",
    "        # Initialize optimizer\n",
    "        self.optimizer = nnx.Optimizer(self.model, optax.adam(learning_rate))\n",
    "        \n",
    "    def train(self, \n",
    "              train_data: np.ndarray,\n",
    "              true_psi: Optional[np.ndarray] = None,\n",
    "              epochs: int = 100,\n",
    "              batch_size: int = 32,\n",
    "              k: int = 1,\n",
    "              verbose: bool = True) -> Dict[str, list]:\n",
    "        \"\"\"Train the model.\"\"\"\n",
    "        \n",
    "        train_data = jnp.array(train_data)\n",
    "        history = {'loss': [], 'fidelity': []}\n",
    "        \n",
    "        # Generate Hilbert space for fidelity calculation\n",
    "        if true_psi is not None:\n",
    "            hilbert_space = jnp.array([\n",
    "                [int(b) for b in format(i, f'0{self.model.num_visible}b')]\n",
    "                for i in range(2**self.model.num_visible)\n",
    "            ]).astype(jnp.float32)\n",
    "            true_psi = jnp.array(true_psi)\n",
    "        \n",
    "        num_batches = len(train_data) // batch_size\n",
    "        \n",
    "        for epoch in range(epochs):\n",
    "            epoch_loss = 0.0\n",
    "            \n",
    "            # Shuffle data\n",
    "            self.key, subkey = jax.random.split(self.key)\n",
    "            perm = jax.random.permutation(subkey, len(train_data))\n",
    "            shuffled_data = train_data[perm]\n",
    "            \n",
    "            for batch_idx in range(num_batches):\n",
    "                batch_start = batch_idx * batch_size\n",
    "                batch_end = batch_start + batch_size\n",
    "                batch_data = shuffled_data[batch_start:batch_end]\n",
    "                \n",
    "                self.key, subkey = jax.random.split(self.key)\n",
    "                loss = train_step(self.model, self.optimizer, batch_data, k, subkey)\n",
    "                epoch_loss += loss\n",
    "            \n",
    "            avg_loss = epoch_loss / num_batches\n",
    "            history['loss'].append(avg_loss)\n",
    "            \n",
    "            # Compute fidelity if true wavefunction provided\n",
    "            if true_psi is not None:\n",
    "                fidelity = compute_fidelity(self.model, true_psi, hilbert_space)\n",
    "                history['fidelity'].append(fidelity)\n",
    "            else:\n",
    "                history['fidelity'].append(0.0)\n",
    "            \n",
    "            if verbose and epoch % 10 == 0:\n",
    "                if true_psi is not None:\n",
    "                    print(f\"Epoch {epoch+1}: Loss = {avg_loss:.6f}, Fidelity = {fidelity:.6f}\")\n",
    "                else:\n",
    "                    print(f\"Epoch {epoch+1}: Loss = {avg_loss:.6f}\")\n",
    "        \n",
    "        return history\n",
    "    \n",
    "    def generate_samples(self, num_samples: int, num_chains: int = 10) -> np.ndarray:\n",
    "        \"\"\"Generate samples from the trained model.\"\"\"\n",
    "        self.key, subkey = jax.random.split(self.key)\n",
    "        samples = self.model.sample(num_samples, num_chains, subkey)\n",
    "        return np.array(samples)\n",
    "\n",
    "\n",
    "# Example usage and demonstration\n",
    "def create_tfim_data(num_qubits: int, h: float, num_samples: int = 1000) -> Tuple[np.ndarray, np.ndarray]:\n",
    "    \"\"\"Create synthetic TFIM data for demonstration.\"\"\"\n",
    "    # This is a simplified example - in practice you'd use exact diagonalization\n",
    "    # or quantum Monte Carlo to generate training data\n",
    "    \n",
    "    # For demonstration, create random binary data\n",
    "    np.random.seed(42)\n",
    "    data = np.random.randint(0, 2, (num_samples, num_qubits)).astype(np.float32)\n",
    "    \n",
    "    # Create a simple \"true\" wavefunction (normalized random amplitudes)\n",
    "    true_psi = np.random.random(2**num_qubits).astype(np.float32)\n",
    "    true_psi = true_psi / np.linalg.norm(true_psi)\n",
    "    \n",
    "    return data, true_psi\n",
    "\n",
    "\n",
    "def plot_training_history(history: Dict[str, list]):\n",
    "    \"\"\"Plot training loss and fidelity.\"\"\"\n",
    "    fig, (ax1, ax2) = plt.subplots(1, 2, figsize=(12, 4))\n",
    "    \n",
    "    ax1.plot(history['loss'])\n",
    "    ax1.set_xlabel('Epoch')\n",
    "    ax1.set_ylabel('Loss')\n",
    "    ax1.set_title('Training Loss')\n",
    "    ax1.set_yscale('log')\n",
    "    \n",
    "    ax2.plot(history['fidelity'])\n",
    "    ax2.set_xlabel('Epoch')\n",
    "    ax2.set_ylabel('Fidelity')\n",
    "    ax2.set_title('Reconstruction Fidelity')\n",
    "    \n",
    "    plt.tight_layout()\n",
    "    plt.show()\n",
    "\n",
    "\n",
    "# Import optax for optimizers\n",
    "try:\n",
    "    import optax\n",
    "except ImportError:\n",
    "    print(\"Please install optax: pip install optax\")\n",
    "\n",
    "\n",
    "if __name__ == \"__main__\":\n",
    "    # Demonstration\n",
    "    print(\"JAX QuCumber: Pure State Reconstruction\")\n",
    "    print(\"=\" * 40)\n",
    "    \n",
    "    # Parameters\n",
    "    num_qubits = 4\n",
    "    num_hidden = 8\n",
    "    h_field = 1.0\n",
    "    \n",
    "    # Generate training data\n",
    "    print(\"Generating training data...\")\n",
    "    train_data, true_psi = create_tfim_data(num_qubits, h_field, num_samples=2000)\n",
    "    \n",
    "    # Initialize trainer\n",
    "    print(\"Initializing trainer...\")\n",
    "    trainer = QuCumberTrainer(\n",
    "        num_visible=num_qubits,\n",
    "        num_hidden=num_hidden,\n",
    "        learning_rate=0.01\n",
    "    )\n",
    "    \n",
    "    # Train model\n",
    "    print(\"Training model...\")\n",
    "    history = trainer.train(\n",
    "        train_data=train_data,\n",
    "        true_psi=true_psi,\n",
    "        epochs=100,\n",
    "        batch_size=64,\n",
    "        k=1,\n",
    "        verbose=True\n",
    "    )\n",
    "    \n",
    "    # Generate samples\n",
    "    print(\"\\nGenerating samples from trained model...\")\n",
    "    generated_samples = trainer.generate_samples(num_samples=500)\n",
    "    print(f\"Generated {len(generated_samples)} samples\")\n",
    "    \n",
    "    # Plot results\n",
    "    print(\"\\nFinal fidelity:\", history['fidelity'][-1])\n",
    "    \n",
    "    # Display some statistics\n",
    "    print(f\"\\nTraining data statistics:\")\n",
    "    print(f\"Mean magnetization: {np.mean(np.sum(train_data, axis=1))}\")\n",
    "    print(f\"Generated data statistics:\")\n",
    "    print(f\"Mean magnetization: {np.mean(np.sum(generated_samples, axis=1))}\")"
   ]
  },
  {
   "cell_type": "code",
   "execution_count": 3,
   "id": "19f43aa7-e206-4c40-aa72-8f88bcaed21e",
   "metadata": {},
   "outputs": [
    {
     "name": "stdout",
     "output_type": "stream",
     "text": [
      "JAX QuCumber: Pure State Reconstruction\n",
      "========================================\n",
      "Generating training data...\n",
      "Initializing trainer...\n",
      "Training model...\n"
     ]
    },
    {
     "data": {
      "application/json": {
       "ascii": false,
       "bar_format": null,
       "colour": null,
       "elapsed": 0.006406068801879883,
       "initial": 0,
       "n": 0,
       "ncols": null,
       "nrows": null,
       "postfix": null,
       "prefix": "Training",
       "rate": null,
       "total": 100,
       "unit": "epoch",
       "unit_divisor": 1000,
       "unit_scale": false
      },
      "application/vnd.jupyter.widget-view+json": {
       "model_id": "14c494fede0844b8990971bd1e4a79e2",
       "version_major": 2,
       "version_minor": 0
      },
      "text/plain": [
       "Training:   0%|          | 0/100 [00:00<?, ?epoch/s]"
      ]
     },
     "metadata": {},
     "output_type": "display_data"
    },
    {
     "data": {
      "application/json": {
       "ascii": false,
       "bar_format": null,
       "colour": null,
       "elapsed": 0.003056049346923828,
       "initial": 0,
       "n": 0,
       "ncols": null,
       "nrows": null,
       "postfix": null,
       "prefix": "Epoch 1/100",
       "rate": null,
       "total": 31,
       "unit": "batch",
       "unit_divisor": 1000,
       "unit_scale": false
      },
      "application/vnd.jupyter.widget-view+json": {
       "model_id": "64c754fa16f64306b5d80443d11d9e15",
       "version_major": 2,
       "version_minor": 0
      },
      "text/plain": [
       "Epoch 1/100:   0%|          | 0/31 [00:00<?, ?batch/s]"
      ]
     },
     "metadata": {},
     "output_type": "display_data"
    },
    {
     "data": {
      "application/json": {
       "ascii": false,
       "bar_format": null,
       "colour": null,
       "elapsed": 0.003312349319458008,
       "initial": 0,
       "n": 0,
       "ncols": null,
       "nrows": null,
       "postfix": null,
       "prefix": "Epoch 2/100",
       "rate": null,
       "total": 31,
       "unit": "batch",
       "unit_divisor": 1000,
       "unit_scale": false
      },
      "application/vnd.jupyter.widget-view+json": {
       "model_id": "958be7e2017b4b60b4ea320505465818",
       "version_major": 2,
       "version_minor": 0
      },
      "text/plain": [
       "Epoch 2/100:   0%|          | 0/31 [00:00<?, ?batch/s]"
      ]
     },
     "metadata": {},
     "output_type": "display_data"
    },
    {
     "data": {
      "application/json": {
       "ascii": false,
       "bar_format": null,
       "colour": null,
       "elapsed": 0.0034639835357666016,
       "initial": 0,
       "n": 0,
       "ncols": null,
       "nrows": null,
       "postfix": null,
       "prefix": "Epoch 3/100",
       "rate": null,
       "total": 31,
       "unit": "batch",
       "unit_divisor": 1000,
       "unit_scale": false
      },
      "application/vnd.jupyter.widget-view+json": {
       "model_id": "60b3b1e97ba04ff59b872be3749c34d5",
       "version_major": 2,
       "version_minor": 0
      },
      "text/plain": [
       "Epoch 3/100:   0%|          | 0/31 [00:00<?, ?batch/s]"
      ]
     },
     "metadata": {},
     "output_type": "display_data"
    },
    {
     "data": {
      "application/json": {
       "ascii": false,
       "bar_format": null,
       "colour": null,
       "elapsed": 0.0031366348266601562,
       "initial": 0,
       "n": 0,
       "ncols": null,
       "nrows": null,
       "postfix": null,
       "prefix": "Epoch 4/100",
       "rate": null,
       "total": 31,
       "unit": "batch",
       "unit_divisor": 1000,
       "unit_scale": false
      },
      "application/vnd.jupyter.widget-view+json": {
       "model_id": "1b6f1ec1a9b04c9e8cdff4d434088293",
       "version_major": 2,
       "version_minor": 0
      },
      "text/plain": [
       "Epoch 4/100:   0%|          | 0/31 [00:00<?, ?batch/s]"
      ]
     },
     "metadata": {},
     "output_type": "display_data"
    },
    {
     "data": {
      "application/json": {
       "ascii": false,
       "bar_format": null,
       "colour": null,
       "elapsed": 0.0034046173095703125,
       "initial": 0,
       "n": 0,
       "ncols": null,
       "nrows": null,
       "postfix": null,
       "prefix": "Epoch 5/100",
       "rate": null,
       "total": 31,
       "unit": "batch",
       "unit_divisor": 1000,
       "unit_scale": false
      },
      "application/vnd.jupyter.widget-view+json": {
       "model_id": "eb817c1a17c84ca8bbbfdd4ba705c0da",
       "version_major": 2,
       "version_minor": 0
      },
      "text/plain": [
       "Epoch 5/100:   0%|          | 0/31 [00:00<?, ?batch/s]"
      ]
     },
     "metadata": {},
     "output_type": "display_data"
    },
    {
     "data": {
      "application/json": {
       "ascii": false,
       "bar_format": null,
       "colour": null,
       "elapsed": 0.003470182418823242,
       "initial": 0,
       "n": 0,
       "ncols": null,
       "nrows": null,
       "postfix": null,
       "prefix": "Epoch 6/100",
       "rate": null,
       "total": 31,
       "unit": "batch",
       "unit_divisor": 1000,
       "unit_scale": false
      },
      "application/vnd.jupyter.widget-view+json": {
       "model_id": "35bece70c4524f53a0ded5fff7505bbd",
       "version_major": 2,
       "version_minor": 0
      },
      "text/plain": [
       "Epoch 6/100:   0%|          | 0/31 [00:00<?, ?batch/s]"
      ]
     },
     "metadata": {},
     "output_type": "display_data"
    },
    {
     "data": {
      "application/json": {
       "ascii": false,
       "bar_format": null,
       "colour": null,
       "elapsed": 0.004586935043334961,
       "initial": 0,
       "n": 0,
       "ncols": null,
       "nrows": null,
       "postfix": null,
       "prefix": "Epoch 7/100",
       "rate": null,
       "total": 31,
       "unit": "batch",
       "unit_divisor": 1000,
       "unit_scale": false
      },
      "application/vnd.jupyter.widget-view+json": {
       "model_id": "73f608b7de5d4f28aca317b0be3977f6",
       "version_major": 2,
       "version_minor": 0
      },
      "text/plain": [
       "Epoch 7/100:   0%|          | 0/31 [00:00<?, ?batch/s]"
      ]
     },
     "metadata": {},
     "output_type": "display_data"
    },
    {
     "data": {
      "application/json": {
       "ascii": false,
       "bar_format": null,
       "colour": null,
       "elapsed": 0.00324249267578125,
       "initial": 0,
       "n": 0,
       "ncols": null,
       "nrows": null,
       "postfix": null,
       "prefix": "Epoch 8/100",
       "rate": null,
       "total": 31,
       "unit": "batch",
       "unit_divisor": 1000,
       "unit_scale": false
      },
      "application/vnd.jupyter.widget-view+json": {
       "model_id": "e0f6f9d45f844856a50c7de5ab0f98f8",
       "version_major": 2,
       "version_minor": 0
      },
      "text/plain": [
       "Epoch 8/100:   0%|          | 0/31 [00:00<?, ?batch/s]"
      ]
     },
     "metadata": {},
     "output_type": "display_data"
    },
    {
     "data": {
      "application/json": {
       "ascii": false,
       "bar_format": null,
       "colour": null,
       "elapsed": 0.0033245086669921875,
       "initial": 0,
       "n": 0,
       "ncols": null,
       "nrows": null,
       "postfix": null,
       "prefix": "Epoch 9/100",
       "rate": null,
       "total": 31,
       "unit": "batch",
       "unit_divisor": 1000,
       "unit_scale": false
      },
      "application/vnd.jupyter.widget-view+json": {
       "model_id": "0fdb2c2a97a0405591a1892ec8761bf8",
       "version_major": 2,
       "version_minor": 0
      },
      "text/plain": [
       "Epoch 9/100:   0%|          | 0/31 [00:00<?, ?batch/s]"
      ]
     },
     "metadata": {},
     "output_type": "display_data"
    },
    {
     "data": {
      "application/json": {
       "ascii": false,
       "bar_format": null,
       "colour": null,
       "elapsed": 0.0033283233642578125,
       "initial": 0,
       "n": 0,
       "ncols": null,
       "nrows": null,
       "postfix": null,
       "prefix": "Epoch 10/100",
       "rate": null,
       "total": 31,
       "unit": "batch",
       "unit_divisor": 1000,
       "unit_scale": false
      },
      "application/vnd.jupyter.widget-view+json": {
       "model_id": "680edafb45f54aff9838615b99d93b50",
       "version_major": 2,
       "version_minor": 0
      },
      "text/plain": [
       "Epoch 10/100:   0%|          | 0/31 [00:00<?, ?batch/s]"
      ]
     },
     "metadata": {},
     "output_type": "display_data"
    },
    {
     "data": {
      "application/json": {
       "ascii": false,
       "bar_format": null,
       "colour": null,
       "elapsed": 0.0032813549041748047,
       "initial": 0,
       "n": 0,
       "ncols": null,
       "nrows": null,
       "postfix": null,
       "prefix": "Epoch 11/100",
       "rate": null,
       "total": 31,
       "unit": "batch",
       "unit_divisor": 1000,
       "unit_scale": false
      },
      "application/vnd.jupyter.widget-view+json": {
       "model_id": "d36e6415f56c42f2a20f39d2a267cb24",
       "version_major": 2,
       "version_minor": 0
      },
      "text/plain": [
       "Epoch 11/100:   0%|          | 0/31 [00:00<?, ?batch/s]"
      ]
     },
     "metadata": {},
     "output_type": "display_data"
    },
    {
     "data": {
      "application/json": {
       "ascii": false,
       "bar_format": null,
       "colour": null,
       "elapsed": 0.0032396316528320312,
       "initial": 0,
       "n": 0,
       "ncols": null,
       "nrows": null,
       "postfix": null,
       "prefix": "Epoch 12/100",
       "rate": null,
       "total": 31,
       "unit": "batch",
       "unit_divisor": 1000,
       "unit_scale": false
      },
      "application/vnd.jupyter.widget-view+json": {
       "model_id": "95327a42500545d18809c9e9b1b5c406",
       "version_major": 2,
       "version_minor": 0
      },
      "text/plain": [
       "Epoch 12/100:   0%|          | 0/31 [00:00<?, ?batch/s]"
      ]
     },
     "metadata": {},
     "output_type": "display_data"
    },
    {
     "data": {
      "application/json": {
       "ascii": false,
       "bar_format": null,
       "colour": null,
       "elapsed": 0.0032126903533935547,
       "initial": 0,
       "n": 0,
       "ncols": null,
       "nrows": null,
       "postfix": null,
       "prefix": "Epoch 13/100",
       "rate": null,
       "total": 31,
       "unit": "batch",
       "unit_divisor": 1000,
       "unit_scale": false
      },
      "application/vnd.jupyter.widget-view+json": {
       "model_id": "739f618598d54038ac9481b9db32bab5",
       "version_major": 2,
       "version_minor": 0
      },
      "text/plain": [
       "Epoch 13/100:   0%|          | 0/31 [00:00<?, ?batch/s]"
      ]
     },
     "metadata": {},
     "output_type": "display_data"
    },
    {
     "data": {
      "application/json": {
       "ascii": false,
       "bar_format": null,
       "colour": null,
       "elapsed": 0.0032012462615966797,
       "initial": 0,
       "n": 0,
       "ncols": null,
       "nrows": null,
       "postfix": null,
       "prefix": "Epoch 14/100",
       "rate": null,
       "total": 31,
       "unit": "batch",
       "unit_divisor": 1000,
       "unit_scale": false
      },
      "application/vnd.jupyter.widget-view+json": {
       "model_id": "2dd446e5259e4b47929851cac9b4817a",
       "version_major": 2,
       "version_minor": 0
      },
      "text/plain": [
       "Epoch 14/100:   0%|          | 0/31 [00:00<?, ?batch/s]"
      ]
     },
     "metadata": {},
     "output_type": "display_data"
    },
    {
     "data": {
      "application/json": {
       "ascii": false,
       "bar_format": null,
       "colour": null,
       "elapsed": 0.003273487091064453,
       "initial": 0,
       "n": 0,
       "ncols": null,
       "nrows": null,
       "postfix": null,
       "prefix": "Epoch 15/100",
       "rate": null,
       "total": 31,
       "unit": "batch",
       "unit_divisor": 1000,
       "unit_scale": false
      },
      "application/vnd.jupyter.widget-view+json": {
       "model_id": "6cf5c4d84b78478d93f3a287f6c1590b",
       "version_major": 2,
       "version_minor": 0
      },
      "text/plain": [
       "Epoch 15/100:   0%|          | 0/31 [00:00<?, ?batch/s]"
      ]
     },
     "metadata": {},
     "output_type": "display_data"
    },
    {
     "data": {
      "application/json": {
       "ascii": false,
       "bar_format": null,
       "colour": null,
       "elapsed": 0.0031969547271728516,
       "initial": 0,
       "n": 0,
       "ncols": null,
       "nrows": null,
       "postfix": null,
       "prefix": "Epoch 16/100",
       "rate": null,
       "total": 31,
       "unit": "batch",
       "unit_divisor": 1000,
       "unit_scale": false
      },
      "application/vnd.jupyter.widget-view+json": {
       "model_id": "6b04e334ec85451dbf598926cbe8d536",
       "version_major": 2,
       "version_minor": 0
      },
      "text/plain": [
       "Epoch 16/100:   0%|          | 0/31 [00:00<?, ?batch/s]"
      ]
     },
     "metadata": {},
     "output_type": "display_data"
    },
    {
     "data": {
      "application/json": {
       "ascii": false,
       "bar_format": null,
       "colour": null,
       "elapsed": 0.004534721374511719,
       "initial": 0,
       "n": 0,
       "ncols": null,
       "nrows": null,
       "postfix": null,
       "prefix": "Epoch 17/100",
       "rate": null,
       "total": 31,
       "unit": "batch",
       "unit_divisor": 1000,
       "unit_scale": false
      },
      "application/vnd.jupyter.widget-view+json": {
       "model_id": "c2da8e1994cb41a38e319fbb75d3c68b",
       "version_major": 2,
       "version_minor": 0
      },
      "text/plain": [
       "Epoch 17/100:   0%|          | 0/31 [00:00<?, ?batch/s]"
      ]
     },
     "metadata": {},
     "output_type": "display_data"
    },
    {
     "data": {
      "application/json": {
       "ascii": false,
       "bar_format": null,
       "colour": null,
       "elapsed": 0.0031414031982421875,
       "initial": 0,
       "n": 0,
       "ncols": null,
       "nrows": null,
       "postfix": null,
       "prefix": "Epoch 18/100",
       "rate": null,
       "total": 31,
       "unit": "batch",
       "unit_divisor": 1000,
       "unit_scale": false
      },
      "application/vnd.jupyter.widget-view+json": {
       "model_id": "9bf065bd726546f398f2c32be4ff034a",
       "version_major": 2,
       "version_minor": 0
      },
      "text/plain": [
       "Epoch 18/100:   0%|          | 0/31 [00:00<?, ?batch/s]"
      ]
     },
     "metadata": {},
     "output_type": "display_data"
    },
    {
     "data": {
      "application/json": {
       "ascii": false,
       "bar_format": null,
       "colour": null,
       "elapsed": 0.003305196762084961,
       "initial": 0,
       "n": 0,
       "ncols": null,
       "nrows": null,
       "postfix": null,
       "prefix": "Epoch 19/100",
       "rate": null,
       "total": 31,
       "unit": "batch",
       "unit_divisor": 1000,
       "unit_scale": false
      },
      "application/vnd.jupyter.widget-view+json": {
       "model_id": "e28042d185f348719907cfbf4d83c0c2",
       "version_major": 2,
       "version_minor": 0
      },
      "text/plain": [
       "Epoch 19/100:   0%|          | 0/31 [00:00<?, ?batch/s]"
      ]
     },
     "metadata": {},
     "output_type": "display_data"
    },
    {
     "data": {
      "application/json": {
       "ascii": false,
       "bar_format": null,
       "colour": null,
       "elapsed": 0.0033483505249023438,
       "initial": 0,
       "n": 0,
       "ncols": null,
       "nrows": null,
       "postfix": null,
       "prefix": "Epoch 20/100",
       "rate": null,
       "total": 31,
       "unit": "batch",
       "unit_divisor": 1000,
       "unit_scale": false
      },
      "application/vnd.jupyter.widget-view+json": {
       "model_id": "80fa6eaa212749f08eb9397610a6df5e",
       "version_major": 2,
       "version_minor": 0
      },
      "text/plain": [
       "Epoch 20/100:   0%|          | 0/31 [00:00<?, ?batch/s]"
      ]
     },
     "metadata": {},
     "output_type": "display_data"
    },
    {
     "data": {
      "application/json": {
       "ascii": false,
       "bar_format": null,
       "colour": null,
       "elapsed": 0.0033316612243652344,
       "initial": 0,
       "n": 0,
       "ncols": null,
       "nrows": null,
       "postfix": null,
       "prefix": "Epoch 21/100",
       "rate": null,
       "total": 31,
       "unit": "batch",
       "unit_divisor": 1000,
       "unit_scale": false
      },
      "application/vnd.jupyter.widget-view+json": {
       "model_id": "f9f3ededb09747138b188093ff1d2ae0",
       "version_major": 2,
       "version_minor": 0
      },
      "text/plain": [
       "Epoch 21/100:   0%|          | 0/31 [00:00<?, ?batch/s]"
      ]
     },
     "metadata": {},
     "output_type": "display_data"
    },
    {
     "data": {
      "application/json": {
       "ascii": false,
       "bar_format": null,
       "colour": null,
       "elapsed": 0.0032372474670410156,
       "initial": 0,
       "n": 0,
       "ncols": null,
       "nrows": null,
       "postfix": null,
       "prefix": "Epoch 22/100",
       "rate": null,
       "total": 31,
       "unit": "batch",
       "unit_divisor": 1000,
       "unit_scale": false
      },
      "application/vnd.jupyter.widget-view+json": {
       "model_id": "1cc033b0225b486cbd860ef49e08e1e2",
       "version_major": 2,
       "version_minor": 0
      },
      "text/plain": [
       "Epoch 22/100:   0%|          | 0/31 [00:00<?, ?batch/s]"
      ]
     },
     "metadata": {},
     "output_type": "display_data"
    },
    {
     "data": {
      "application/json": {
       "ascii": false,
       "bar_format": null,
       "colour": null,
       "elapsed": 0.0032052993774414062,
       "initial": 0,
       "n": 0,
       "ncols": null,
       "nrows": null,
       "postfix": null,
       "prefix": "Epoch 23/100",
       "rate": null,
       "total": 31,
       "unit": "batch",
       "unit_divisor": 1000,
       "unit_scale": false
      },
      "application/vnd.jupyter.widget-view+json": {
       "model_id": "c0dda3595829416da803f83264710774",
       "version_major": 2,
       "version_minor": 0
      },
      "text/plain": [
       "Epoch 23/100:   0%|          | 0/31 [00:00<?, ?batch/s]"
      ]
     },
     "metadata": {},
     "output_type": "display_data"
    },
    {
     "data": {
      "application/json": {
       "ascii": false,
       "bar_format": null,
       "colour": null,
       "elapsed": 0.0033142566680908203,
       "initial": 0,
       "n": 0,
       "ncols": null,
       "nrows": null,
       "postfix": null,
       "prefix": "Epoch 24/100",
       "rate": null,
       "total": 31,
       "unit": "batch",
       "unit_divisor": 1000,
       "unit_scale": false
      },
      "application/vnd.jupyter.widget-view+json": {
       "model_id": "f79ab07f28834f62b572764d8d3d93bf",
       "version_major": 2,
       "version_minor": 0
      },
      "text/plain": [
       "Epoch 24/100:   0%|          | 0/31 [00:00<?, ?batch/s]"
      ]
     },
     "metadata": {},
     "output_type": "display_data"
    },
    {
     "data": {
      "application/json": {
       "ascii": false,
       "bar_format": null,
       "colour": null,
       "elapsed": 0.0031294822692871094,
       "initial": 0,
       "n": 0,
       "ncols": null,
       "nrows": null,
       "postfix": null,
       "prefix": "Epoch 25/100",
       "rate": null,
       "total": 31,
       "unit": "batch",
       "unit_divisor": 1000,
       "unit_scale": false
      },
      "application/vnd.jupyter.widget-view+json": {
       "model_id": "f0a34aaaf4ee4088941fc19ed3ab876f",
       "version_major": 2,
       "version_minor": 0
      },
      "text/plain": [
       "Epoch 25/100:   0%|          | 0/31 [00:00<?, ?batch/s]"
      ]
     },
     "metadata": {},
     "output_type": "display_data"
    },
    {
     "data": {
      "application/json": {
       "ascii": false,
       "bar_format": null,
       "colour": null,
       "elapsed": 0.0032415390014648438,
       "initial": 0,
       "n": 0,
       "ncols": null,
       "nrows": null,
       "postfix": null,
       "prefix": "Epoch 26/100",
       "rate": null,
       "total": 31,
       "unit": "batch",
       "unit_divisor": 1000,
       "unit_scale": false
      },
      "application/vnd.jupyter.widget-view+json": {
       "model_id": "b2b261771d13444b9c7bc0982a709924",
       "version_major": 2,
       "version_minor": 0
      },
      "text/plain": [
       "Epoch 26/100:   0%|          | 0/31 [00:00<?, ?batch/s]"
      ]
     },
     "metadata": {},
     "output_type": "display_data"
    },
    {
     "data": {
      "application/json": {
       "ascii": false,
       "bar_format": null,
       "colour": null,
       "elapsed": 0.0033898353576660156,
       "initial": 0,
       "n": 0,
       "ncols": null,
       "nrows": null,
       "postfix": null,
       "prefix": "Epoch 27/100",
       "rate": null,
       "total": 31,
       "unit": "batch",
       "unit_divisor": 1000,
       "unit_scale": false
      },
      "application/vnd.jupyter.widget-view+json": {
       "model_id": "4f35878ddf9f4359bfaa322bd2236b80",
       "version_major": 2,
       "version_minor": 0
      },
      "text/plain": [
       "Epoch 27/100:   0%|          | 0/31 [00:00<?, ?batch/s]"
      ]
     },
     "metadata": {},
     "output_type": "display_data"
    },
    {
     "data": {
      "application/json": {
       "ascii": false,
       "bar_format": null,
       "colour": null,
       "elapsed": 0.003215789794921875,
       "initial": 0,
       "n": 0,
       "ncols": null,
       "nrows": null,
       "postfix": null,
       "prefix": "Epoch 28/100",
       "rate": null,
       "total": 31,
       "unit": "batch",
       "unit_divisor": 1000,
       "unit_scale": false
      },
      "application/vnd.jupyter.widget-view+json": {
       "model_id": "3219dc1d46404d65b637ba4ecaa52f8d",
       "version_major": 2,
       "version_minor": 0
      },
      "text/plain": [
       "Epoch 28/100:   0%|          | 0/31 [00:00<?, ?batch/s]"
      ]
     },
     "metadata": {},
     "output_type": "display_data"
    },
    {
     "data": {
      "application/json": {
       "ascii": false,
       "bar_format": null,
       "colour": null,
       "elapsed": 0.003513336181640625,
       "initial": 0,
       "n": 0,
       "ncols": null,
       "nrows": null,
       "postfix": null,
       "prefix": "Epoch 29/100",
       "rate": null,
       "total": 31,
       "unit": "batch",
       "unit_divisor": 1000,
       "unit_scale": false
      },
      "application/vnd.jupyter.widget-view+json": {
       "model_id": "86bb5998acda4f38a8553d06b6046ea2",
       "version_major": 2,
       "version_minor": 0
      },
      "text/plain": [
       "Epoch 29/100:   0%|          | 0/31 [00:00<?, ?batch/s]"
      ]
     },
     "metadata": {},
     "output_type": "display_data"
    },
    {
     "data": {
      "application/json": {
       "ascii": false,
       "bar_format": null,
       "colour": null,
       "elapsed": 0.003344297409057617,
       "initial": 0,
       "n": 0,
       "ncols": null,
       "nrows": null,
       "postfix": null,
       "prefix": "Epoch 30/100",
       "rate": null,
       "total": 31,
       "unit": "batch",
       "unit_divisor": 1000,
       "unit_scale": false
      },
      "application/vnd.jupyter.widget-view+json": {
       "model_id": "dcccf572614741488999f5ab5133347b",
       "version_major": 2,
       "version_minor": 0
      },
      "text/plain": [
       "Epoch 30/100:   0%|          | 0/31 [00:00<?, ?batch/s]"
      ]
     },
     "metadata": {},
     "output_type": "display_data"
    },
    {
     "data": {
      "application/json": {
       "ascii": false,
       "bar_format": null,
       "colour": null,
       "elapsed": 0.003299713134765625,
       "initial": 0,
       "n": 0,
       "ncols": null,
       "nrows": null,
       "postfix": null,
       "prefix": "Epoch 31/100",
       "rate": null,
       "total": 31,
       "unit": "batch",
       "unit_divisor": 1000,
       "unit_scale": false
      },
      "application/vnd.jupyter.widget-view+json": {
       "model_id": "3d82f53df855444f9110a6cb23861640",
       "version_major": 2,
       "version_minor": 0
      },
      "text/plain": [
       "Epoch 31/100:   0%|          | 0/31 [00:00<?, ?batch/s]"
      ]
     },
     "metadata": {},
     "output_type": "display_data"
    },
    {
     "data": {
      "application/json": {
       "ascii": false,
       "bar_format": null,
       "colour": null,
       "elapsed": 0.0033135414123535156,
       "initial": 0,
       "n": 0,
       "ncols": null,
       "nrows": null,
       "postfix": null,
       "prefix": "Epoch 32/100",
       "rate": null,
       "total": 31,
       "unit": "batch",
       "unit_divisor": 1000,
       "unit_scale": false
      },
      "application/vnd.jupyter.widget-view+json": {
       "model_id": "8f4ed89d2b4e47cc80fdb9e89b6e31f7",
       "version_major": 2,
       "version_minor": 0
      },
      "text/plain": [
       "Epoch 32/100:   0%|          | 0/31 [00:00<?, ?batch/s]"
      ]
     },
     "metadata": {},
     "output_type": "display_data"
    },
    {
     "data": {
      "application/json": {
       "ascii": false,
       "bar_format": null,
       "colour": null,
       "elapsed": 0.0032296180725097656,
       "initial": 0,
       "n": 0,
       "ncols": null,
       "nrows": null,
       "postfix": null,
       "prefix": "Epoch 33/100",
       "rate": null,
       "total": 31,
       "unit": "batch",
       "unit_divisor": 1000,
       "unit_scale": false
      },
      "application/vnd.jupyter.widget-view+json": {
       "model_id": "abc16b8b5e0e478a9618ace296bd22e3",
       "version_major": 2,
       "version_minor": 0
      },
      "text/plain": [
       "Epoch 33/100:   0%|          | 0/31 [00:00<?, ?batch/s]"
      ]
     },
     "metadata": {},
     "output_type": "display_data"
    },
    {
     "data": {
      "application/json": {
       "ascii": false,
       "bar_format": null,
       "colour": null,
       "elapsed": 0.003244161605834961,
       "initial": 0,
       "n": 0,
       "ncols": null,
       "nrows": null,
       "postfix": null,
       "prefix": "Epoch 34/100",
       "rate": null,
       "total": 31,
       "unit": "batch",
       "unit_divisor": 1000,
       "unit_scale": false
      },
      "application/vnd.jupyter.widget-view+json": {
       "model_id": "ca475eda82e9470db053a2d568818a73",
       "version_major": 2,
       "version_minor": 0
      },
      "text/plain": [
       "Epoch 34/100:   0%|          | 0/31 [00:00<?, ?batch/s]"
      ]
     },
     "metadata": {},
     "output_type": "display_data"
    },
    {
     "data": {
      "application/json": {
       "ascii": false,
       "bar_format": null,
       "colour": null,
       "elapsed": 0.004578351974487305,
       "initial": 0,
       "n": 0,
       "ncols": null,
       "nrows": null,
       "postfix": null,
       "prefix": "Epoch 35/100",
       "rate": null,
       "total": 31,
       "unit": "batch",
       "unit_divisor": 1000,
       "unit_scale": false
      },
      "application/vnd.jupyter.widget-view+json": {
       "model_id": "5d393311ab8b4509a8a549f8be74e26b",
       "version_major": 2,
       "version_minor": 0
      },
      "text/plain": [
       "Epoch 35/100:   0%|          | 0/31 [00:00<?, ?batch/s]"
      ]
     },
     "metadata": {},
     "output_type": "display_data"
    },
    {
     "data": {
      "application/json": {
       "ascii": false,
       "bar_format": null,
       "colour": null,
       "elapsed": 0.003306150436401367,
       "initial": 0,
       "n": 0,
       "ncols": null,
       "nrows": null,
       "postfix": null,
       "prefix": "Epoch 36/100",
       "rate": null,
       "total": 31,
       "unit": "batch",
       "unit_divisor": 1000,
       "unit_scale": false
      },
      "application/vnd.jupyter.widget-view+json": {
       "model_id": "20748efe1e4047968415cb192e5e78b1",
       "version_major": 2,
       "version_minor": 0
      },
      "text/plain": [
       "Epoch 36/100:   0%|          | 0/31 [00:00<?, ?batch/s]"
      ]
     },
     "metadata": {},
     "output_type": "display_data"
    },
    {
     "data": {
      "application/json": {
       "ascii": false,
       "bar_format": null,
       "colour": null,
       "elapsed": 0.003184795379638672,
       "initial": 0,
       "n": 0,
       "ncols": null,
       "nrows": null,
       "postfix": null,
       "prefix": "Epoch 37/100",
       "rate": null,
       "total": 31,
       "unit": "batch",
       "unit_divisor": 1000,
       "unit_scale": false
      },
      "application/vnd.jupyter.widget-view+json": {
       "model_id": "81cca6c9a9864cae9791227f6687f0dd",
       "version_major": 2,
       "version_minor": 0
      },
      "text/plain": [
       "Epoch 37/100:   0%|          | 0/31 [00:00<?, ?batch/s]"
      ]
     },
     "metadata": {},
     "output_type": "display_data"
    },
    {
     "data": {
      "application/json": {
       "ascii": false,
       "bar_format": null,
       "colour": null,
       "elapsed": 0.003358602523803711,
       "initial": 0,
       "n": 0,
       "ncols": null,
       "nrows": null,
       "postfix": null,
       "prefix": "Epoch 38/100",
       "rate": null,
       "total": 31,
       "unit": "batch",
       "unit_divisor": 1000,
       "unit_scale": false
      },
      "application/vnd.jupyter.widget-view+json": {
       "model_id": "6f25355ade284182ac9df1a56805374a",
       "version_major": 2,
       "version_minor": 0
      },
      "text/plain": [
       "Epoch 38/100:   0%|          | 0/31 [00:00<?, ?batch/s]"
      ]
     },
     "metadata": {},
     "output_type": "display_data"
    },
    {
     "data": {
      "application/json": {
       "ascii": false,
       "bar_format": null,
       "colour": null,
       "elapsed": 0.0032355785369873047,
       "initial": 0,
       "n": 0,
       "ncols": null,
       "nrows": null,
       "postfix": null,
       "prefix": "Epoch 39/100",
       "rate": null,
       "total": 31,
       "unit": "batch",
       "unit_divisor": 1000,
       "unit_scale": false
      },
      "application/vnd.jupyter.widget-view+json": {
       "model_id": "b079315baf4f4572963b721573381cbc",
       "version_major": 2,
       "version_minor": 0
      },
      "text/plain": [
       "Epoch 39/100:   0%|          | 0/31 [00:00<?, ?batch/s]"
      ]
     },
     "metadata": {},
     "output_type": "display_data"
    },
    {
     "data": {
      "application/json": {
       "ascii": false,
       "bar_format": null,
       "colour": null,
       "elapsed": 0.0032787322998046875,
       "initial": 0,
       "n": 0,
       "ncols": null,
       "nrows": null,
       "postfix": null,
       "prefix": "Epoch 40/100",
       "rate": null,
       "total": 31,
       "unit": "batch",
       "unit_divisor": 1000,
       "unit_scale": false
      },
      "application/vnd.jupyter.widget-view+json": {
       "model_id": "0f5f565fdd7f4ce09aa2586b8b18f452",
       "version_major": 2,
       "version_minor": 0
      },
      "text/plain": [
       "Epoch 40/100:   0%|          | 0/31 [00:00<?, ?batch/s]"
      ]
     },
     "metadata": {},
     "output_type": "display_data"
    },
    {
     "data": {
      "application/json": {
       "ascii": false,
       "bar_format": null,
       "colour": null,
       "elapsed": 0.0032656192779541016,
       "initial": 0,
       "n": 0,
       "ncols": null,
       "nrows": null,
       "postfix": null,
       "prefix": "Epoch 41/100",
       "rate": null,
       "total": 31,
       "unit": "batch",
       "unit_divisor": 1000,
       "unit_scale": false
      },
      "application/vnd.jupyter.widget-view+json": {
       "model_id": "cc61f0153641447e91deee60806052ab",
       "version_major": 2,
       "version_minor": 0
      },
      "text/plain": [
       "Epoch 41/100:   0%|          | 0/31 [00:00<?, ?batch/s]"
      ]
     },
     "metadata": {},
     "output_type": "display_data"
    },
    {
     "data": {
      "application/json": {
       "ascii": false,
       "bar_format": null,
       "colour": null,
       "elapsed": 0.0032453536987304688,
       "initial": 0,
       "n": 0,
       "ncols": null,
       "nrows": null,
       "postfix": null,
       "prefix": "Epoch 42/100",
       "rate": null,
       "total": 31,
       "unit": "batch",
       "unit_divisor": 1000,
       "unit_scale": false
      },
      "application/vnd.jupyter.widget-view+json": {
       "model_id": "2f450a5d55a142088585896133773a6f",
       "version_major": 2,
       "version_minor": 0
      },
      "text/plain": [
       "Epoch 42/100:   0%|          | 0/31 [00:00<?, ?batch/s]"
      ]
     },
     "metadata": {},
     "output_type": "display_data"
    },
    {
     "data": {
      "application/json": {
       "ascii": false,
       "bar_format": null,
       "colour": null,
       "elapsed": 0.0032308101654052734,
       "initial": 0,
       "n": 0,
       "ncols": null,
       "nrows": null,
       "postfix": null,
       "prefix": "Epoch 43/100",
       "rate": null,
       "total": 31,
       "unit": "batch",
       "unit_divisor": 1000,
       "unit_scale": false
      },
      "application/vnd.jupyter.widget-view+json": {
       "model_id": "5983258a8bc94b82a46c1216e776b47f",
       "version_major": 2,
       "version_minor": 0
      },
      "text/plain": [
       "Epoch 43/100:   0%|          | 0/31 [00:00<?, ?batch/s]"
      ]
     },
     "metadata": {},
     "output_type": "display_data"
    },
    {
     "data": {
      "application/json": {
       "ascii": false,
       "bar_format": null,
       "colour": null,
       "elapsed": 0.0033245086669921875,
       "initial": 0,
       "n": 0,
       "ncols": null,
       "nrows": null,
       "postfix": null,
       "prefix": "Epoch 44/100",
       "rate": null,
       "total": 31,
       "unit": "batch",
       "unit_divisor": 1000,
       "unit_scale": false
      },
      "application/vnd.jupyter.widget-view+json": {
       "model_id": "661c96fd192b4e1cb2038d6dbeb05088",
       "version_major": 2,
       "version_minor": 0
      },
      "text/plain": [
       "Epoch 44/100:   0%|          | 0/31 [00:00<?, ?batch/s]"
      ]
     },
     "metadata": {},
     "output_type": "display_data"
    },
    {
     "data": {
      "application/json": {
       "ascii": false,
       "bar_format": null,
       "colour": null,
       "elapsed": 0.0032465457916259766,
       "initial": 0,
       "n": 0,
       "ncols": null,
       "nrows": null,
       "postfix": null,
       "prefix": "Epoch 45/100",
       "rate": null,
       "total": 31,
       "unit": "batch",
       "unit_divisor": 1000,
       "unit_scale": false
      },
      "application/vnd.jupyter.widget-view+json": {
       "model_id": "e7b4a6030f5e4401816afdae66177542",
       "version_major": 2,
       "version_minor": 0
      },
      "text/plain": [
       "Epoch 45/100:   0%|          | 0/31 [00:00<?, ?batch/s]"
      ]
     },
     "metadata": {},
     "output_type": "display_data"
    },
    {
     "data": {
      "application/json": {
       "ascii": false,
       "bar_format": null,
       "colour": null,
       "elapsed": 0.003274679183959961,
       "initial": 0,
       "n": 0,
       "ncols": null,
       "nrows": null,
       "postfix": null,
       "prefix": "Epoch 46/100",
       "rate": null,
       "total": 31,
       "unit": "batch",
       "unit_divisor": 1000,
       "unit_scale": false
      },
      "application/vnd.jupyter.widget-view+json": {
       "model_id": "ca77f5e923414e8fa32c045107594e0c",
       "version_major": 2,
       "version_minor": 0
      },
      "text/plain": [
       "Epoch 46/100:   0%|          | 0/31 [00:00<?, ?batch/s]"
      ]
     },
     "metadata": {},
     "output_type": "display_data"
    },
    {
     "data": {
      "application/json": {
       "ascii": false,
       "bar_format": null,
       "colour": null,
       "elapsed": 0.0032210350036621094,
       "initial": 0,
       "n": 0,
       "ncols": null,
       "nrows": null,
       "postfix": null,
       "prefix": "Epoch 47/100",
       "rate": null,
       "total": 31,
       "unit": "batch",
       "unit_divisor": 1000,
       "unit_scale": false
      },
      "application/vnd.jupyter.widget-view+json": {
       "model_id": "aaf11cb0602f4ae2afaee7c790d4ac7f",
       "version_major": 2,
       "version_minor": 0
      },
      "text/plain": [
       "Epoch 47/100:   0%|          | 0/31 [00:00<?, ?batch/s]"
      ]
     },
     "metadata": {},
     "output_type": "display_data"
    },
    {
     "data": {
      "application/json": {
       "ascii": false,
       "bar_format": null,
       "colour": null,
       "elapsed": 0.0032286643981933594,
       "initial": 0,
       "n": 0,
       "ncols": null,
       "nrows": null,
       "postfix": null,
       "prefix": "Epoch 48/100",
       "rate": null,
       "total": 31,
       "unit": "batch",
       "unit_divisor": 1000,
       "unit_scale": false
      },
      "application/vnd.jupyter.widget-view+json": {
       "model_id": "f4e293060bc64ac5a02410c14e88d425",
       "version_major": 2,
       "version_minor": 0
      },
      "text/plain": [
       "Epoch 48/100:   0%|          | 0/31 [00:00<?, ?batch/s]"
      ]
     },
     "metadata": {},
     "output_type": "display_data"
    },
    {
     "data": {
      "application/json": {
       "ascii": false,
       "bar_format": null,
       "colour": null,
       "elapsed": 0.0031385421752929688,
       "initial": 0,
       "n": 0,
       "ncols": null,
       "nrows": null,
       "postfix": null,
       "prefix": "Epoch 49/100",
       "rate": null,
       "total": 31,
       "unit": "batch",
       "unit_divisor": 1000,
       "unit_scale": false
      },
      "application/vnd.jupyter.widget-view+json": {
       "model_id": "4ab9c32e2fe24f478b34bbf71ec3f116",
       "version_major": 2,
       "version_minor": 0
      },
      "text/plain": [
       "Epoch 49/100:   0%|          | 0/31 [00:00<?, ?batch/s]"
      ]
     },
     "metadata": {},
     "output_type": "display_data"
    },
    {
     "data": {
      "application/json": {
       "ascii": false,
       "bar_format": null,
       "colour": null,
       "elapsed": 0.003291606903076172,
       "initial": 0,
       "n": 0,
       "ncols": null,
       "nrows": null,
       "postfix": null,
       "prefix": "Epoch 50/100",
       "rate": null,
       "total": 31,
       "unit": "batch",
       "unit_divisor": 1000,
       "unit_scale": false
      },
      "application/vnd.jupyter.widget-view+json": {
       "model_id": "410289efcfd9481fbe52b4adaa5150c7",
       "version_major": 2,
       "version_minor": 0
      },
      "text/plain": [
       "Epoch 50/100:   0%|          | 0/31 [00:00<?, ?batch/s]"
      ]
     },
     "metadata": {},
     "output_type": "display_data"
    },
    {
     "data": {
      "application/json": {
       "ascii": false,
       "bar_format": null,
       "colour": null,
       "elapsed": 0.0032072067260742188,
       "initial": 0,
       "n": 0,
       "ncols": null,
       "nrows": null,
       "postfix": null,
       "prefix": "Epoch 51/100",
       "rate": null,
       "total": 31,
       "unit": "batch",
       "unit_divisor": 1000,
       "unit_scale": false
      },
      "application/vnd.jupyter.widget-view+json": {
       "model_id": "8ca429f5b3134dc48533479611579c68",
       "version_major": 2,
       "version_minor": 0
      },
      "text/plain": [
       "Epoch 51/100:   0%|          | 0/31 [00:00<?, ?batch/s]"
      ]
     },
     "metadata": {},
     "output_type": "display_data"
    },
    {
     "data": {
      "application/json": {
       "ascii": false,
       "bar_format": null,
       "colour": null,
       "elapsed": 0.0033164024353027344,
       "initial": 0,
       "n": 0,
       "ncols": null,
       "nrows": null,
       "postfix": null,
       "prefix": "Epoch 52/100",
       "rate": null,
       "total": 31,
       "unit": "batch",
       "unit_divisor": 1000,
       "unit_scale": false
      },
      "application/vnd.jupyter.widget-view+json": {
       "model_id": "869aecdf5f7041aca7160ddf635bd935",
       "version_major": 2,
       "version_minor": 0
      },
      "text/plain": [
       "Epoch 52/100:   0%|          | 0/31 [00:00<?, ?batch/s]"
      ]
     },
     "metadata": {},
     "output_type": "display_data"
    },
    {
     "data": {
      "application/json": {
       "ascii": false,
       "bar_format": null,
       "colour": null,
       "elapsed": 0.0033812522888183594,
       "initial": 0,
       "n": 0,
       "ncols": null,
       "nrows": null,
       "postfix": null,
       "prefix": "Epoch 53/100",
       "rate": null,
       "total": 31,
       "unit": "batch",
       "unit_divisor": 1000,
       "unit_scale": false
      },
      "application/vnd.jupyter.widget-view+json": {
       "model_id": "24a5d0ef3b7645df835a6c7eb1782617",
       "version_major": 2,
       "version_minor": 0
      },
      "text/plain": [
       "Epoch 53/100:   0%|          | 0/31 [00:00<?, ?batch/s]"
      ]
     },
     "metadata": {},
     "output_type": "display_data"
    },
    {
     "data": {
      "application/json": {
       "ascii": false,
       "bar_format": null,
       "colour": null,
       "elapsed": 0.003324747085571289,
       "initial": 0,
       "n": 0,
       "ncols": null,
       "nrows": null,
       "postfix": null,
       "prefix": "Epoch 54/100",
       "rate": null,
       "total": 31,
       "unit": "batch",
       "unit_divisor": 1000,
       "unit_scale": false
      },
      "application/vnd.jupyter.widget-view+json": {
       "model_id": "330e9f2ba56244668aff3e558721a723",
       "version_major": 2,
       "version_minor": 0
      },
      "text/plain": [
       "Epoch 54/100:   0%|          | 0/31 [00:00<?, ?batch/s]"
      ]
     },
     "metadata": {},
     "output_type": "display_data"
    },
    {
     "data": {
      "application/json": {
       "ascii": false,
       "bar_format": null,
       "colour": null,
       "elapsed": 0.0032405853271484375,
       "initial": 0,
       "n": 0,
       "ncols": null,
       "nrows": null,
       "postfix": null,
       "prefix": "Epoch 55/100",
       "rate": null,
       "total": 31,
       "unit": "batch",
       "unit_divisor": 1000,
       "unit_scale": false
      },
      "application/vnd.jupyter.widget-view+json": {
       "model_id": "aee1bf5d9624450ea500c6822adc222c",
       "version_major": 2,
       "version_minor": 0
      },
      "text/plain": [
       "Epoch 55/100:   0%|          | 0/31 [00:00<?, ?batch/s]"
      ]
     },
     "metadata": {},
     "output_type": "display_data"
    },
    {
     "data": {
      "application/json": {
       "ascii": false,
       "bar_format": null,
       "colour": null,
       "elapsed": 0.0032570362091064453,
       "initial": 0,
       "n": 0,
       "ncols": null,
       "nrows": null,
       "postfix": null,
       "prefix": "Epoch 56/100",
       "rate": null,
       "total": 31,
       "unit": "batch",
       "unit_divisor": 1000,
       "unit_scale": false
      },
      "application/vnd.jupyter.widget-view+json": {
       "model_id": "9d43c64a414f43cfa4c1aa3ff64ab8f8",
       "version_major": 2,
       "version_minor": 0
      },
      "text/plain": [
       "Epoch 56/100:   0%|          | 0/31 [00:00<?, ?batch/s]"
      ]
     },
     "metadata": {},
     "output_type": "display_data"
    },
    {
     "data": {
      "application/json": {
       "ascii": false,
       "bar_format": null,
       "colour": null,
       "elapsed": 0.003373861312866211,
       "initial": 0,
       "n": 0,
       "ncols": null,
       "nrows": null,
       "postfix": null,
       "prefix": "Epoch 57/100",
       "rate": null,
       "total": 31,
       "unit": "batch",
       "unit_divisor": 1000,
       "unit_scale": false
      },
      "application/vnd.jupyter.widget-view+json": {
       "model_id": "7f20b27c6b4f48628e605a41ac76782a",
       "version_major": 2,
       "version_minor": 0
      },
      "text/plain": [
       "Epoch 57/100:   0%|          | 0/31 [00:00<?, ?batch/s]"
      ]
     },
     "metadata": {},
     "output_type": "display_data"
    },
    {
     "data": {
      "application/json": {
       "ascii": false,
       "bar_format": null,
       "colour": null,
       "elapsed": 0.0033109188079833984,
       "initial": 0,
       "n": 0,
       "ncols": null,
       "nrows": null,
       "postfix": null,
       "prefix": "Epoch 58/100",
       "rate": null,
       "total": 31,
       "unit": "batch",
       "unit_divisor": 1000,
       "unit_scale": false
      },
      "application/vnd.jupyter.widget-view+json": {
       "model_id": "f88ca1aa39c5470bb17756bed8fa8519",
       "version_major": 2,
       "version_minor": 0
      },
      "text/plain": [
       "Epoch 58/100:   0%|          | 0/31 [00:00<?, ?batch/s]"
      ]
     },
     "metadata": {},
     "output_type": "display_data"
    },
    {
     "data": {
      "application/json": {
       "ascii": false,
       "bar_format": null,
       "colour": null,
       "elapsed": 0.0033659934997558594,
       "initial": 0,
       "n": 0,
       "ncols": null,
       "nrows": null,
       "postfix": null,
       "prefix": "Epoch 59/100",
       "rate": null,
       "total": 31,
       "unit": "batch",
       "unit_divisor": 1000,
       "unit_scale": false
      },
      "application/vnd.jupyter.widget-view+json": {
       "model_id": "0aa61eb1f5154d36b798010d3058c961",
       "version_major": 2,
       "version_minor": 0
      },
      "text/plain": [
       "Epoch 59/100:   0%|          | 0/31 [00:00<?, ?batch/s]"
      ]
     },
     "metadata": {},
     "output_type": "display_data"
    },
    {
     "data": {
      "application/json": {
       "ascii": false,
       "bar_format": null,
       "colour": null,
       "elapsed": 0.0031859874725341797,
       "initial": 0,
       "n": 0,
       "ncols": null,
       "nrows": null,
       "postfix": null,
       "prefix": "Epoch 60/100",
       "rate": null,
       "total": 31,
       "unit": "batch",
       "unit_divisor": 1000,
       "unit_scale": false
      },
      "application/vnd.jupyter.widget-view+json": {
       "model_id": "b11867107845450eae700af6577ad667",
       "version_major": 2,
       "version_minor": 0
      },
      "text/plain": [
       "Epoch 60/100:   0%|          | 0/31 [00:00<?, ?batch/s]"
      ]
     },
     "metadata": {},
     "output_type": "display_data"
    },
    {
     "data": {
      "application/json": {
       "ascii": false,
       "bar_format": null,
       "colour": null,
       "elapsed": 0.0032761096954345703,
       "initial": 0,
       "n": 0,
       "ncols": null,
       "nrows": null,
       "postfix": null,
       "prefix": "Epoch 61/100",
       "rate": null,
       "total": 31,
       "unit": "batch",
       "unit_divisor": 1000,
       "unit_scale": false
      },
      "application/vnd.jupyter.widget-view+json": {
       "model_id": "d4b441a954344908858d72660e094a50",
       "version_major": 2,
       "version_minor": 0
      },
      "text/plain": [
       "Epoch 61/100:   0%|          | 0/31 [00:00<?, ?batch/s]"
      ]
     },
     "metadata": {},
     "output_type": "display_data"
    },
    {
     "data": {
      "application/json": {
       "ascii": false,
       "bar_format": null,
       "colour": null,
       "elapsed": 0.003402233123779297,
       "initial": 0,
       "n": 0,
       "ncols": null,
       "nrows": null,
       "postfix": null,
       "prefix": "Epoch 62/100",
       "rate": null,
       "total": 31,
       "unit": "batch",
       "unit_divisor": 1000,
       "unit_scale": false
      },
      "application/vnd.jupyter.widget-view+json": {
       "model_id": "1aeb47292a1e4ef7a165442c54187992",
       "version_major": 2,
       "version_minor": 0
      },
      "text/plain": [
       "Epoch 62/100:   0%|          | 0/31 [00:00<?, ?batch/s]"
      ]
     },
     "metadata": {},
     "output_type": "display_data"
    },
    {
     "data": {
      "application/json": {
       "ascii": false,
       "bar_format": null,
       "colour": null,
       "elapsed": 0.003375530242919922,
       "initial": 0,
       "n": 0,
       "ncols": null,
       "nrows": null,
       "postfix": null,
       "prefix": "Epoch 63/100",
       "rate": null,
       "total": 31,
       "unit": "batch",
       "unit_divisor": 1000,
       "unit_scale": false
      },
      "application/vnd.jupyter.widget-view+json": {
       "model_id": "a1ee7f72c2d244b5865524d47e98e781",
       "version_major": 2,
       "version_minor": 0
      },
      "text/plain": [
       "Epoch 63/100:   0%|          | 0/31 [00:00<?, ?batch/s]"
      ]
     },
     "metadata": {},
     "output_type": "display_data"
    },
    {
     "data": {
      "application/json": {
       "ascii": false,
       "bar_format": null,
       "colour": null,
       "elapsed": 0.0033006668090820312,
       "initial": 0,
       "n": 0,
       "ncols": null,
       "nrows": null,
       "postfix": null,
       "prefix": "Epoch 64/100",
       "rate": null,
       "total": 31,
       "unit": "batch",
       "unit_divisor": 1000,
       "unit_scale": false
      },
      "application/vnd.jupyter.widget-view+json": {
       "model_id": "dfab0cdef79f452184d215ece47eea89",
       "version_major": 2,
       "version_minor": 0
      },
      "text/plain": [
       "Epoch 64/100:   0%|          | 0/31 [00:00<?, ?batch/s]"
      ]
     },
     "metadata": {},
     "output_type": "display_data"
    },
    {
     "data": {
      "application/json": {
       "ascii": false,
       "bar_format": null,
       "colour": null,
       "elapsed": 0.0033774375915527344,
       "initial": 0,
       "n": 0,
       "ncols": null,
       "nrows": null,
       "postfix": null,
       "prefix": "Epoch 65/100",
       "rate": null,
       "total": 31,
       "unit": "batch",
       "unit_divisor": 1000,
       "unit_scale": false
      },
      "application/vnd.jupyter.widget-view+json": {
       "model_id": "67e426fbe0dc4308bc09765ad3274e8e",
       "version_major": 2,
       "version_minor": 0
      },
      "text/plain": [
       "Epoch 65/100:   0%|          | 0/31 [00:00<?, ?batch/s]"
      ]
     },
     "metadata": {},
     "output_type": "display_data"
    },
    {
     "data": {
      "application/json": {
       "ascii": false,
       "bar_format": null,
       "colour": null,
       "elapsed": 0.003576040267944336,
       "initial": 0,
       "n": 0,
       "ncols": null,
       "nrows": null,
       "postfix": null,
       "prefix": "Epoch 66/100",
       "rate": null,
       "total": 31,
       "unit": "batch",
       "unit_divisor": 1000,
       "unit_scale": false
      },
      "application/vnd.jupyter.widget-view+json": {
       "model_id": "b7fd07e13b9f4381880114d119be43d5",
       "version_major": 2,
       "version_minor": 0
      },
      "text/plain": [
       "Epoch 66/100:   0%|          | 0/31 [00:00<?, ?batch/s]"
      ]
     },
     "metadata": {},
     "output_type": "display_data"
    },
    {
     "data": {
      "application/json": {
       "ascii": false,
       "bar_format": null,
       "colour": null,
       "elapsed": 0.003538370132446289,
       "initial": 0,
       "n": 0,
       "ncols": null,
       "nrows": null,
       "postfix": null,
       "prefix": "Epoch 67/100",
       "rate": null,
       "total": 31,
       "unit": "batch",
       "unit_divisor": 1000,
       "unit_scale": false
      },
      "application/vnd.jupyter.widget-view+json": {
       "model_id": "da3999b5cbb8471a9e381d4fb4daa7ff",
       "version_major": 2,
       "version_minor": 0
      },
      "text/plain": [
       "Epoch 67/100:   0%|          | 0/31 [00:00<?, ?batch/s]"
      ]
     },
     "metadata": {},
     "output_type": "display_data"
    },
    {
     "data": {
      "application/json": {
       "ascii": false,
       "bar_format": null,
       "colour": null,
       "elapsed": 0.0032472610473632812,
       "initial": 0,
       "n": 0,
       "ncols": null,
       "nrows": null,
       "postfix": null,
       "prefix": "Epoch 68/100",
       "rate": null,
       "total": 31,
       "unit": "batch",
       "unit_divisor": 1000,
       "unit_scale": false
      },
      "application/vnd.jupyter.widget-view+json": {
       "model_id": "6e65973ae5fe4aad866f598d71b1f1ac",
       "version_major": 2,
       "version_minor": 0
      },
      "text/plain": [
       "Epoch 68/100:   0%|          | 0/31 [00:00<?, ?batch/s]"
      ]
     },
     "metadata": {},
     "output_type": "display_data"
    },
    {
     "data": {
      "application/json": {
       "ascii": false,
       "bar_format": null,
       "colour": null,
       "elapsed": 0.0032935142517089844,
       "initial": 0,
       "n": 0,
       "ncols": null,
       "nrows": null,
       "postfix": null,
       "prefix": "Epoch 69/100",
       "rate": null,
       "total": 31,
       "unit": "batch",
       "unit_divisor": 1000,
       "unit_scale": false
      },
      "application/vnd.jupyter.widget-view+json": {
       "model_id": "386ca0495ceb40f7b4983bf6954dd231",
       "version_major": 2,
       "version_minor": 0
      },
      "text/plain": [
       "Epoch 69/100:   0%|          | 0/31 [00:00<?, ?batch/s]"
      ]
     },
     "metadata": {},
     "output_type": "display_data"
    },
    {
     "data": {
      "application/json": {
       "ascii": false,
       "bar_format": null,
       "colour": null,
       "elapsed": 0.0032591819763183594,
       "initial": 0,
       "n": 0,
       "ncols": null,
       "nrows": null,
       "postfix": null,
       "prefix": "Epoch 70/100",
       "rate": null,
       "total": 31,
       "unit": "batch",
       "unit_divisor": 1000,
       "unit_scale": false
      },
      "application/vnd.jupyter.widget-view+json": {
       "model_id": "37ddad819b8e42509d365f544e3818cd",
       "version_major": 2,
       "version_minor": 0
      },
      "text/plain": [
       "Epoch 70/100:   0%|          | 0/31 [00:00<?, ?batch/s]"
      ]
     },
     "metadata": {},
     "output_type": "display_data"
    },
    {
     "data": {
      "application/json": {
       "ascii": false,
       "bar_format": null,
       "colour": null,
       "elapsed": 0.0032765865325927734,
       "initial": 0,
       "n": 0,
       "ncols": null,
       "nrows": null,
       "postfix": null,
       "prefix": "Epoch 71/100",
       "rate": null,
       "total": 31,
       "unit": "batch",
       "unit_divisor": 1000,
       "unit_scale": false
      },
      "application/vnd.jupyter.widget-view+json": {
       "model_id": "ac7bc56baccd40e488bbf8474b8c5e59",
       "version_major": 2,
       "version_minor": 0
      },
      "text/plain": [
       "Epoch 71/100:   0%|          | 0/31 [00:00<?, ?batch/s]"
      ]
     },
     "metadata": {},
     "output_type": "display_data"
    },
    {
     "data": {
      "application/json": {
       "ascii": false,
       "bar_format": null,
       "colour": null,
       "elapsed": 0.003192424774169922,
       "initial": 0,
       "n": 0,
       "ncols": null,
       "nrows": null,
       "postfix": null,
       "prefix": "Epoch 72/100",
       "rate": null,
       "total": 31,
       "unit": "batch",
       "unit_divisor": 1000,
       "unit_scale": false
      },
      "application/vnd.jupyter.widget-view+json": {
       "model_id": "4b77c45c9d0948eb8b95e6ffa54647ab",
       "version_major": 2,
       "version_minor": 0
      },
      "text/plain": [
       "Epoch 72/100:   0%|          | 0/31 [00:00<?, ?batch/s]"
      ]
     },
     "metadata": {},
     "output_type": "display_data"
    },
    {
     "data": {
      "application/json": {
       "ascii": false,
       "bar_format": null,
       "colour": null,
       "elapsed": 0.0034508705139160156,
       "initial": 0,
       "n": 0,
       "ncols": null,
       "nrows": null,
       "postfix": null,
       "prefix": "Epoch 73/100",
       "rate": null,
       "total": 31,
       "unit": "batch",
       "unit_divisor": 1000,
       "unit_scale": false
      },
      "application/vnd.jupyter.widget-view+json": {
       "model_id": "34ac739c051f457b9904824af19472f6",
       "version_major": 2,
       "version_minor": 0
      },
      "text/plain": [
       "Epoch 73/100:   0%|          | 0/31 [00:00<?, ?batch/s]"
      ]
     },
     "metadata": {},
     "output_type": "display_data"
    },
    {
     "data": {
      "application/json": {
       "ascii": false,
       "bar_format": null,
       "colour": null,
       "elapsed": 0.0033469200134277344,
       "initial": 0,
       "n": 0,
       "ncols": null,
       "nrows": null,
       "postfix": null,
       "prefix": "Epoch 74/100",
       "rate": null,
       "total": 31,
       "unit": "batch",
       "unit_divisor": 1000,
       "unit_scale": false
      },
      "application/vnd.jupyter.widget-view+json": {
       "model_id": "4462efd1f3d0442383af9bd20763bd1c",
       "version_major": 2,
       "version_minor": 0
      },
      "text/plain": [
       "Epoch 74/100:   0%|          | 0/31 [00:00<?, ?batch/s]"
      ]
     },
     "metadata": {},
     "output_type": "display_data"
    },
    {
     "data": {
      "application/json": {
       "ascii": false,
       "bar_format": null,
       "colour": null,
       "elapsed": 0.003316164016723633,
       "initial": 0,
       "n": 0,
       "ncols": null,
       "nrows": null,
       "postfix": null,
       "prefix": "Epoch 75/100",
       "rate": null,
       "total": 31,
       "unit": "batch",
       "unit_divisor": 1000,
       "unit_scale": false
      },
      "application/vnd.jupyter.widget-view+json": {
       "model_id": "5caae94bf56840a4861474789066290d",
       "version_major": 2,
       "version_minor": 0
      },
      "text/plain": [
       "Epoch 75/100:   0%|          | 0/31 [00:00<?, ?batch/s]"
      ]
     },
     "metadata": {},
     "output_type": "display_data"
    },
    {
     "data": {
      "application/json": {
       "ascii": false,
       "bar_format": null,
       "colour": null,
       "elapsed": 0.0031664371490478516,
       "initial": 0,
       "n": 0,
       "ncols": null,
       "nrows": null,
       "postfix": null,
       "prefix": "Epoch 76/100",
       "rate": null,
       "total": 31,
       "unit": "batch",
       "unit_divisor": 1000,
       "unit_scale": false
      },
      "application/vnd.jupyter.widget-view+json": {
       "model_id": "fdc81d6a44ad4c3b9717c5230b3739df",
       "version_major": 2,
       "version_minor": 0
      },
      "text/plain": [
       "Epoch 76/100:   0%|          | 0/31 [00:00<?, ?batch/s]"
      ]
     },
     "metadata": {},
     "output_type": "display_data"
    },
    {
     "data": {
      "application/json": {
       "ascii": false,
       "bar_format": null,
       "colour": null,
       "elapsed": 0.003367900848388672,
       "initial": 0,
       "n": 0,
       "ncols": null,
       "nrows": null,
       "postfix": null,
       "prefix": "Epoch 77/100",
       "rate": null,
       "total": 31,
       "unit": "batch",
       "unit_divisor": 1000,
       "unit_scale": false
      },
      "application/vnd.jupyter.widget-view+json": {
       "model_id": "9bfe7d96fc2f43a7b7e34468f6235b75",
       "version_major": 2,
       "version_minor": 0
      },
      "text/plain": [
       "Epoch 77/100:   0%|          | 0/31 [00:00<?, ?batch/s]"
      ]
     },
     "metadata": {},
     "output_type": "display_data"
    },
    {
     "data": {
      "application/json": {
       "ascii": false,
       "bar_format": null,
       "colour": null,
       "elapsed": 0.0032701492309570312,
       "initial": 0,
       "n": 0,
       "ncols": null,
       "nrows": null,
       "postfix": null,
       "prefix": "Epoch 78/100",
       "rate": null,
       "total": 31,
       "unit": "batch",
       "unit_divisor": 1000,
       "unit_scale": false
      },
      "application/vnd.jupyter.widget-view+json": {
       "model_id": "176c7e85c617492db2249c9912b1cf61",
       "version_major": 2,
       "version_minor": 0
      },
      "text/plain": [
       "Epoch 78/100:   0%|          | 0/31 [00:00<?, ?batch/s]"
      ]
     },
     "metadata": {},
     "output_type": "display_data"
    },
    {
     "data": {
      "application/json": {
       "ascii": false,
       "bar_format": null,
       "colour": null,
       "elapsed": 0.003421783447265625,
       "initial": 0,
       "n": 0,
       "ncols": null,
       "nrows": null,
       "postfix": null,
       "prefix": "Epoch 79/100",
       "rate": null,
       "total": 31,
       "unit": "batch",
       "unit_divisor": 1000,
       "unit_scale": false
      },
      "application/vnd.jupyter.widget-view+json": {
       "model_id": "15d2a4bb849f4b53b621e0910c79d91a",
       "version_major": 2,
       "version_minor": 0
      },
      "text/plain": [
       "Epoch 79/100:   0%|          | 0/31 [00:00<?, ?batch/s]"
      ]
     },
     "metadata": {},
     "output_type": "display_data"
    },
    {
     "data": {
      "application/json": {
       "ascii": false,
       "bar_format": null,
       "colour": null,
       "elapsed": 0.003272533416748047,
       "initial": 0,
       "n": 0,
       "ncols": null,
       "nrows": null,
       "postfix": null,
       "prefix": "Epoch 80/100",
       "rate": null,
       "total": 31,
       "unit": "batch",
       "unit_divisor": 1000,
       "unit_scale": false
      },
      "application/vnd.jupyter.widget-view+json": {
       "model_id": "77837cc741bf403990d69e86ca204c1e",
       "version_major": 2,
       "version_minor": 0
      },
      "text/plain": [
       "Epoch 80/100:   0%|          | 0/31 [00:00<?, ?batch/s]"
      ]
     },
     "metadata": {},
     "output_type": "display_data"
    },
    {
     "data": {
      "application/json": {
       "ascii": false,
       "bar_format": null,
       "colour": null,
       "elapsed": 0.003166675567626953,
       "initial": 0,
       "n": 0,
       "ncols": null,
       "nrows": null,
       "postfix": null,
       "prefix": "Epoch 81/100",
       "rate": null,
       "total": 31,
       "unit": "batch",
       "unit_divisor": 1000,
       "unit_scale": false
      },
      "application/vnd.jupyter.widget-view+json": {
       "model_id": "29ba681055b845bdb2576d4d3632384d",
       "version_major": 2,
       "version_minor": 0
      },
      "text/plain": [
       "Epoch 81/100:   0%|          | 0/31 [00:00<?, ?batch/s]"
      ]
     },
     "metadata": {},
     "output_type": "display_data"
    },
    {
     "data": {
      "application/json": {
       "ascii": false,
       "bar_format": null,
       "colour": null,
       "elapsed": 0.0033326148986816406,
       "initial": 0,
       "n": 0,
       "ncols": null,
       "nrows": null,
       "postfix": null,
       "prefix": "Epoch 82/100",
       "rate": null,
       "total": 31,
       "unit": "batch",
       "unit_divisor": 1000,
       "unit_scale": false
      },
      "application/vnd.jupyter.widget-view+json": {
       "model_id": "5eada5183ee941e8984568efe3dbc051",
       "version_major": 2,
       "version_minor": 0
      },
      "text/plain": [
       "Epoch 82/100:   0%|          | 0/31 [00:00<?, ?batch/s]"
      ]
     },
     "metadata": {},
     "output_type": "display_data"
    },
    {
     "data": {
      "application/json": {
       "ascii": false,
       "bar_format": null,
       "colour": null,
       "elapsed": 0.0032677650451660156,
       "initial": 0,
       "n": 0,
       "ncols": null,
       "nrows": null,
       "postfix": null,
       "prefix": "Epoch 83/100",
       "rate": null,
       "total": 31,
       "unit": "batch",
       "unit_divisor": 1000,
       "unit_scale": false
      },
      "application/vnd.jupyter.widget-view+json": {
       "model_id": "41ad7d7b8dbe4f9b9d400fbd14a4f006",
       "version_major": 2,
       "version_minor": 0
      },
      "text/plain": [
       "Epoch 83/100:   0%|          | 0/31 [00:00<?, ?batch/s]"
      ]
     },
     "metadata": {},
     "output_type": "display_data"
    },
    {
     "data": {
      "application/json": {
       "ascii": false,
       "bar_format": null,
       "colour": null,
       "elapsed": 0.003247976303100586,
       "initial": 0,
       "n": 0,
       "ncols": null,
       "nrows": null,
       "postfix": null,
       "prefix": "Epoch 84/100",
       "rate": null,
       "total": 31,
       "unit": "batch",
       "unit_divisor": 1000,
       "unit_scale": false
      },
      "application/vnd.jupyter.widget-view+json": {
       "model_id": "686d45571bf846319caada0243b4b2c5",
       "version_major": 2,
       "version_minor": 0
      },
      "text/plain": [
       "Epoch 84/100:   0%|          | 0/31 [00:00<?, ?batch/s]"
      ]
     },
     "metadata": {},
     "output_type": "display_data"
    },
    {
     "data": {
      "application/json": {
       "ascii": false,
       "bar_format": null,
       "colour": null,
       "elapsed": 0.003208637237548828,
       "initial": 0,
       "n": 0,
       "ncols": null,
       "nrows": null,
       "postfix": null,
       "prefix": "Epoch 85/100",
       "rate": null,
       "total": 31,
       "unit": "batch",
       "unit_divisor": 1000,
       "unit_scale": false
      },
      "application/vnd.jupyter.widget-view+json": {
       "model_id": "fe3b5a39d0f046799120abbc538607de",
       "version_major": 2,
       "version_minor": 0
      },
      "text/plain": [
       "Epoch 85/100:   0%|          | 0/31 [00:00<?, ?batch/s]"
      ]
     },
     "metadata": {},
     "output_type": "display_data"
    },
    {
     "data": {
      "application/json": {
       "ascii": false,
       "bar_format": null,
       "colour": null,
       "elapsed": 0.0032613277435302734,
       "initial": 0,
       "n": 0,
       "ncols": null,
       "nrows": null,
       "postfix": null,
       "prefix": "Epoch 86/100",
       "rate": null,
       "total": 31,
       "unit": "batch",
       "unit_divisor": 1000,
       "unit_scale": false
      },
      "application/vnd.jupyter.widget-view+json": {
       "model_id": "861d2d9ce49d40f397455ac588e44277",
       "version_major": 2,
       "version_minor": 0
      },
      "text/plain": [
       "Epoch 86/100:   0%|          | 0/31 [00:00<?, ?batch/s]"
      ]
     },
     "metadata": {},
     "output_type": "display_data"
    },
    {
     "data": {
      "application/json": {
       "ascii": false,
       "bar_format": null,
       "colour": null,
       "elapsed": 0.003387451171875,
       "initial": 0,
       "n": 0,
       "ncols": null,
       "nrows": null,
       "postfix": null,
       "prefix": "Epoch 87/100",
       "rate": null,
       "total": 31,
       "unit": "batch",
       "unit_divisor": 1000,
       "unit_scale": false
      },
      "application/vnd.jupyter.widget-view+json": {
       "model_id": "57fa9b63e22a4aca9b11ad2b361fddf7",
       "version_major": 2,
       "version_minor": 0
      },
      "text/plain": [
       "Epoch 87/100:   0%|          | 0/31 [00:00<?, ?batch/s]"
      ]
     },
     "metadata": {},
     "output_type": "display_data"
    },
    {
     "data": {
      "application/json": {
       "ascii": false,
       "bar_format": null,
       "colour": null,
       "elapsed": 0.0033566951751708984,
       "initial": 0,
       "n": 0,
       "ncols": null,
       "nrows": null,
       "postfix": null,
       "prefix": "Epoch 88/100",
       "rate": null,
       "total": 31,
       "unit": "batch",
       "unit_divisor": 1000,
       "unit_scale": false
      },
      "application/vnd.jupyter.widget-view+json": {
       "model_id": "983a35ae1bbf4223ad0e5375f4a02b9b",
       "version_major": 2,
       "version_minor": 0
      },
      "text/plain": [
       "Epoch 88/100:   0%|          | 0/31 [00:00<?, ?batch/s]"
      ]
     },
     "metadata": {},
     "output_type": "display_data"
    },
    {
     "data": {
      "application/json": {
       "ascii": false,
       "bar_format": null,
       "colour": null,
       "elapsed": 0.0033838748931884766,
       "initial": 0,
       "n": 0,
       "ncols": null,
       "nrows": null,
       "postfix": null,
       "prefix": "Epoch 89/100",
       "rate": null,
       "total": 31,
       "unit": "batch",
       "unit_divisor": 1000,
       "unit_scale": false
      },
      "application/vnd.jupyter.widget-view+json": {
       "model_id": "a725af9ada214154ab24eddd7f8b649a",
       "version_major": 2,
       "version_minor": 0
      },
      "text/plain": [
       "Epoch 89/100:   0%|          | 0/31 [00:00<?, ?batch/s]"
      ]
     },
     "metadata": {},
     "output_type": "display_data"
    },
    {
     "data": {
      "application/json": {
       "ascii": false,
       "bar_format": null,
       "colour": null,
       "elapsed": 0.004820585250854492,
       "initial": 0,
       "n": 0,
       "ncols": null,
       "nrows": null,
       "postfix": null,
       "prefix": "Epoch 90/100",
       "rate": null,
       "total": 31,
       "unit": "batch",
       "unit_divisor": 1000,
       "unit_scale": false
      },
      "application/vnd.jupyter.widget-view+json": {
       "model_id": "c6576dc9f9e64575a5da90f133bcc343",
       "version_major": 2,
       "version_minor": 0
      },
      "text/plain": [
       "Epoch 90/100:   0%|          | 0/31 [00:00<?, ?batch/s]"
      ]
     },
     "metadata": {},
     "output_type": "display_data"
    },
    {
     "data": {
      "application/json": {
       "ascii": false,
       "bar_format": null,
       "colour": null,
       "elapsed": 0.0031223297119140625,
       "initial": 0,
       "n": 0,
       "ncols": null,
       "nrows": null,
       "postfix": null,
       "prefix": "Epoch 91/100",
       "rate": null,
       "total": 31,
       "unit": "batch",
       "unit_divisor": 1000,
       "unit_scale": false
      },
      "application/vnd.jupyter.widget-view+json": {
       "model_id": "577e45e4a39d408892a6b5cf9e2fc7b7",
       "version_major": 2,
       "version_minor": 0
      },
      "text/plain": [
       "Epoch 91/100:   0%|          | 0/31 [00:00<?, ?batch/s]"
      ]
     },
     "metadata": {},
     "output_type": "display_data"
    },
    {
     "data": {
      "application/json": {
       "ascii": false,
       "bar_format": null,
       "colour": null,
       "elapsed": 0.003355741500854492,
       "initial": 0,
       "n": 0,
       "ncols": null,
       "nrows": null,
       "postfix": null,
       "prefix": "Epoch 92/100",
       "rate": null,
       "total": 31,
       "unit": "batch",
       "unit_divisor": 1000,
       "unit_scale": false
      },
      "application/vnd.jupyter.widget-view+json": {
       "model_id": "1d41611a535042989983b3b6f30df00c",
       "version_major": 2,
       "version_minor": 0
      },
      "text/plain": [
       "Epoch 92/100:   0%|          | 0/31 [00:00<?, ?batch/s]"
      ]
     },
     "metadata": {},
     "output_type": "display_data"
    },
    {
     "data": {
      "application/json": {
       "ascii": false,
       "bar_format": null,
       "colour": null,
       "elapsed": 0.0033349990844726562,
       "initial": 0,
       "n": 0,
       "ncols": null,
       "nrows": null,
       "postfix": null,
       "prefix": "Epoch 93/100",
       "rate": null,
       "total": 31,
       "unit": "batch",
       "unit_divisor": 1000,
       "unit_scale": false
      },
      "application/vnd.jupyter.widget-view+json": {
       "model_id": "8f4750c6361f412bb23520b48d3b02b9",
       "version_major": 2,
       "version_minor": 0
      },
      "text/plain": [
       "Epoch 93/100:   0%|          | 0/31 [00:00<?, ?batch/s]"
      ]
     },
     "metadata": {},
     "output_type": "display_data"
    },
    {
     "data": {
      "application/json": {
       "ascii": false,
       "bar_format": null,
       "colour": null,
       "elapsed": 0.0033736228942871094,
       "initial": 0,
       "n": 0,
       "ncols": null,
       "nrows": null,
       "postfix": null,
       "prefix": "Epoch 94/100",
       "rate": null,
       "total": 31,
       "unit": "batch",
       "unit_divisor": 1000,
       "unit_scale": false
      },
      "application/vnd.jupyter.widget-view+json": {
       "model_id": "c50180f3611b46ca8031d14b5c857cda",
       "version_major": 2,
       "version_minor": 0
      },
      "text/plain": [
       "Epoch 94/100:   0%|          | 0/31 [00:00<?, ?batch/s]"
      ]
     },
     "metadata": {},
     "output_type": "display_data"
    },
    {
     "data": {
      "application/json": {
       "ascii": false,
       "bar_format": null,
       "colour": null,
       "elapsed": 0.003400087356567383,
       "initial": 0,
       "n": 0,
       "ncols": null,
       "nrows": null,
       "postfix": null,
       "prefix": "Epoch 95/100",
       "rate": null,
       "total": 31,
       "unit": "batch",
       "unit_divisor": 1000,
       "unit_scale": false
      },
      "application/vnd.jupyter.widget-view+json": {
       "model_id": "0ac605baae4f40e791f9807e16f0a1a4",
       "version_major": 2,
       "version_minor": 0
      },
      "text/plain": [
       "Epoch 95/100:   0%|          | 0/31 [00:00<?, ?batch/s]"
      ]
     },
     "metadata": {},
     "output_type": "display_data"
    },
    {
     "data": {
      "application/json": {
       "ascii": false,
       "bar_format": null,
       "colour": null,
       "elapsed": 0.003450632095336914,
       "initial": 0,
       "n": 0,
       "ncols": null,
       "nrows": null,
       "postfix": null,
       "prefix": "Epoch 96/100",
       "rate": null,
       "total": 31,
       "unit": "batch",
       "unit_divisor": 1000,
       "unit_scale": false
      },
      "application/vnd.jupyter.widget-view+json": {
       "model_id": "20b4f53b7e4241a78c6df0c0550759f5",
       "version_major": 2,
       "version_minor": 0
      },
      "text/plain": [
       "Epoch 96/100:   0%|          | 0/31 [00:00<?, ?batch/s]"
      ]
     },
     "metadata": {},
     "output_type": "display_data"
    },
    {
     "data": {
      "application/json": {
       "ascii": false,
       "bar_format": null,
       "colour": null,
       "elapsed": 0.003372669219970703,
       "initial": 0,
       "n": 0,
       "ncols": null,
       "nrows": null,
       "postfix": null,
       "prefix": "Epoch 97/100",
       "rate": null,
       "total": 31,
       "unit": "batch",
       "unit_divisor": 1000,
       "unit_scale": false
      },
      "application/vnd.jupyter.widget-view+json": {
       "model_id": "74e0055a9b32459f8b4c9c2007afe716",
       "version_major": 2,
       "version_minor": 0
      },
      "text/plain": [
       "Epoch 97/100:   0%|          | 0/31 [00:00<?, ?batch/s]"
      ]
     },
     "metadata": {},
     "output_type": "display_data"
    },
    {
     "data": {
      "application/json": {
       "ascii": false,
       "bar_format": null,
       "colour": null,
       "elapsed": 0.003534555435180664,
       "initial": 0,
       "n": 0,
       "ncols": null,
       "nrows": null,
       "postfix": null,
       "prefix": "Epoch 98/100",
       "rate": null,
       "total": 31,
       "unit": "batch",
       "unit_divisor": 1000,
       "unit_scale": false
      },
      "application/vnd.jupyter.widget-view+json": {
       "model_id": "2b02f4ea752549d98b3cf95b3b80b87f",
       "version_major": 2,
       "version_minor": 0
      },
      "text/plain": [
       "Epoch 98/100:   0%|          | 0/31 [00:00<?, ?batch/s]"
      ]
     },
     "metadata": {},
     "output_type": "display_data"
    },
    {
     "data": {
      "application/json": {
       "ascii": false,
       "bar_format": null,
       "colour": null,
       "elapsed": 0.0034589767456054688,
       "initial": 0,
       "n": 0,
       "ncols": null,
       "nrows": null,
       "postfix": null,
       "prefix": "Epoch 99/100",
       "rate": null,
       "total": 31,
       "unit": "batch",
       "unit_divisor": 1000,
       "unit_scale": false
      },
      "application/vnd.jupyter.widget-view+json": {
       "model_id": "bb87afe213b240349536e75318a1a4da",
       "version_major": 2,
       "version_minor": 0
      },
      "text/plain": [
       "Epoch 99/100:   0%|          | 0/31 [00:00<?, ?batch/s]"
      ]
     },
     "metadata": {},
     "output_type": "display_data"
    },
    {
     "data": {
      "application/json": {
       "ascii": false,
       "bar_format": null,
       "colour": null,
       "elapsed": 0.003406047821044922,
       "initial": 0,
       "n": 0,
       "ncols": null,
       "nrows": null,
       "postfix": null,
       "prefix": "Epoch 100/100",
       "rate": null,
       "total": 31,
       "unit": "batch",
       "unit_divisor": 1000,
       "unit_scale": false
      },
      "application/vnd.jupyter.widget-view+json": {
       "model_id": "32ee78c2b6d8458881d2fadedecc66a1",
       "version_major": 2,
       "version_minor": 0
      },
      "text/plain": [
       "Epoch 100/100:   0%|          | 0/31 [00:00<?, ?batch/s]"
      ]
     },
     "metadata": {},
     "output_type": "display_data"
    },
    {
     "name": "stdout",
     "output_type": "stream",
     "text": [
      "\n",
      "Generating samples from trained model...\n",
      "Generated 2500 samples\n",
      "\n",
      "Final fidelity: 0.7428755760192871\n",
      "\n",
      "Training data statistics:\n",
      "Mean magnetization: 1.9895000457763672\n",
      "Generated data statistics:\n",
      "Mean magnetization: 1.9012000560760498\n"
     ]
    }
   ],
   "source": [
    "import jax\n",
    "import jax.numpy as jnp\n",
    "import flax.nnx as nnx\n",
    "import numpy as np\n",
    "from typing import Tuple, Optional, Dict, Any\n",
    "from functools import partial\n",
    "import matplotlib.pyplot as plt\n",
    "from tqdm.auto import tqdm\n",
    "\n",
    "class RBM(nnx.Module):\n",
    "    \"\"\"Restricted Boltzmann Machine for quantum wavefunction reconstruction.\"\"\"\n",
    "    \n",
    "    def __init__(self, num_visible: int, num_hidden: int, rngs: nnx.Rngs):\n",
    "        \"\"\"\n",
    "        Initialize RBM.\n",
    "        \n",
    "        Args:\n",
    "            num_visible: Number of visible units (qubits)\n",
    "            num_hidden: Number of hidden units\n",
    "            rngs: Random number generator state\n",
    "        \"\"\"\n",
    "        self.num_visible = num_visible\n",
    "        self.num_hidden = num_hidden\n",
    "        \n",
    "        # Initialize weights and biases\n",
    "        self.W = nnx.Param(\n",
    "            jax.random.normal(rngs.params(), (num_visible, num_hidden)) * 0.01\n",
    "        )\n",
    "        self.a = nnx.Param(jnp.zeros(num_visible))  # visible bias\n",
    "        self.b = nnx.Param(jnp.zeros(num_hidden))   # hidden bias\n",
    "    \n",
    "    def visible_to_hidden(self, v: jnp.ndarray) -> jnp.ndarray:\n",
    "        \"\"\"Compute hidden unit activations given visible units.\"\"\"\n",
    "        return jnp.dot(v, self.W.value) + self.b.value\n",
    "    \n",
    "    def hidden_to_visible(self, h: jnp.ndarray) -> jnp.ndarray:\n",
    "        \"\"\"Compute visible unit activations given hidden units.\"\"\"\n",
    "        return jnp.dot(h, self.W.value.T) + self.a.value\n",
    "    \n",
    "    def sample_hidden_given_visible(self, v: jnp.ndarray, key: jax.random.PRNGKey) -> jnp.ndarray:\n",
    "        \"\"\"Sample hidden units given visible units.\"\"\"\n",
    "        h_prob = jax.nn.sigmoid(self.visible_to_hidden(v))\n",
    "        return jax.random.bernoulli(key, h_prob).astype(jnp.float32)\n",
    "    \n",
    "    def sample_visible_given_hidden(self, h: jnp.ndarray, key: jax.random.PRNGKey) -> jnp.ndarray:\n",
    "        \"\"\"Sample visible units given hidden units.\"\"\"\n",
    "        v_prob = jax.nn.sigmoid(self.hidden_to_visible(h))\n",
    "        return jax.random.bernoulli(key, v_prob).astype(jnp.float32)\n",
    "    \n",
    "    def gibbs_step(self, v: jnp.ndarray, key: jax.random.PRNGKey) -> Tuple[jnp.ndarray, jnp.ndarray]:\n",
    "        \"\"\"Perform one Gibbs sampling step.\"\"\"\n",
    "        key1, key2 = jax.random.split(key)\n",
    "        h = self.sample_hidden_given_visible(v, key1)\n",
    "        v_new = self.sample_visible_given_hidden(h, key2)\n",
    "        return v_new, h\n",
    "    \n",
    "    def log_probability(self, v: jnp.ndarray) -> jnp.ndarray:\n",
    "        \"\"\"Compute log probability of visible configuration.\"\"\"\n",
    "        # For positive wavefunction: log|ψ(v)|² = 2 * Re[log ψ(v)]\n",
    "        hidden_term = jnp.sum(jnp.log(1 + jnp.exp(self.visible_to_hidden(v))))\n",
    "        visible_term = jnp.dot(v, self.a.value)\n",
    "        return 2 * (visible_term + hidden_term)  # Factor of 2 for |ψ|²\n",
    "\n",
    "\n",
    "class PositiveWavefunction(nnx.Module):\n",
    "    \"\"\"Positive real wavefunction using RBM.\"\"\"\n",
    "    \n",
    "    def __init__(self, num_visible: int, num_hidden: int, rngs: nnx.Rngs):\n",
    "        self.rbm = RBM(num_visible, num_hidden, rngs)\n",
    "        self.num_visible = num_visible\n",
    "    \n",
    "    def log_amplitude(self, v: jnp.ndarray) -> jnp.ndarray:\n",
    "        \"\"\"Compute log amplitude of wavefunction.\"\"\"\n",
    "        hidden_term = jnp.sum(jnp.log(1 + jnp.exp(self.rbm.visible_to_hidden(v))))\n",
    "        visible_term = jnp.dot(v, self.rbm.a.value)\n",
    "        return visible_term + hidden_term\n",
    "    \n",
    "    def amplitude(self, v: jnp.ndarray) -> jnp.ndarray:\n",
    "        \"\"\"Compute amplitude of wavefunction.\"\"\"\n",
    "        return jnp.exp(self.log_amplitude(v))\n",
    "    \n",
    "    def probability(self, v: jnp.ndarray) -> jnp.ndarray:\n",
    "        \"\"\"Compute probability |ψ(v)|².\"\"\"\n",
    "        return jnp.exp(2 * self.log_amplitude(v))\n",
    "    \n",
    "    def sample(self, num_samples: int, num_chains: int, key: jax.random.PRNGKey) -> jnp.ndarray:\n",
    "        \"\"\"Generate samples using Gibbs sampling.\"\"\"\n",
    "        # Initialize random configurations\n",
    "        key, subkey = jax.random.split(key)\n",
    "        v = jax.random.bernoulli(subkey, 0.5, (num_chains, self.num_visible)).astype(jnp.float32)\n",
    "        \n",
    "        samples = []\n",
    "        for i in range(num_samples):\n",
    "            key, subkey = jax.random.split(key)\n",
    "            v, _ = self.rbm.gibbs_step(v, subkey)\n",
    "            if i >= num_samples // 2:  # Burn-in period\n",
    "                samples.append(v)\n",
    "        \n",
    "        return jnp.concatenate(samples, axis=0)\n",
    "\n",
    "\n",
    "def contrastive_divergence_loss(model: PositiveWavefunction, \n",
    "                               data_batch: jnp.ndarray, \n",
    "                               k: int,\n",
    "                               key: jax.random.PRNGKey) -> jnp.ndarray:\n",
    "    \"\"\"Compute contrastive divergence loss.\"\"\"\n",
    "    batch_size = data_batch.shape[0]\n",
    "    \n",
    "    # Positive phase\n",
    "    pos_hidden_prob = jax.nn.sigmoid(model.rbm.visible_to_hidden(data_batch))\n",
    "    \n",
    "    # Negative phase - k steps of Gibbs sampling\n",
    "    v_neg = data_batch\n",
    "    for _ in range(k):\n",
    "        key, subkey = jax.random.split(key)\n",
    "        v_neg, _ = jax.vmap(model.rbm.gibbs_step, in_axes=(0, None))(v_neg, subkey)\n",
    "    \n",
    "    neg_hidden_prob = jax.nn.sigmoid(model.rbm.visible_to_hidden(v_neg))\n",
    "    \n",
    "    # Compute gradients for CD\n",
    "    pos_weights_grad = jnp.mean(data_batch[:, :, None] * pos_hidden_prob[:, None, :], axis=0)\n",
    "    neg_weights_grad = jnp.mean(v_neg[:, :, None] * neg_hidden_prob[:, None, :], axis=0)\n",
    "    \n",
    "    pos_visible_grad = jnp.mean(data_batch, axis=0)\n",
    "    neg_visible_grad = jnp.mean(v_neg, axis=0)\n",
    "    \n",
    "    pos_hidden_grad = jnp.mean(pos_hidden_prob, axis=0)\n",
    "    neg_hidden_grad = jnp.mean(neg_hidden_prob, axis=0)\n",
    "    \n",
    "    # Compute loss (negative log-likelihood approximation)\n",
    "    loss = (jnp.sum((pos_weights_grad - neg_weights_grad)**2) + \n",
    "            jnp.sum((pos_visible_grad - neg_visible_grad)**2) + \n",
    "            jnp.sum((pos_hidden_grad - neg_hidden_grad)**2))\n",
    "    \n",
    "    return loss\n",
    "\n",
    "\n",
    "def compute_fidelity(model: PositiveWavefunction, \n",
    "                    true_psi: jnp.ndarray, \n",
    "                    hilbert_space: jnp.ndarray) -> float:\n",
    "    \"\"\"Compute fidelity between reconstructed and true wavefunction.\"\"\"\n",
    "    # Get model amplitudes\n",
    "    model_amplitudes = jax.vmap(model.amplitude)(hilbert_space)\n",
    "    \n",
    "    # Normalize both wavefunctions\n",
    "    model_norm = jnp.sqrt(jnp.sum(model_amplitudes**2))\n",
    "    true_norm = jnp.sqrt(jnp.sum(true_psi**2))\n",
    "    \n",
    "    model_normalized = model_amplitudes / model_norm\n",
    "    true_normalized = true_psi / true_norm\n",
    "    \n",
    "    # Compute fidelity |<ψ_true|ψ_model>|²\n",
    "    overlap = jnp.abs(jnp.sum(jnp.conj(true_normalized) * model_normalized))**2\n",
    "    return float(overlap)\n",
    "\n",
    "\n",
    "def train_step(model: PositiveWavefunction, \n",
    "               optimizer: nnx.Optimizer,\n",
    "               data_batch: jnp.ndarray,\n",
    "               k: int,\n",
    "               key: jax.random.PRNGKey) -> float:\n",
    "    \"\"\"Perform one training step.\"\"\"\n",
    "    \n",
    "    def loss_fn(model):\n",
    "        return contrastive_divergence_loss(model, data_batch, k, key)\n",
    "    \n",
    "    loss, grads = nnx.value_and_grad(loss_fn)(model)\n",
    "    optimizer.update(grads)\n",
    "    \n",
    "    return float(loss)\n",
    "\n",
    "\n",
    "class QuCumberTrainer:\n",
    "    \"\"\"Trainer for quantum wavefunction reconstruction.\"\"\"\n",
    "    \n",
    "    def __init__(self, \n",
    "                 num_visible: int,\n",
    "                 num_hidden: int,\n",
    "                 learning_rate: float = 0.01,\n",
    "                 seed: int = 42):\n",
    "        self.key = jax.random.PRNGKey(seed)\n",
    "        \n",
    "        # Initialize model\n",
    "        self.key, model_key = jax.random.split(self.key)\n",
    "        rngs = nnx.Rngs(model_key)\n",
    "        self.model = PositiveWavefunction(num_visible, num_hidden, rngs)\n",
    "        \n",
    "        # Initialize optimizer\n",
    "        self.optimizer = nnx.Optimizer(self.model, optax.adam(learning_rate))\n",
    "        \n",
    "    def train(self, \n",
    "              train_data: np.ndarray,\n",
    "              true_psi: Optional[np.ndarray] = None,\n",
    "              epochs: int = 100,\n",
    "              batch_size: int = 32,\n",
    "              k: int = 1,\n",
    "              verbose: bool = True,\n",
    "              progress_bar: bool = True) -> Dict[str, list]:\n",
    "        \"\"\"Train the model.\"\"\"\n",
    "        \n",
    "        train_data = jnp.array(train_data)\n",
    "        history = {'loss': [], 'fidelity': []}\n",
    "        \n",
    "        # Generate Hilbert space for fidelity calculation\n",
    "        if true_psi is not None:\n",
    "            hilbert_space = jnp.array([\n",
    "                [int(b) for b in format(i, f'0{self.model.num_visible}b')]\n",
    "                for i in range(2**self.model.num_visible)\n",
    "            ]).astype(jnp.float32)\n",
    "            true_psi = jnp.array(true_psi)\n",
    "        \n",
    "        num_batches = len(train_data) // batch_size\n",
    "        \n",
    "        # Initialize progress bar\n",
    "        if progress_bar:\n",
    "            epoch_iterator = tqdm(range(epochs), desc=\"Training\", unit=\"epoch\")\n",
    "        else:\n",
    "            epoch_iterator = range(epochs)\n",
    "        \n",
    "        for epoch in epoch_iterator:\n",
    "            epoch_loss = 0.0\n",
    "            \n",
    "            # Shuffle data\n",
    "            self.key, subkey = jax.random.split(self.key)\n",
    "            perm = jax.random.permutation(subkey, len(train_data))\n",
    "            shuffled_data = train_data[perm]\n",
    "            \n",
    "            # Progress bar for batches within epoch\n",
    "            if progress_bar and verbose:\n",
    "                batch_iterator = tqdm(range(num_batches), \n",
    "                                    desc=f\"Epoch {epoch+1}/{epochs}\", \n",
    "                                    leave=False, \n",
    "                                    unit=\"batch\")\n",
    "            else:\n",
    "                batch_iterator = range(num_batches)\n",
    "            \n",
    "            for batch_idx in batch_iterator:\n",
    "                batch_start = batch_idx * batch_size\n",
    "                batch_end = batch_start + batch_size\n",
    "                batch_data = shuffled_data[batch_start:batch_end]\n",
    "                \n",
    "                self.key, subkey = jax.random.split(self.key)\n",
    "                loss = train_step(self.model, self.optimizer, batch_data, k, subkey)\n",
    "                epoch_loss += loss\n",
    "                \n",
    "                # Update batch progress bar with current loss\n",
    "                if progress_bar and verbose and hasattr(batch_iterator, 'set_postfix'):\n",
    "                    batch_iterator.set_postfix({'batch_loss': f'{loss:.4f}'})\n",
    "            \n",
    "            avg_loss = epoch_loss / num_batches\n",
    "            history['loss'].append(avg_loss)\n",
    "            \n",
    "            # Compute fidelity if true wavefunction provided\n",
    "            if true_psi is not None:\n",
    "                fidelity = compute_fidelity(self.model, true_psi, hilbert_space)\n",
    "                history['fidelity'].append(fidelity)\n",
    "            else:\n",
    "                history['fidelity'].append(0.0)\n",
    "            \n",
    "            # Update epoch progress bar\n",
    "            if progress_bar:\n",
    "                postfix_dict = {'loss': f'{avg_loss:.6f}'}\n",
    "                if true_psi is not None:\n",
    "                    postfix_dict['fidelity'] = f'{fidelity:.6f}'\n",
    "                epoch_iterator.set_postfix(postfix_dict)\n",
    "            \n",
    "            # Print periodic updates if verbose but no progress bar\n",
    "            elif verbose and epoch % 10 == 0:\n",
    "                if true_psi is not None:\n",
    "                    print(f\"Epoch {epoch}: Loss = {avg_loss:.6f}, Fidelity = {fidelity:.6f}\")\n",
    "                else:\n",
    "                    print(f\"Epoch {epoch}: Loss = {avg_loss:.6f}\")\n",
    "        \n",
    "        if progress_bar:\n",
    "            epoch_iterator.close()\n",
    "        \n",
    "        return history\n",
    "    \n",
    "    def generate_samples(self, num_samples: int, num_chains: int = 10) -> np.ndarray:\n",
    "        \"\"\"Generate samples from the trained model.\"\"\"\n",
    "        self.key, subkey = jax.random.split(self.key)\n",
    "        samples = self.model.sample(num_samples, num_chains, subkey)\n",
    "        return np.array(samples)\n",
    "\n",
    "\n",
    "# Example usage and demonstration\n",
    "def create_tfim_data(num_qubits: int, h: float, num_samples: int = 1000) -> Tuple[np.ndarray, np.ndarray]:\n",
    "    \"\"\"Create synthetic TFIM data for demonstration.\"\"\"\n",
    "    # This is a simplified example - in practice you'd use exact diagonalization\n",
    "    # or quantum Monte Carlo to generate training data\n",
    "    \n",
    "    # For demonstration, create random binary data\n",
    "    np.random.seed(42)\n",
    "    data = np.random.randint(0, 2, (num_samples, num_qubits)).astype(np.float32)\n",
    "    \n",
    "    # Create a simple \"true\" wavefunction (normalized random amplitudes)\n",
    "    true_psi = np.random.random(2**num_qubits).astype(np.float32)\n",
    "    true_psi = true_psi / np.linalg.norm(true_psi)\n",
    "    \n",
    "    return data, true_psi\n",
    "\n",
    "\n",
    "def plot_training_history(history: Dict[str, list]):\n",
    "    \"\"\"Plot training loss and fidelity.\"\"\"\n",
    "    fig, (ax1, ax2) = plt.subplots(1, 2, figsize=(12, 4))\n",
    "    \n",
    "    ax1.plot(history['loss'])\n",
    "    ax1.set_xlabel('Epoch')\n",
    "    ax1.set_ylabel('Loss')\n",
    "    ax1.set_title('Training Loss')\n",
    "    ax1.set_yscale('log')\n",
    "    \n",
    "    ax2.plot(history['fidelity'])\n",
    "    ax2.set_xlabel('Epoch')\n",
    "    ax2.set_ylabel('Fidelity')\n",
    "    ax2.set_title('Reconstruction Fidelity')\n",
    "    \n",
    "    plt.tight_layout()\n",
    "    plt.show()\n",
    "\n",
    "\n",
    "# Import required libraries\n",
    "try:\n",
    "    import optax\n",
    "except ImportError:\n",
    "    print(\"Please install optax: pip install optax\")\n",
    "\n",
    "try:\n",
    "    from tqdm.auto import tqdm\n",
    "except ImportError:\n",
    "    print(\"Please install tqdm for progress bars: pip install tqdm\")\n",
    "    # Fallback to simple range if tqdm is not available\n",
    "    tqdm = range\n",
    "\n",
    "\n",
    "if __name__ == \"__main__\":\n",
    "    # Demonstration\n",
    "    print(\"JAX QuCumber: Pure State Reconstruction\")\n",
    "    print(\"=\" * 40)\n",
    "    \n",
    "    # Parameters\n",
    "    num_qubits = 4\n",
    "    num_hidden = 8\n",
    "    h_field = 1.0\n",
    "    \n",
    "    # Generate training data\n",
    "    print(\"Generating training data...\")\n",
    "    train_data, true_psi = create_tfim_data(num_qubits, h_field, num_samples=2000)\n",
    "    \n",
    "    # Initialize trainer\n",
    "    print(\"Initializing trainer...\")\n",
    "    trainer = QuCumberTrainer(\n",
    "        num_visible=num_qubits,\n",
    "        num_hidden=num_hidden,\n",
    "        learning_rate=0.01\n",
    "    )\n",
    "    \n",
    "    # Train model\n",
    "    print(\"Training model...\")\n",
    "    history = trainer.train(\n",
    "        train_data=train_data,\n",
    "        true_psi=true_psi,\n",
    "        epochs=100,\n",
    "        batch_size=64,\n",
    "        k=1,\n",
    "        verbose=True,\n",
    "        progress_bar=True  # Enable progress bars\n",
    "    )\n",
    "    \n",
    "    # Generate samples\n",
    "    print(\"\\nGenerating samples from trained model...\")\n",
    "    generated_samples = trainer.generate_samples(num_samples=500)\n",
    "    print(f\"Generated {len(generated_samples)} samples\")\n",
    "    \n",
    "    # Plot results\n",
    "    print(\"\\nFinal fidelity:\", history['fidelity'][-1])\n",
    "    \n",
    "    # Display some statistics\n",
    "    print(f\"\\nTraining data statistics:\")\n",
    "    print(f\"Mean magnetization: {np.mean(np.sum(train_data, axis=1))}\")\n",
    "    print(f\"Generated data statistics:\")\n",
    "    print(f\"Mean magnetization: {np.mean(np.sum(generated_samples, axis=1))}\")"
   ]
  },
  {
   "cell_type": "code",
   "execution_count": 4,
   "id": "edfa7444-3094-4adf-a504-9b5c55327326",
   "metadata": {},
   "outputs": [
    {
     "data": {
      "image/png": "[encoded data removed]",
      "text/plain": [
       "<Figure size 1200x400 with 2 Axes>"
      ]
     },
     "metadata": {},
     "output_type": "display_data"
    }
   ],
   "source": [
    "plot_training_history(history)"
   ]
  },
  {
   "cell_type": "code",
   "execution_count": 5,
   "id": "db54adec-6c4f-4644-9214-5b0b30514692",
   "metadata": {},
   "outputs": [
    {
     "name": "stdout",
     "output_type": "stream",
     "text": [
      "/bin/bash: line 1: scalene: command not found\n"
     ]
    },
    {
     "name": "stderr",
     "output_type": "stream",
     "text": [
      "/usr/lib64/python3.11/pty.py:89: RuntimeWarning: os.fork() was called. os.fork() is incompatible with multithreaded code, and JAX is multithreaded, so this will likely lead to a deadlock.\n",
      "  pid, fd = os.forkpty()\n"
     ]
    }
   ],
   "source": [
    "!scalene --help"
   ]
  },
  {
   "cell_type": "code",
   "execution_count": 6,
   "id": "ad7cef12-a6d6-49f5-b5f2-85e37cd40ea9",
   "metadata": {},
   "outputs": [
    {
     "name": "stdout",
     "output_type": "stream",
     "text": [
      "Defaulting to user installation because normal site-packages is not writeable\n",
      "Requirement already satisfied: scalene in /home/users/u0001529/ondemand/jupyter/aarch64/lib/python3.11/site-packages (1.5.51)\n",
      "Requirement already satisfied: wheel>=0.36.1 in /home/users/u0001529/ondemand/jupyter/aarch64/lib/python3.11/site-packages (from scalene) (0.45.1)\n",
      "Requirement already satisfied: rich>=10.7.0 in /home/users/u0001529/ondemand/jupyter/aarch64/lib/python3.11/site-packages (from scalene) (13.9.4)\n",
      "Requirement already satisfied: cloudpickle>=2.2.1 in /home/users/u0001529/ondemand/jupyter/aarch64/lib/python3.11/site-packages (from scalene) (3.1.1)\n",
      "Requirement already satisfied: nvidia-ml-py>=12.555.43 in /home/users/u0001529/ondemand/jupyter/aarch64/lib/python3.11/site-packages (from scalene) (12.570.86)\n",
      "Requirement already satisfied: Jinja2>=3.0.3 in /usr/local/lib/python3.11/site-packages (from scalene) (3.1.5)\n",
      "Requirement already satisfied: psutil>=5.9.2 in /usr/local/lib64/python3.11/site-packages (from scalene) (7.0.0)\n",
      "Requirement already satisfied: numpy!=1.27,>=1.24.0 in /home/users/u0001529/ondemand/jupyter/aarch64/lib/python3.11/site-packages (from scalene) (1.26.4)\n",
      "Requirement already satisfied: pydantic>=2.6 in /home/users/u0001529/ondemand/jupyter/aarch64/lib/python3.11/site-packages (from scalene) (2.11.4)\n",
      "Requirement already satisfied: MarkupSafe>=2.0 in /usr/local/lib64/python3.11/site-packages (from Jinja2>=3.0.3->scalene) (3.0.2)\n",
      "Requirement already satisfied: annotated-types>=0.6.0 in /home/users/u0001529/ondemand/jupyter/aarch64/lib/python3.11/site-packages (from pydantic>=2.6->scalene) (0.7.0)\n",
      "Requirement already satisfied: pydantic-core==2.33.2 in /home/users/u0001529/ondemand/jupyter/aarch64/lib/python3.11/site-packages (from pydantic>=2.6->scalene) (2.33.2)\n",
      "Requirement already satisfied: typing-extensions>=4.12.2 in /usr/local/lib/python3.11/site-packages (from pydantic>=2.6->scalene) (4.12.2)\n",
      "Requirement already satisfied: typing-inspection>=0.4.0 in /home/users/u0001529/ondemand/jupyter/aarch64/lib/python3.11/site-packages (from pydantic>=2.6->scalene) (0.4.0)\n",
      "Requirement already satisfied: markdown-it-py>=2.2.0 in /home/users/u0001529/ondemand/jupyter/aarch64/lib/python3.11/site-packages (from rich>=10.7.0->scalene) (3.0.0)\n",
      "Requirement already satisfied: pygments<3.0.0,>=2.13.0 in /usr/local/lib/python3.11/site-packages (from rich>=10.7.0->scalene) (2.19.1)\n",
      "Requirement already satisfied: mdurl~=0.1 in /home/users/u0001529/ondemand/jupyter/aarch64/lib/python3.11/site-packages (from markdown-it-py>=2.2.0->rich>=10.7.0->scalene) (0.1.2)\n",
      "\n",
      "\u001b[1m[\u001b[0m\u001b[34;49mnotice\u001b[0m\u001b[1;39;49m]\u001b[0m\u001b[39;49m A new release of pip is available: \u001b[0m\u001b[31;49m25.1\u001b[0m\u001b[39;49m -> \u001b[0m\u001b[32;49m25.1.1\u001b[0m\n",
      "\u001b[1m[\u001b[0m\u001b[34;49mnotice\u001b[0m\u001b[1;39;49m]\u001b[0m\u001b[39;49m To update, run: \u001b[0m\u001b[32;49mpip install --upgrade pip\u001b[0m\n"
     ]
    }
   ],
   "source": [
    "!pip install scalene"
   ]
  },
  {
   "cell_type": "code",
   "execution_count": 7,
   "id": "3dadb584-1e5a-41e3-9b65-7a5676fb5a4d",
   "metadata": {},
   "outputs": [
    {
     "name": "stdout",
     "output_type": "stream",
     "text": [
      "Defaulting to user installation because normal site-packages is not writeable\n",
      "Requirement already satisfied: pip in /home/users/u0001529/ondemand/jupyter/aarch64/lib/python3.11/site-packages (25.1)\n",
      "Collecting pip\n",
      "  Downloading pip-25.1.1-py3-none-any.whl.metadata (3.6 kB)\n",
      "Downloading pip-25.1.1-py3-none-any.whl (1.8 MB)\n",
      "\u001b[2K   \u001b[90m━━━━━━━━━━━━━━━━━━━━━━━━━━━━━━━━━━━━━━━━\u001b[0m \u001b[32m1.8/1.8 MB\u001b[0m \u001b[31m32.6 MB/s\u001b[0m eta \u001b[36m0:00:00\u001b[0m\n",
      "Installing collected packages: pip\n",
      "  Attempting uninstall: pip\n",
      "    Found existing installation: pip 25.1\n",
      "    Uninstalling pip-25.1:\n",
      "      Successfully uninstalled pip-25.1\n",
      "\u001b[33m  WARNING: The scripts pip, pip3 and pip3.11 are installed in '/home/users/u0001529/ondemand/jupyter/aarch64/bin' which is not on PATH.\n",
      "  Consider adding this directory to PATH or, if you prefer to suppress this warning, use --no-warn-script-location.\u001b[0m\u001b[33m\n",
      "Successfully installed pip-25.1.1\n"
     ]
    }
   ],
   "source": [
    "!pip install --upgrade pip"
   ]
  },
  {
   "cell_type": "code",
   "execution_count": 9,
   "id": "82b5c036-a3ae-4a2c-8634-768f127ed0e1",
   "metadata": {},
   "outputs": [
    {
     "name": "stdout",
     "output_type": "stream",
     "text": [
      "Defaulting to user installation because normal site-packages is not writeable\n",
      "Requirement already satisfied: scalene in /home/users/u0001529/ondemand/jupyter/aarch64/lib/python3.11/site-packages (1.5.51)\n",
      "Requirement already satisfied: wheel>=0.36.1 in /home/users/u0001529/ondemand/jupyter/aarch64/lib/python3.11/site-packages (from scalene) (0.45.1)\n",
      "Requirement already satisfied: rich>=10.7.0 in /home/users/u0001529/ondemand/jupyter/aarch64/lib/python3.11/site-packages (from scalene) (13.9.4)\n",
      "Requirement already satisfied: cloudpickle>=2.2.1 in /home/users/u0001529/ondemand/jupyter/aarch64/lib/python3.11/site-packages (from scalene) (3.1.1)\n",
      "Requirement already satisfied: nvidia-ml-py>=12.555.43 in /home/users/u0001529/ondemand/jupyter/aarch64/lib/python3.11/site-packages (from scalene) (12.570.86)\n",
      "Requirement already satisfied: Jinja2>=3.0.3 in /usr/local/lib/python3.11/site-packages (from scalene) (3.1.5)\n",
      "Requirement already satisfied: psutil>=5.9.2 in /usr/local/lib64/python3.11/site-packages (from scalene) (7.0.0)\n",
      "Requirement already satisfied: numpy!=1.27,>=1.24.0 in /home/users/u0001529/ondemand/jupyter/aarch64/lib/python3.11/site-packages (from scalene) (1.26.4)\n",
      "Requirement already satisfied: pydantic>=2.6 in /home/users/u0001529/ondemand/jupyter/aarch64/lib/python3.11/site-packages (from scalene) (2.11.4)\n",
      "Requirement already satisfied: MarkupSafe>=2.0 in /usr/local/lib64/python3.11/site-packages (from Jinja2>=3.0.3->scalene) (3.0.2)\n",
      "Requirement already satisfied: annotated-types>=0.6.0 in /home/users/u0001529/ondemand/jupyter/aarch64/lib/python3.11/site-packages (from pydantic>=2.6->scalene) (0.7.0)\n",
      "Requirement already satisfied: pydantic-core==2.33.2 in /home/users/u0001529/ondemand/jupyter/aarch64/lib/python3.11/site-packages (from pydantic>=2.6->scalene) (2.33.2)\n",
      "Requirement already satisfied: typing-extensions>=4.12.2 in /usr/local/lib/python3.11/site-packages (from pydantic>=2.6->scalene) (4.12.2)\n",
      "Requirement already satisfied: typing-inspection>=0.4.0 in /home/users/u0001529/ondemand/jupyter/aarch64/lib/python3.11/site-packages (from pydantic>=2.6->scalene) (0.4.0)\n",
      "Requirement already satisfied: markdown-it-py>=2.2.0 in /home/users/u0001529/ondemand/jupyter/aarch64/lib/python3.11/site-packages (from rich>=10.7.0->scalene) (3.0.0)\n",
      "Requirement already satisfied: pygments<3.0.0,>=2.13.0 in /usr/local/lib/python3.11/site-packages (from rich>=10.7.0->scalene) (2.19.1)\n",
      "Requirement already satisfied: mdurl~=0.1 in /home/users/u0001529/ondemand/jupyter/aarch64/lib/python3.11/site-packages (from markdown-it-py>=2.2.0->rich>=10.7.0->scalene) (0.1.2)\n"
     ]
    }
   ],
   "source": [
    "!python -m pip install scalene"
   ]
  },
  {
   "cell_type": "code",
   "execution_count": 10,
   "id": "816e2ab1-d952-409e-9f79-044695cb0081",
   "metadata": {},
   "outputs": [
    {
     "name": "stdout",
     "output_type": "stream",
     "text": [
      "Defaulting to user installation because normal site-packages is not writeable\n",
      "Requirement already satisfied: pytest in /home/users/u0001529/ondemand/jupyter/aarch64/lib/python3.11/site-packages (8.3.5)\n",
      "Requirement already satisfied: iniconfig in /home/users/u0001529/ondemand/jupyter/aarch64/lib/python3.11/site-packages (from pytest) (2.1.0)\n",
      "Requirement already satisfied: packaging in /usr/local/lib/python3.11/site-packages (from pytest) (24.2)\n",
      "Requirement already satisfied: pluggy<2,>=1.5 in /home/users/u0001529/ondemand/jupyter/aarch64/lib/python3.11/site-packages (from pytest) (1.6.0)\n"
     ]
    }
   ],
   "source": [
    "!python -m pip install pytest"
   ]
  },
  {
   "cell_type": "code",
   "execution_count": null,
   "id": "939f14fe-fa2f-4831-9943-faf231fd01b4",
   "metadata": {},
   "outputs": [],
   "source": [
    "!"
   ]
  }
 ],
 "metadata": {
  "kernelspec": {
   "display_name": "Python 3 (ipykernel)",
   "language": "python",
   "name": "python3"
  },
  "language_info": {
   "codemirror_mode": {
    "name": "ipython",
    "version": 3
   },
   "file_extension": ".py",
   "mimetype": "text/x-python",
   "name": "python",
   "nbconvert_exporter": "python",
   "pygments_lexer": "ipython3",
   "version": "3.11.9"
  }
 },
 "nbformat": 4,
 "nbformat_minor": 5
}

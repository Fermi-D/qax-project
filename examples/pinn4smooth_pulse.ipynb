{
 "cells": [
  {
   "cell_type": "markdown",
   "id": "f6e109a2-7fe1-4542-9c23-e2a847cd9874",
   "metadata": {},
   "source": [
    "# Robust quantum gates using smooth pulses and physics-informed neural networks"
   ]
  },
  {
   "cell_type": "code",
   "execution_count": 1,
   "id": "e575eb31-f1e8-4701-96a5-6029c315735e",
   "metadata": {},
   "outputs": [],
   "source": [
    "import matplotlib.pyplot as plt\n",
    "import jax.numpy as jnp\n",
    "from jax import jit\n",
    "from functools import partial\n",
    "from jax.scipy.linalg import expm\n",
    "import jax\n",
    "\n",
    "import sys\n",
    "sys.path.append(\"/home/users/u0001529/ondemand/qax\")\n",
    "\n",
    "%load_ext autoreload\n",
    "%autoreload 2\n",
    "from qax.dynamics import state as qs\n",
    "from qax import operators as qo\n",
    "from qax import utils"
   ]
  },
  {
   "cell_type": "markdown",
   "id": "bda503ac-c7f6-4d8c-8f52-c060d316a1ab",
   "metadata": {},
   "source": [
    "## System Hamiltonian"
   ]
  },
  {
   "cell_type": "markdown",
   "id": "320c88d8-11da-4b9c-b396-fefb24a11f46",
   "metadata": {},
   "source": [
    "<div style=\"text-align: center\">\n",
    "<img src=\"./figures/transmon-resonator.png\" width=\"500\" height=\"400\">\n",
    "</div>"
   ]
  },
  {
   "cell_type": "markdown",
   "id": "df77a302-3643-435a-86f0-97430f83060b",
   "metadata": {},
   "source": [
    "$$\n",
    "\\begin{align*}\n",
    "K = \\frac{1}{2} C_{\\rm r} \\phi_{\\rm r}^2 + \\frac{1}{2} C_{\\rm g} \\\n",
    "\\end{align*}\n",
    "$$"
   ]
  },
  {
   "cell_type": "markdown",
   "id": "faf921cb-50aa-4921-b702-782b7a8096a3",
   "metadata": {},
   "source": [
    "## Parameter settings"
   ]
  },
  {
   "cell_type": "code",
   "execution_count": null,
   "id": "9bbd57fd-3ddf-4fc8-b6cc-069f1047b880",
   "metadata": {},
   "outputs": [],
   "source": [
    "# "
   ]
  }
 ],
 "metadata": {
  "kernelspec": {
   "display_name": "Python 3 (ipykernel)",
   "language": "python",
   "name": "python3"
  },
  "language_info": {
   "codemirror_mode": {
    "name": "ipython",
    "version": 3
   },
   "file_extension": ".py",
   "mimetype": "text/x-python",
   "name": "python",
   "nbconvert_exporter": "python",
   "pygments_lexer": "ipython3",
   "version": "3.11.9"
  }
 },
 "nbformat": 4,
 "nbformat_minor": 5
}

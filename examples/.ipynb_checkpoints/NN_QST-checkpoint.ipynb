{
 "cells": [
  {
   "cell_type": "code",
   "execution_count": 1,
   "id": "eb35a92e-54e4-4090-9a14-0936e322d786",
   "metadata": {},
   "outputs": [],
   "source": [
    "import jax\n",
    "import jax.numpy as jnp\n",
    "from flax import nnx\n",
    "from functools import partial\n",
    "import optax"
   ]
  },
  {
   "cell_type": "code",
   "execution_count": null,
   "id": "76a863e9-e828-4cc2-9c70-ebd621b88203",
   "metadata": {},
   "outputs": [],
   "source": [
    "class RBM(nnx.Module):\n",
    "    def __init__(self, n_vnodes: int, n_hnodes: int, rngs: nnx.Rngs, use_gpu: bool):\n",
    "        self.n_vnodes = n_vnodes\n",
    "        self.n_hnodes = n_hnodes\n",
    "        self.W = nnx.Param(jax.random.uniform(key, (self.n_vnodes, self.n_hnodes)))\n",
    "        self.b = nnx.Param(jnp.zeros((self.n_vnodes,)))\n",
    "        self.c = nnx.Param(jnp.zeros((self.n_hnodes,)))\n",
    "        \n",
    "    def energy(self, v: jax.Array, h: jax.Array) -> jax.Array:\n",
    "        r\"\"\"\n",
    "        E \\left( \\vb*{v}, \\vb*{h}, \\vb*{\\theta} \\right)\n",
    "        &= - \\vb*{b}^\\top \\vb*{v} - \\vb*{c}^\\top \\vb*{h} - \\vb*{v}^\\top \\vb*{W} \\vb*{h}\n",
    "        \"\"\"\n",
    "        f_term = jnp.inner(self.b, v)\n",
    "        s_term = jnp.inner(self.c, h)\n",
    "        t_term = jnp.inner(v, jnp.dot(self.W, h))\n",
    "\n",
    "        return -(f_term + s_term + t_term)\n",
    "        \n",
    "    def free_energy(self, ):\n",
    "        r\"\"\"\n",
    "        $$\n",
    "        F \\left(  \\right)\n",
    "        &= \n",
    "        $$\n",
    "        \"\"\"\n",
    "\n",
    "    def prob_vi_given_hj(self, h_j):\n",
    "        r\"\"\"\n",
    "        P \\left( v_i | \\vb*{h}, vb*{\\theta} \\right)\n",
    "        &= \\frac{\\exp \\left\\{ \\left( b_i + \\sum_j w_{ij} h_j \\right) v_i \\right\\}}{1 + \\exp \\left( b_i + \\sum_j w_{ij} h_j \\right)}\n",
    "        \"\"\"\n",
    "        top = expm\n",
    "        bottom = 1 + \n",
    "\n",
    "        return top/bottom\n",
    "\n",
    "    def sample_v_given_h(self, h):\n",
    "        r\"\"\"\n",
    "\n",
    "        \"\"\"\n",
    "        \n",
    "\n",
    "    def train(self, \n",
    "\n",
    "class "
   ]
  },
  {
   "cell_type": "code",
   "execution_count": 1,
   "id": "50cc01ba-24cd-4192-b568-3582000298a0",
   "metadata": {},
   "outputs": [
    {
     "name": "stdout",
     "output_type": "stream",
     "text": [
      "259 μs ± 7.34 μs per loop (mean ± std. dev. of 7 runs, 1,000 loops each)\n"
     ]
    }
   ],
   "source": [
    "import jax\n",
    "import jax.numpy as jnp\n",
    "\n",
    "# 乱数生成用のキーを作成\n",
    "key = jax.random.PRNGKey(42)\n",
    "\n",
    "# 成功確率 p を指定（例えば 0.5）\n",
    "p = 0.5\n",
    "\n",
    "# サンプルの形状を指定（ここでは 10 個のサンプルを生成）\n",
    "%timeit jax.random.bernoulli(key, p, shape=(10,)).astype(jnp.int32)"
   ]
  },
  {
   "cell_type": "code",
   "execution_count": 14,
   "id": "bbc99fb0-d7cd-4877-8fe3-0e6e4e05155c",
   "metadata": {},
   "outputs": [
    {
     "name": "stdout",
     "output_type": "stream",
     "text": [
      "[CudaDevice(id=0)]\n"
     ]
    }
   ],
   "source": [
    "key = jax.random.PRNGKey(0)\n",
    "h = jax.random.bernoulli(key, p=0.5, shape=(10,), dtype=jnp.int32)"
   ]
  },
  {
   "cell_type": "code",
   "execution_count": 15,
   "id": "7c606717-a33b-4c73-94c5-ebed3b802109",
   "metadata": {},
   "outputs": [],
   "source": [
    "n_vnode = 5\n",
    "n_hnode = 10\n",
    "\n",
    "key = jax.random.PRNGKey(2025)\n",
    "v = jax.random.bernoulli(key, p=0.5, shape=(n_vnode,)).astype(jnp.int32)\n",
    "h = jax.random.bernoulli(key, p=0.5, shape=(n_hnode,)).astype(jnp.int32)\n",
    "weights = jax.random.uniform(key, shape=(n_vnode, n_hnode))\n",
    "b = jax.random.uniform(key, shape=(n_vnode,))\n",
    "c = jax.random.uniform(key, shape=(n_hnode,))"
   ]
  },
  {
   "cell_type": "code",
   "execution_count": 16,
   "id": "6d46442e-81b6-40fe-ae8d-270269af977a",
   "metadata": {},
   "outputs": [
    {
     "data": {
      "text/plain": [
       "Array([0.8404184 , 0.00783707, 0.0256714 , 0.9613719 , 0.93888927],      dtype=float32)"
      ]
     },
     "execution_count": 16,
     "metadata": {},
     "output_type": "execute_result"
    }
   ],
   "source": [
    "top = jax.lax.exp((b+jnp.dot(weights, h))*v)\n",
    "bottom = 1 + jax.lax.exp(b+jnp.dot(weights, h))\n",
    "jax.lax.clamp(0.0, top/bottom, 1.0)"
   ]
  },
  {
   "cell_type": "code",
   "execution_count": 4,
   "id": "94458fd9-29e9-44d3-bf70-545720471e75",
   "metadata": {},
   "outputs": [
    {
     "data": {
      "text/plain": [
       "Array([0, 0, 1, 1, 0], dtype=int32)"
      ]
     },
     "execution_count": 4,
     "metadata": {},
     "output_type": "execute_result"
    }
   ],
   "source": [
    "def prob_v_given_h(self, h):\n",
    "    top = jax.lax.exp((b+jnp.dot(weights, h))*v)\n",
    "    bottom = 1 + jax.lax.exp(b+jnp.dot(weights, h))\n",
    "    return jax.lax.clamp(0.0, top/bottom, 1.0)"
   ]
  },
  {
   "cell_type": "code",
   "execution_count": null,
   "id": "7be966f7-7bc4-4ed9-a8cb-a2e1f626d443",
   "metadata": {},
   "outputs": [],
   "source": [
    "def sample_v_given_h(self, h):\n",
    "    "
   ]
  }
 ],
 "metadata": {
  "kernelspec": {
   "display_name": "Python 3 (ipykernel)",
   "language": "python",
   "name": "python3"
  },
  "language_info": {
   "codemirror_mode": {
    "name": "ipython",
    "version": 3
   },
   "file_extension": ".py",
   "mimetype": "text/x-python",
   "name": "python",
   "nbconvert_exporter": "python",
   "pygments_lexer": "ipython3",
   "version": "3.11.9"
  }
 },
 "nbformat": 4,
 "nbformat_minor": 5
}

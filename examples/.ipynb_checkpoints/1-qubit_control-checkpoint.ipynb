{
 "cells": [
  {
   "cell_type": "markdown",
   "id": "78d4c7d1-e78d-444e-8278-6d97b627872d",
   "metadata": {},
   "source": [
    "# 1-qubit contorol simulation"
   ]
  },
  {
   "cell_type": "code",
   "execution_count": 33,
   "id": "55eb61c1-b536-406d-b7af-736cc1e072cc",
   "metadata": {},
   "outputs": [
    {
     "name": "stdout",
     "output_type": "stream",
     "text": [
      "The autoreload extension is already loaded. To reload it, use:\n",
      "  %reload_ext autoreload\n"
     ]
    }
   ],
   "source": [
    "import matplotlib.pyplot as plt\n",
    "import jax.numpy as jnp\n",
    "from jax import jit\n",
    "from functools import partial\n",
    "from jax.scipy.linalg import expm\n",
    "\n",
    "import sys\n",
    "sys.path.append(\"/home/users/u0001529/ondemand/qax\")\n",
    "\n",
    "%load_ext autoreload\n",
    "%autoreload 2\n",
    "from qax.dynamics import state as qs\n",
    "from qax import operators as qo\n",
    "from qax import utils"
   ]
  },
  {
   "cell_type": "markdown",
   "id": "2a4540a8-f5cf-4d84-9157-4fa2cee3f28b",
   "metadata": {},
   "source": [
    "## System Hamiltonian"
   ]
  },
  {
   "cell_type": "markdown",
   "id": "126a1a40-6334-4e72-8dab-0b84a9f42e9f",
   "metadata": {},
   "source": [
    "<div style=\"text-align: center\">\n",
    "<img src=\"./figures/transmon-resonator_system.png\" width=\"500\" height=\"400\">\n",
    "</div>"
   ]
  },
  {
   "cell_type": "markdown",
   "id": "b5657302-c1bc-42e2-995c-0a55490b2752",
   "metadata": {},
   "source": [
    "The Hamiltonian for a single transmon and a resonator can be written as follows:\n",
    "$$\n",
    "\\begin{align}\n",
    "\\hat{H}_{\\rm 1q} / \\hbar &= \\left\\{ \\omega_{\\rm q} - \\chi \\left( 1 + 2 \\hat{a}^\\dagger \\hat{a} \\right) \\right\\} \\frac{\\hat{\\sigma}_{\\rm z}}{2} + \\omega_{\\rm r} \\hat{a}^\\dagger \\hat{a} \\\\\n",
    "\\hat{H}_{\\rm drive} / \\hbar &= \\Omega (t) \\left( \\hat{a}^\\dagger e^{-i\\omega_{\\rm d}t} + \\hat{a} e^{i\\omega_{\\rm d}t} \\right) + \\frac{\\Omega (t)}{\\Delta_{\\rm qr}} g \\left( \\hat{\\sigma}_+ e^{-i\\omega_{\\rm d}t} + \\hat{\\sigma}_-e^{i\\omega_{\\rm d}t} \\right)\n",
    "\\end{align}\n",
    "$$\n",
    "full Hamiltonian:\n",
    "\n",
    "$$\n",
    "\\begin{align}\n",
    "\\hat{H}_{\\rm full} / \\hbar \n",
    "&= \\hat{H}_{\\rm 1q} + \\hat{H}_{\\rm drive} \\\\\n",
    "&= \\left\\{ \\omega_{\\rm q} - \\chi \\left( 1 + 2 \\hat{a}^\\dagger \\hat{a} \\right) \\right\\} \\frac{\\hat{\\sigma}_{\\rm z}}{2} + \\omega_{\\rm r} \\hat{a}^\\dagger \\hat{a} + \\Omega (t) \\left( \\hat{a}^\\dagger e^{-i\\omega_{\\rm d}t} + \\hat{a} e^{i\\omega_{\\rm d}t} \\right) + \\frac{\\Omega (t)}{\\Delta_{\\rm qr}} g \\left( \\hat{\\sigma}_+ e^{-i\\omega_{\\rm d}t} + \\hat{\\sigma}_-e^{i\\omega_{\\rm d}t} \\right)\n",
    "\\end{align}\n",
    "$$\n",
    "We\n",
    "$$\n",
    "\\begin{align}\n",
    "\\hat{H}_{\\rm full}^{\\rm rot} / \\hbar \n",
    "&= \\left( \\omega_{\\rm r}-\\omega_{\\rm d}  \\right) \\hat{a}^\\dagger \\hat{a} + \\Omega (t) \\left( \\hat{a}+\\hat{a}^\\dagger \\right) + \\left[ \\omega_{\\rm q}-\\chi \\left( 1+2\\hat{a}^\\dagger \\hat{a} \\right) -\\omega_{\\rm d} \\right] \\frac{\\hat{\\sigma}_{\\rm z}}{2} - \\frac{4g \\Omega (t)}{\\Delta_{\\rm qr}} \\frac{\\hat{\\sigma}_{\\rm x}}{2}\n",
    "\\end{align}\n",
    "$$\n",
    "We consider the case of $\\omega_{\\rm d} = \\omega_{\\rm q}-\\chi$\n",
    "$$\n",
    "\\begin{align}\n",
    "\\hat{H}_{\\rm full}^{\\rm rot} / \\hbar \n",
    "&= \n",
    "\\end{align}\n",
    "$$"
   ]
  },
  {
   "cell_type": "markdown",
   "id": "65bdad45-ef59-45c5-a251-f52c0c4540a2",
   "metadata": {},
   "source": [
    "Summary of one transmon control Hamiltonian\n",
    "$$\n",
    "\\begin{align}\n",
    "{\\rm 2-level approximation} : \\hat{H}_{\\rm full}^{\\rm rot}\n",
    "\\end{align}\n",
    "$$"
   ]
  },
  {
   "cell_type": "markdown",
   "id": "0d0f91d6-194b-4e79-96de-05f2c9b2e292",
   "metadata": {},
   "source": [
    "$$\n",
    "\\begin{align*}\n",
    "\\hat{H}_{\\rm 1q} &= \\\\\n",
    "\\hat{U}_{\\rm eval}(\\tau) \n",
    "&= \\exp \\left( -i \\hat{H}_{\\rm 1q} \\tau / \\hbar \\right) \\\\\n",
    "&= \n",
    "\\begin{pmatrix} \n",
    "  a_{11} & a_{12} & \\dots  & a_{1n} \\\\\n",
    "  a_{21} & a_{22} & \\dots  & a_{2n} \\\\\n",
    "  \\vdots & \\vdots & \\ddots & \\vdots \\\\\n",
    "  a_{m1} & a_{m2} & \\dots  & a_{mn}\n",
    "\\end{pmatrix} \n",
    "\\end{align*}\n",
    "$$"
   ]
  },
  {
   "cell_type": "code",
   "execution_count": 36,
   "id": "1aed9429-906b-4569-8169-f3607f6b91cb",
   "metadata": {},
   "outputs": [],
   "source": [
    "# parameter settings\n",
    "hbar = 1\n",
    "w_ge = 2*jnp.pi * 5.627*10**9 \n",
    "w_gf = 2*jnp.pi * 5.480*10**9 \n",
    "w_r = 2*jnp.pi * 7.433*10**9\n",
    "delta_qr = w_r - w_ge # difference of freq between transmon & resonator\n",
    "alpha = 2*(w_gf - w_ge) # anharmonicity\n",
    "chi = 2*jnp.pi * 2.5*10**6 # dispersice shift\n",
    "\n",
    "# operator settings\n",
    "n_photon = 10**3\n",
    "a = jnp.kron(qo.identity(2), qo.annihilate(n_photon))\n",
    "a_dag = jnp.kron(qo.identity(2), qo.create(n_photon))\n",
    "pauli_z = jnp.kron(qo.pauli_z(), qo.identity(n_photon))\n",
    "pauli_x = jnp.kron(qo.pauli_x(), qo.identity(n_photon))\n",
    "\n",
    "# initial state\n",
    "init_state = jnp.kron(qs.n_qubit(1), qs.vaccum(n_photon)) # |qubit, resonator>\n",
    "\n",
    "# Hamiltonian\n",
    "H =  \n",
    "#teval_ops = expm(H)"
   ]
  },
  {
   "cell_type": "markdown",
   "id": "da6d3e3d-dd1c-47f5-a121-3346fc2cafcb",
   "metadata": {},
   "source": [
    "## Rabi oscillation"
   ]
  },
  {
   "cell_type": "markdown",
   "id": "fff370ee-87eb-4852-abf5-0dbfa0674885",
   "metadata": {},
   "source": [
    "### Schrodinger equation solver"
   ]
  },
  {
   "cell_type": "code",
   "execution_count": null,
   "id": "8879155d-d05e-4371-8f26-dfa4bc900e09",
   "metadata": {},
   "outputs": [],
   "source": [
    "@partial(jit, static_argnums=(0, 1, 2, 3, 4, ))\n",
    "def Schrodinger(H: jax.Array, init_vec: jax.Array, t_save: jax.Array) -> jax.Array:\n",
    "    \"\"\"\n",
    "    Solve the Schrodinger equation.\n",
    "    Args:\n",
    "        H: Hamiltonian\n",
    "        init_vec: initial state vector\n",
    "        t_span: tuple, (t_start, t_end), the time range.\n",
    "        dt: float, time step.\n",
    "        hbar: float, Planck's constant divided by 2π (default: 1.0).\n",
    "    \n",
    "    Returns:\n",
    "        t_vals: jnp.ndarray, array of time points.\n",
    "        rho_t: jnp.ndarray, array of density matrices at each time point.\n",
    "    \"\"\"\n",
    "    rhs = -1.0j * H\n",
    "    equation = lambda t, vec, args: rhs\n",
    "    ode = ODETerm(equation)\n",
    "    integrator = Dopri5()\n",
    "    saveat = SaveAt(ts=jnp.arange(start_time, end_time, time_step))\n",
    "    stepsize_controller = PIDController(rtol=1e-5, atol=1e-5)\n",
    "\n",
    "    solver = diffeqsolve(ode, integrator, t0=start_time, t1=end_time, dt0=step_time, y0=vec_0, saveat=saveat, stepsize_controller=stepsize_controller)\n",
    "    \n",
    "    return solver"
   ]
  },
  {
   "cell_type": "code",
   "execution_count": null,
   "id": "d820b5ac-cc96-496f-b9fa-3c293d13c56b",
   "metadata": {},
   "outputs": [],
   "source": [
    "@partial(jit, static_argnums=(0, 1, 2, 3, 4, ))\n",
    "def constant(amp, dt) -> float:\n",
    "    f = lambda amp, t, freq: jnp.where(jnp.sin(2 * jnp.pi * frequency * t) >= 0, amp, 0.0)\n",
    "    return "
   ]
  },
  {
   "cell_type": "code",
   "execution_count": null,
   "id": "6cfa81af-f037-4d16-9615-203d56b3368b",
   "metadata": {},
   "outputs": [],
   "source": [
    "class Pulse_Scheduler(self, ):\n",
    "    def "
   ]
  },
  {
   "cell_type": "code",
   "execution_count": null,
   "id": "7073a721-dc4f-42e3-ae5f-9befe99a3f16",
   "metadata": {},
   "outputs": [],
   "source": [
    "import jax.numpy as jnp\n",
    "import matplotlib.pyplot as plt\n",
    "import jax\n",
    "\n",
    "@partial(jit, static_argnums=(0, 1, 2, 3, ))\n",
    "@jax.vmap\n",
    "def gaussian(t: jnp.float64, amp: jnp.complex64, width: jnp.float64, center: jnp.float64) -> jax.Array:\n",
    "    \"\"\"\n",
    "    \n",
    "    \"\"\"\n",
    "    return amp * jnp.exp(-(t-center)**2 / (2*width**2))\n",
    "\n",
    "amp = 1.0\n",
    "width = 10.0 * 10**(-9)\n",
    "center = 5.0 * 10**9\n",
    "pulse = gauusian(jnpo"
   ]
  },
  {
   "cell_type": "code",
   "execution_count": 7,
   "id": "4e4a69dd-6569-4ee3-95b9-fe6bcfdfd383",
   "metadata": {},
   "outputs": [
    {
     "data": {
      "image/png": "[encoded data removed]",
      "text/plain": [
       "<Figure size 640x480 with 1 Axes>"
      ]
     },
     "metadata": {},
     "output_type": "display_data"
    }
   ],
   "source": [
    "def gaussian_pulse(t, center, sigma, amplitude=1.0):\n",
    "    r\"\"\"\n",
    "    \n",
    "    \"\"\"\n",
    "    return amplitude * jnp.exp(-((t - center) ** 2) / (2 * sigma ** 2))\n",
    "\n",
    "# パラメータ設定\n",
    "center = 50.0      # パルス中心の時間\n",
    "sigma = 10.0       # パルス幅\n",
    "amplitude = 1.0    # 振幅\n",
    "\n",
    "# 時間軸の定義（例として0〜100の範囲を1000点でサンプリング）\n",
    "t = jnp.linspace(0, 100, 1000)\n",
    "\n",
    "# ガウスパルス生成\n",
    "pulse = gaussian_pulse(t, center, sigma, amplitude)\n",
    "\n",
    "# パルスをプロットして確認\n",
    "plt.plot(t, pulse)\n",
    "plt.xlabel(\"Time\")\n",
    "plt.ylabel(\"Amplitude\")\n",
    "plt.title(\"Gaussian Pulse for Qubit Control\")\n",
    "plt.show()"
   ]
  },
  {
   "cell_type": "code",
   "execution_count": null,
   "id": "1d2b3db5-67fd-47f6-bb3f-572bb7d42e20",
   "metadata": {},
   "outputs": [],
   "source": [
    "def constant_pulse(t, amplitude=1.0):\n",
    "    r\"\"\"\n",
    "    \n",
    "    \"\"\"\n",
    "    return amplitude * jnp.exp(-((t - center) ** 2) / (2 * sigma ** 2))\n",
    "\n",
    "# パラメータ設定\n",
    "sigma = 10.0       # パルス幅\n",
    "amplitude = 1.0    # 振幅\n",
    "\n",
    "# 時間軸の定義（例として0〜100の範囲を1000点でサンプリング）\n",
    "t = jnp.linspace(0, 100, 1000)\n",
    "\n",
    "# ガウスパルス生成\n",
    "pulse = gaussian_pulse(t, center, sigma, amplitude)\n",
    "\n",
    "# パルスをプロットして確認\n",
    "plt.plot(t, pulse)\n",
    "plt.xlabel(\"Time\")\n",
    "plt.ylabel(\"Amplitude\")\n",
    "plt.title(\"Gaussian Pulse for Qubit Control\")\n",
    "plt.show()"
   ]
  }
 ],
 "metadata": {
  "kernelspec": {
   "display_name": "Python 3 (ipykernel)",
   "language": "python",
   "name": "python3"
  },
  "language_info": {
   "codemirror_mode": {
    "name": "ipython",
    "version": 3
   },
   "file_extension": ".py",
   "mimetype": "text/x-python",
   "name": "python",
   "nbconvert_exporter": "python",
   "pygments_lexer": "ipython3",
   "version": "3.11.9"
  }
 },
 "nbformat": 4,
 "nbformat_minor": 5
}

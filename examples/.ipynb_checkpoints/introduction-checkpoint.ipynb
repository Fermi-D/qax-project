{
 "cells": [
  {
   "cell_type": "markdown",
   "id": "13ad8cf8-0c62-4741-b44f-bb21b83e3140",
   "metadata": {},
   "source": [
    "# Introduction to QAX"
   ]
  },
  {
   "cell_type": "markdown",
   "id": "7faab139-1136-45c3-a813-3a7c65de2283",
   "metadata": {},
   "source": [
    "Author: R.Maekura (ryomaekura@g.ecc.u-tokyo.ac.jp)"
   ]
  },
  {
   "cell_type": "markdown",
   "id": "c3de36ae-93bc-4db3-94f5-91a60343dd34",
   "metadata": {},
   "source": [
    "## Import package"
   ]
  },
  {
   "cell_type": "code",
   "execution_count": 6,
   "id": "d0c2a620-fff7-4c1d-876a-d67909f83698",
   "metadata": {},
   "outputs": [],
   "source": [
    "import jax\n",
    "import jax.numpy as jnp\n",
    "\n",
    "import sys\n",
    "sys.path.append(\"/home/users/u0001529/ondemand/qax-project\")\n",
    "\n",
    "%load_ext autoreload\n",
    "%autoreload 2\n",
    "from qax import state\n",
    "from qax import operator as op\n",
    "from qax.utils import linalg\n",
    "from qax.utils import device"
   ]
  },
  {
   "cell_type": "markdown",
   "id": "7d2b975e-c4b6-4093-9fcf-bd687a403ff7",
   "metadata": {},
   "source": [
    "## Quantum states"
   ]
  },
  {
   "cell_type": "markdown",
   "id": "b390c49b-766d-455a-828d-61e0ba3d826b",
   "metadata": {},
   "source": [
    "The matrix representations of commonly used quantum states can be accessed via `qax.state`. \\\n",
    "In addition, basic information such as the shape and type of an operator can be displayed using `qax.utils.display.info`"
   ]
  },
  {
   "cell_type": "markdown",
   "id": "a2fb7f7e-65eb-4091-923a-b76cf6d556bb",
   "metadata": {},
   "source": [
    "### state vector"
   ]
  },
  {
   "cell_type": "code",
   "execution_count": 7,
   "id": "474a9553-b819-4e0f-ac19-04b8452c9980",
   "metadata": {},
   "outputs": [
    {
     "name": "stdout",
     "output_type": "stream",
     "text": [
      "Shape: (4,)\n",
      "Dtype: complex64\n",
      "Norm: 1.000000\n"
     ]
    },
    {
     "data": {
      "text/latex": [
       "$\\displaystyle \\left[\\begin{matrix}1.0\\\\0\\\\0\\\\0\\end{matrix}\\right]$"
      ],
      "text/plain": [
       "<IPython.core.display.Math object>"
      ]
     },
     "metadata": {},
     "output_type": "display_data"
    }
   ],
   "source": [
    "# initial n-qubits state\n",
    "n = 2\n",
    "qubit_state = state.n_qubit(n)\n",
    "qubit_state.info()"
   ]
  },
  {
   "cell_type": "code",
   "execution_count": 12,
   "id": "1697186b-4e99-4174-974a-a9ad82d1b7dc",
   "metadata": {},
   "outputs": [
    {
     "name": "stdout",
     "output_type": "stream",
     "text": [
      "Shape: (10,)\n",
      "Dtype: complex64\n",
      "Norm: 1.000000\n"
     ]
    },
    {
     "data": {
      "text/latex": [
       "$\\displaystyle \\left[\\begin{matrix}1.0\\\\0\\\\0\\\\0\\\\0\\\\0\\\\0\\\\0\\\\0\\\\0\\end{matrix}\\right]$"
      ],
      "text/plain": [
       "<IPython.core.display.Math object>"
      ]
     },
     "metadata": {},
     "output_type": "display_data"
    }
   ],
   "source": [
    "# vaccum state\n",
    "sys_dim = 10\n",
    "vac_state = state.vacuum(sys_dim)\n",
    "vac_state.info()"
   ]
  },
  {
   "cell_type": "code",
   "execution_count": 9,
   "id": "0998f591-580f-41fa-a1e5-ee0e3fabc56a",
   "metadata": {},
   "outputs": [
    {
     "name": "stdout",
     "output_type": "stream",
     "text": [
      "Shape: (10,)\n",
      "Dtype: complex64\n",
      "Norm: 1.000000\n"
     ]
    },
    {
     "data": {
      "text/latex": [
       "$\\displaystyle \\left[\\begin{matrix}0\\\\0\\\\0\\\\0\\\\0\\\\1.0\\\\0\\\\0\\\\0\\\\0\\end{matrix}\\right]$"
      ],
      "text/plain": [
       "<IPython.core.display.Math object>"
      ]
     },
     "metadata": {},
     "output_type": "display_data"
    }
   ],
   "source": [
    "# fock state\n",
    "sys_dim = 10\n",
    "n = 5\n",
    "fock_state = state.fock(n, sys_dim)\n",
    "fock_state.info()"
   ]
  },
  {
   "cell_type": "markdown",
   "id": "6ef134fa-0774-446a-b984-656aaf394a18",
   "metadata": {},
   "source": [
    "### density matrix"
   ]
  },
  {
   "cell_type": "markdown",
   "id": "76fb6a6e-82aa-415d-a7a0-8e2f30b42aec",
   "metadata": {},
   "source": [
    "In QAX, the function `qax.utils.linalg.vec2dm()` is used to convert the state vector into a density matrix."
   ]
  },
  {
   "cell_type": "code",
   "execution_count": 10,
   "id": "ce93dfde-444d-471f-a1ba-0b5bc4d8f9a4",
   "metadata": {},
   "outputs": [
    {
     "name": "stdout",
     "output_type": "stream",
     "text": [
      "Shape: (4, 4)\n",
      "Dtype: complex64\n",
      "Hermitian: True\n"
     ]
    },
    {
     "data": {
      "text/latex": [
       "$\\displaystyle \\left[\\begin{matrix}1.0 & 0 & 0 & 0\\\\0 & 0 & 0 & 0\\\\0 & 0 & 0 & 0\\\\0 & 0 & 0 & 0\\end{matrix}\\right]$"
      ],
      "text/plain": [
       "<IPython.core.display.Math object>"
      ]
     },
     "metadata": {},
     "output_type": "display_data"
    }
   ],
   "source": [
    "# density matrix of initial n-qubits state\n",
    "qubit_dm = linalg.vec2dm(qubit_state)\n",
    "qubit_dm.info()"
   ]
  },
  {
   "cell_type": "code",
   "execution_count": 11,
   "id": "c0a5de68-5d5b-43b2-8d88-c728b7e12eb3",
   "metadata": {},
   "outputs": [
    {
     "name": "stdout",
     "output_type": "stream",
     "text": [
      "Shape: (10, 10)\n",
      "Dtype: complex64\n",
      "Hermitian: True\n"
     ]
    },
    {
     "data": {
      "text/latex": [
       "$\\displaystyle \\left[\\begin{matrix}0 & 0 & 0 & 0 & 0 & 0 & 0 & 0 & 0 & 0\\\\0 & 0 & 0 & 0 & 0 & 0 & 0 & 0 & 0 & 0\\\\0 & 0 & 0 & 0 & 0 & 0 & 0 & 0 & 0 & 0\\\\0 & 0 & 0 & 0 & 0 & 0 & 0 & 0 & 0 & 0\\\\0 & 0 & 0 & 0 & 0 & 0 & 0 & 0 & 0 & 0\\\\0 & 0 & 0 & 0 & 0 & 1.0 & 0 & 0 & 0 & 0\\\\0 & 0 & 0 & 0 & 0 & 0 & 0 & 0 & 0 & 0\\\\0 & 0 & 0 & 0 & 0 & 0 & 0 & 0 & 0 & 0\\\\0 & 0 & 0 & 0 & 0 & 0 & 0 & 0 & 0 & 0\\\\0 & 0 & 0 & 0 & 0 & 0 & 0 & 0 & 0 & 0\\end{matrix}\\right]$"
      ],
      "text/plain": [
       "<IPython.core.display.Math object>"
      ]
     },
     "metadata": {},
     "output_type": "display_data"
    }
   ],
   "source": [
    "# density matrix of fock state\n",
    "fock_dm = linalg.vec2dm(fock_state)\n",
    "fock_dm.info()"
   ]
  },
  {
   "cell_type": "markdown",
   "id": "846fae27-5c19-4f59-ad52-26c18803c1dd",
   "metadata": {},
   "source": [
    "## Quantum operators"
   ]
  },
  {
   "cell_type": "markdown",
   "id": "24a08951-fb37-4d2c-8447-63005153d117",
   "metadata": {},
   "source": [
    "### 2-level system"
   ]
  },
  {
   "cell_type": "code",
   "execution_count": 3,
   "id": "c079647a-fb81-4eb1-a678-ffe3b82af6e3",
   "metadata": {},
   "outputs": [
    {
     "name": "stdout",
     "output_type": "stream",
     "text": [
      "Shape: (2, 2)\n",
      "Dtype: complex64\n",
      "Is Hermitian: True\n"
     ]
    },
    {
     "data": {
      "text/latex": [
       "$\\displaystyle \\left[\\begin{matrix}0 & 1.0\\\\1.0 & 0\\end{matrix}\\right]$"
      ],
      "text/plain": [
       "<IPython.core.display.Math object>"
      ]
     },
     "metadata": {},
     "output_type": "display_data"
    }
   ],
   "source": [
    "# pauli operators\n",
    "## pauli x\n",
    "pauli_x = op.pauli_x()\n",
    "pauli_x.info()"
   ]
  },
  {
   "cell_type": "code",
   "execution_count": 4,
   "id": "0db60e5e-1476-4130-9cd7-cbb724db68cf",
   "metadata": {},
   "outputs": [
    {
     "name": "stdout",
     "output_type": "stream",
     "text": [
      "Shape: (2, 2)\n",
      "Dtype: complex64\n",
      "Is Hermitian: True\n"
     ]
    },
    {
     "data": {
      "text/latex": [
       "$\\displaystyle \\left[\\begin{matrix}0 & - 1.0 i\\\\1.0 i & 0\\end{matrix}\\right]$"
      ],
      "text/plain": [
       "<IPython.core.display.Math object>"
      ]
     },
     "metadata": {},
     "output_type": "display_data"
    }
   ],
   "source": [
    "## pauli y\n",
    "pauli_y = op.pauli_y()\n",
    "pauli_y.info()"
   ]
  },
  {
   "cell_type": "code",
   "execution_count": 5,
   "id": "2d9d6ea2-c5b3-45a1-ab59-a00c4041d92e",
   "metadata": {},
   "outputs": [
    {
     "name": "stdout",
     "output_type": "stream",
     "text": [
      "Shape: (2, 2)\n",
      "Dtype: complex64\n",
      "Is Hermitian: True\n"
     ]
    },
    {
     "data": {
      "text/latex": [
       "$\\displaystyle \\left[\\begin{matrix}1.0 & 0\\\\0 & -1.0\\end{matrix}\\right]$"
      ],
      "text/plain": [
       "<IPython.core.display.Math object>"
      ]
     },
     "metadata": {},
     "output_type": "display_data"
    }
   ],
   "source": [
    "## pauli z\n",
    "pauli_z = op.pauli_z()\n",
    "pauli_z.info()"
   ]
  },
  {
   "cell_type": "markdown",
   "id": "0c5ff6e4-9bf5-4ac1-abcb-865cee7b3774",
   "metadata": {},
   "source": [
    "### finite-level system"
   ]
  },
  {
   "cell_type": "code",
   "execution_count": 3,
   "id": "8b35cb43-2b7a-473e-a1f2-491b5fa9f85a",
   "metadata": {},
   "outputs": [
    {
     "name": "stdout",
     "output_type": "stream",
     "text": [
      "Shape: (5, 5)\n",
      "Dtype: complex64\n",
      "Hermitian: False\n"
     ]
    },
    {
     "data": {
      "text/latex": [
       "$\\displaystyle \\left[\\begin{matrix}0 & 1.0 & 0 & 0 & 0\\\\0 & 0 & 1.41400003433228 & 0 & 0\\\\0 & 0 & 0 & 1.73200011253357 & 0\\\\0 & 0 & 0 & 0 & 2.0\\\\0 & 0 & 0 & 0 & 0\\end{matrix}\\right]$"
      ],
      "text/plain": [
       "<IPython.core.display.Math object>"
      ]
     },
     "metadata": {},
     "output_type": "display_data"
    }
   ],
   "source": [
    "# annihilation operator\n",
    "sys_dim = 5\n",
    "a = op.annihilation(sys_dim)\n",
    "a.info()"
   ]
  },
  {
   "cell_type": "code",
   "execution_count": 4,
   "id": "908538eb-a998-4780-a94d-999bc57d656d",
   "metadata": {},
   "outputs": [
    {
     "name": "stdout",
     "output_type": "stream",
     "text": [
      "Shape: (5, 5)\n",
      "Dtype: complex64\n",
      "Hermitian: False\n"
     ]
    },
    {
     "data": {
      "text/latex": [
       "$\\displaystyle \\left[\\begin{matrix}0 & 0 & 0 & 0 & 0\\\\1.0 & 0 & 0 & 0 & 0\\\\0 & 1.41400003433228 & 0 & 0 & 0\\\\0 & 0 & 1.73200011253357 & 0 & 0\\\\0 & 0 & 0 & 2.0 & 0\\end{matrix}\\right]$"
      ],
      "text/plain": [
       "<IPython.core.display.Math object>"
      ]
     },
     "metadata": {},
     "output_type": "display_data"
    }
   ],
   "source": [
    "# creation operator\n",
    "a_dag = op.annihilation(sys_dim).dagger()\n",
    "a_dag.info()"
   ]
  },
  {
   "cell_type": "code",
   "execution_count": 6,
   "id": "8c3f0f3c-b257-4b25-b52d-c78b6e9d7f72",
   "metadata": {},
   "outputs": [
    {
     "name": "stdout",
     "output_type": "stream",
     "text": [
      "Shape: (5, 5)\n",
      "Dtype: complex64\n",
      "Hermitian: True\n"
     ]
    },
    {
     "data": {
      "text/latex": [
       "$\\displaystyle \\left[\\begin{matrix}0 & 0.707000017166138 & 0 & 0 & 0\\\\0.707000017166138 & 0 & 1.0 & 0 & 0\\\\0 & 1.0 & 0 & 1.22500002384186 & 0\\\\0 & 0 & 1.22500002384186 & 0 & 1.41400003433228\\\\0 & 0 & 0 & 1.41400003433228 & 0\\end{matrix}\\right]$"
      ],
      "text/plain": [
       "<IPython.core.display.Math object>"
      ]
     },
     "metadata": {},
     "output_type": "display_data"
    }
   ],
   "source": [
    "# position operator\n",
    "x = op.position(sys_dim)\n",
    "x.info()"
   ]
  },
  {
   "cell_type": "code",
   "execution_count": 7,
   "id": "447386f1-9588-4a44-8b76-596bed85a408",
   "metadata": {},
   "outputs": [
    {
     "name": "stdout",
     "output_type": "stream",
     "text": [
      "Shape: (5, 5)\n",
      "Dtype: complex64\n",
      "Hermitian: True\n"
     ]
    },
    {
     "data": {
      "text/latex": [
       "$\\displaystyle \\left[\\begin{matrix}0 & - 0.707000017166138 i & 0 & 0 & 0\\\\0.707000017166138 i & 0 & - 1.0 i & 0 & 0\\\\0 & 1.0 i & 0 & - 1.22500002384186 i & 0\\\\0 & 0 & 1.22500002384186 i & 0 & - 1.41400003433228 i\\\\0 & 0 & 0 & 1.41400003433228 i & 0\\end{matrix}\\right]$"
      ],
      "text/plain": [
       "<IPython.core.display.Math object>"
      ]
     },
     "metadata": {},
     "output_type": "display_data"
    }
   ],
   "source": [
    "# momentum operator\n",
    "p = op.momentum(sys_dim)\n",
    "p.info()"
   ]
  },
  {
   "cell_type": "markdown",
   "id": "670de673-77e2-4df6-bb7d-b4dcdc2cdea2",
   "metadata": {},
   "source": [
    "## Time evolution"
   ]
  },
  {
   "cell_type": "markdown",
   "id": "dabec951-e86a-4250-a2e7-987cf897ad00",
   "metadata": {},
   "source": [
    "As a demonstration, the time evolution of the system is calculated using the following Jaynes–Cummings Hamiltonian.\n",
    "$$\n",
    "\\begin{align*}\n",
    "H &= \\omega_{\\rm c} \\hat{a}^\\dagger \\hat{a} - \\frac{1}{2} \\omega_{\\rm a} \\sigma_{\\rm z} + g \\left( \\hat{a} \\sigma_+ + \\hat{a}^\\dagger \\sigma_- \\right)\n",
    "\\end{align*}\n",
    "$$"
   ]
  },
  {
   "cell_type": "code",
   "execution_count": null,
   "id": "f648b230-1807-480a-a5cb-07a6e4f38ed7",
   "metadata": {},
   "outputs": [],
   "source": [
    "# Jaynes-Cumming Hamiltonian\n",
    "## physical parameter settings\n",
    "omega_c = 1.0  \n",
    "omega_a = 1.0  \n",
    "g = 0.1\n",
    "\n",
    "## operator settings |atom_state, cavity_state>\n",
    "cavity_dim = 100\n",
    "atom_dim = 2\n",
    "\n",
    "pauli_z = linalg.kron_prod(op.pauli_z(), op.identity(cavity_dim))\n",
    "a = linalg.kron_prod(op.identity(atom_dim), op.creation(cavity_dim))\n",
    "a_dag = linalg.kron_prod(op.identity(atom_dim), op.annihilation(cavity_dim))\n",
    "\n",
    "H = omega_c*a@a_dag - 0.5*omega_a*pauli_z + g*(jnp.dot()+jnp.dot())"
   ]
  },
  {
   "cell_type": "markdown",
   "id": "d0eb6331-bb6b-4ed5-bc4d-9f4bed16575f",
   "metadata": {},
   "source": [
    "### time-dependent Schrödinger equation"
   ]
  },
  {
   "cell_type": "markdown",
   "id": "1743ce27-51c9-4d7d-8cfa-b10c22fa2bb0",
   "metadata": {},
   "source": [
    "$$\n",
    "\\begin{align*}\n",
    "ih \\frac{\\partial}{\\partial t} \\ket{\\Psi} &= \\hat{H} \\ket{\\Psi}\n",
    "\\end{align*}\n",
    "$$"
   ]
  },
  {
   "cell_type": "code",
   "execution_count": null,
   "id": "cfa708e9-e5a1-478f-9d86-8ab2dbee0e8f",
   "metadata": {},
   "outputs": [],
   "source": [
    "from qax.dynamics.solver import schrodinger\n",
    "from qax.utils import linalg"
   ]
  },
  {
   "cell_type": "code",
   "execution_count": null,
   "id": "ad900909-301f-4ff0-a4b4-3a67ff2ce2d5",
   "metadata": {},
   "outputs": [],
   "source": [
    "from diffrax import diffeqsolve, Dopri5, ODETerm, SaveAt, PIDController\n",
    "\n",
    "class SchrodingerEquation:\n",
    "    '''\n",
    "    Compute time-dependent Schrödinger equation.\n",
    "    '''\n",
    "    def __init__(self, \n",
    "                 hbar = 1,\n",
    "                 H: Operator, \n",
    "                 init_state: StateVector, \n",
    "                 t_range: tuple,\n",
    "                 t_step: float,\n",
    "                 device: str) -> None:\n",
    "        '''\n",
    "        Initializes the solver for the Schrödinger equation.\n",
    "\n",
    "        Args:\n",
    "            Hamiltonian (Operator | Callable): The system's Hamiltonian. Can be a static Operator or a time-dependent function H(t).\n",
    "            initial_state (StateVector): The initial state vector at t0.\n",
    "            t_span (tuple[float, float]): The start and end time (t0, t1).\n",
    "            hbar (float, optional): Planck's constant. Defaults to 1.0.\n",
    "            target_device (str | jax.Device | None, optional): The device to run the computation on ('cpu', 'gpu', etc.).\\\n",
    "                                                               If None, JAX's default device is used. Defaults to None.\n",
    "        '''\n",
    "        self.H = H\n",
    "\n",
    "    @jax.jit\n",
    "    def run(self, ) -> jax.Array:\n",
    "        '''\n",
    "        \n",
    "        '''\n",
    "        rhs = lambda t, y, args: -1.0j * jnp.dot(H, y)\n",
    "        eq_term = ODETerm(rhs)\n",
    "        method = Dopri5()\n",
    "        return \n",
    "\n",
    "    @jax.jit\n",
    "    def observable_ev(self, obs: jax.Array) -> jax.Array:\n",
    "        '''\n",
    "        Compute expectation value of observable.\n",
    "        '''\n",
    "        return "
   ]
  },
  {
   "cell_type": "code",
   "execution_count": null,
   "id": "535f11a8-3df2-4722-8598-e57e7d57cdec",
   "metadata": {},
   "outputs": [],
   "source": [
    "class LindbladMasterEquation:\n",
    "    def __init__(self,\n",
    "                 hbar = 1,\n",
    "                 H: Operator,\n",
    "                 collapse_ops: ,\n",
    "                 t_range: tuple,\n",
    "                 t_step: int,\n",
    "                 device: str):\n",
    "\n",
    "    def solver(self, ):\n",
    "        rhs = lambda t, y, args: -"
   ]
  },
  {
   "cell_type": "code",
   "execution_count": 12,
   "id": "15718b40-ed1d-4293-9876-6d85f0459080",
   "metadata": {},
   "outputs": [
    {
     "name": "stdout",
     "output_type": "stream",
     "text": [
      "--- Running computation on: TFRT_CPU_0 ---\n",
      "Computation finished in 15.6389 seconds.\n",
      "Result: 7.222556434992103e-24\n",
      "--------------------\n",
      "--- Running computation on: cuda:0 ---\n",
      "Computation finished in 0.2711 seconds.\n",
      "Result: 7.211465050664695e-24\n"
     ]
    }
   ],
   "source": [
    "@jax.jit\n",
    "def heavy_computation(x: jax.Array) -> jax.Array:\n",
    "    for _ in range(5):\n",
    "        x = jnp.tanh(jnp.dot(x, x.T) / 1000.0)\n",
    "    return x.mean()\n",
    "\n",
    "# デバイス選択ロジックを分離した、メインの実行関数\n",
    "def run_computation(data: jax.Array, on_device: str):\n",
    "    \"\"\"\n",
    "    device.pyを使ってデバイスを取得し、計算を実行する。\n",
    "    \"\"\"\n",
    "    try:\n",
    "        # device.pyの関数でデバイスオブジェクトを取得\n",
    "        target_device = device.get_device(on_device)\n",
    "        print(f\"--- Running computation on: {target_device} ---\")\n",
    "    except ValueError as e:\n",
    "        print(e)\n",
    "        return\n",
    "\n",
    "    # withブロックで計算を実行\n",
    "    with jax.default_device(target_device):\n",
    "        data_on_device = jax.device_put(data)\n",
    "        \n",
    "        start_time = time.time()\n",
    "        result = heavy_computation(data_on_device).block_until_ready()\n",
    "        end_time = time.time()\n",
    "        \n",
    "        print(f\"Computation finished in {end_time - start_time:.4f} seconds.\")\n",
    "        print(f\"Result: {result}\")\n",
    "\n",
    "# --- 実行 ---\n",
    "key = jax.random.PRNGKey(0)\n",
    "large_array = jax.random.normal(key, (20000, 20000))\n",
    "\n",
    "# 引数で'cpu'や'gpu'を切り替えるだけで、実行デバイスを制御できる\n",
    "run_computation(large_array, on_device='cpu')\n",
    "print(\"-\" * 20)\n",
    "run_computation(large_array, on_device='gpu') # GPUがなければエラーメッセージが表示される"
   ]
  },
  {
   "cell_type": "code",
   "execution_count": 1,
   "id": "6d4c21b6-922c-438f-99d4-ba6cc2d157a3",
   "metadata": {},
   "outputs": [
    {
     "name": "stdout",
     "output_type": "stream",
     "text": [
      "--- Computation requested on: 'cpu' ---\n",
      "Found device: TFRT_CPU_0\n",
      "Placing data onto TFRT_CPU_0...\n",
      "Data is now on: cuda:0\n",
      "Running computation...\n",
      "Computation finished in 16.0898 seconds.\n",
      "Result on CPU: 7.222556434992103e-24\n",
      "\n",
      "--- Computation requested on: 'gpu' ---\n",
      "Found device: cuda:0\n",
      "Placing data onto cuda:0...\n",
      "Data is now on: cuda:0\n",
      "Running computation...\n",
      "Computation finished in 48.1150 seconds.\n",
      "Result on GPU: 7.211465050664695e-24\n",
      "\n"
     ]
    }
   ],
   "source": [
    "import jax\n",
    "import jax.numpy as jnp\n",
    "import time\n",
    "\n",
    "# JITでコンパイルする計算の本体（前回の修正版）\n",
    "@jax.jit\n",
    "def heavy_computation(x: jax.Array) -> jax.Array:\n",
    "    \"\"\"A sample heavy computation that is numerically stable.\"\"\"\n",
    "    for _ in range(5):\n",
    "        x = jnp.tanh(jnp.dot(x, x.T) / 1000.0)\n",
    "    return x.mean()\n",
    "\n",
    "\n",
    "# デバイスを選択して計算を実行するメインの関数\n",
    "def run_computation_on_device(data: jax.Array, device_str: str) -> jax.Array | None:\n",
    "    \"\"\"\n",
    "    指定されたデバイスで計算を実行し、結果を返す関数。\n",
    "    \"\"\"\n",
    "    print(f\"--- Computation requested on: '{device_str}' ---\")\n",
    "    try:\n",
    "        target_device = jax.devices(device_str)[0]\n",
    "        print(f\"Found device: {target_device}\")\n",
    "    except IndexError:\n",
    "        print(f\"Error: Device '{device_str}' not found.\")\n",
    "        print(f\"Available devices are: {jax.devices()}\")\n",
    "        return None\n",
    "\n",
    "    with jax.default_device(target_device):\n",
    "        print(f\"Placing data onto {target_device}...\")\n",
    "        data_on_device = jax.device_put(data)\n",
    "        \n",
    "        # ★★★ ここが修正点 ★★★\n",
    "        # 古い .device() メソッドから、新しい .devices() メソッドを使った形式に変更\n",
    "        device_set = data_on_device.devices()\n",
    "        if device_set:\n",
    "            print(f\"Data is now on: {list(device_set)[0]}\")\n",
    "        else:\n",
    "            print(\"Could not determine the device for the data.\")\n",
    "\n",
    "        print(\"Running computation...\")\n",
    "        start_time = time.time()\n",
    "        result = heavy_computation(data_on_device).block_until_ready()\n",
    "        end_time = time.time()\n",
    "        \n",
    "        duration = end_time - start_time\n",
    "        print(f\"Computation finished in {duration:.4f} seconds.\")\n",
    "\n",
    "    return result\n",
    "\n",
    "# --- 関数の使い方 ---\n",
    "\n",
    "# 大きなサンプルデータを作成\n",
    "key = jax.random.PRNGKey(0)\n",
    "large_array = jax.random.normal(key, (20000, 20000))\n",
    "\n",
    "# CPUで実行\n",
    "result_cpu = run_computation_on_device(large_array, 'cpu')\n",
    "if result_cpu is not None:\n",
    "    print(f\"Result on CPU: {result_cpu}\\n\")\n",
    "\n",
    "# GPUで実行 (GPUが利用可能な場合)\n",
    "result_gpu = run_computation_on_device(large_array, 'gpu')\n",
    "if result_gpu is not None:\n",
    "    print(f\"Result on GPU: {result_gpu}\\n\")"
   ]
  },
  {
   "cell_type": "code",
   "execution_count": 20,
   "id": "94a50967-4a86-4f01-847a-7e8bf3783d4f",
   "metadata": {},
   "outputs": [
    {
     "name": "stdout",
     "output_type": "stream",
     "text": [
      "GPUが見つかりました: cuda:0\n",
      "入力データはデバイス cuda:0 に配置されました。\n",
      "\n",
      "'@' 演算子で計算を実行中...\n",
      "出力デバイス: cuda:0\n",
      "\n",
      "'jnp.matmul' 関数で計算を実行中...\n",
      "出力デバイス: cuda:0\n",
      "\n",
      "両者の結果は一致するか？ True\n"
     ]
    }
   ],
   "source": [
    "import jax\n",
    "import jax.numpy as jnp\n",
    "import time\n",
    "\n",
    "# GPUが利用可能か確認し、デバイスオブジェクトを取得\n",
    "try:\n",
    "    gpu = jax.devices('gpu')[0]\n",
    "    print(f\"GPUが見つかりました: {gpu}\")\n",
    "except IndexError:\n",
    "    print(\"GPUが見つかりませんでした。この例はCPUで実行されます。\")\n",
    "    gpu = jax.devices('cpu')[0]\n",
    "\n",
    "key = jax.random.PRNGKey(0)\n",
    "\n",
    "# 大きな行列を準備\n",
    "A = jax.random.normal(key, (2000, 3000))\n",
    "B = jax.random.normal(jax.random.split(key)[0], (3000, 2500))\n",
    "\n",
    "# データを明示的にターゲットデバイスに配置\n",
    "A_on_device = jax.device_put(A, gpu)\n",
    "B_on_device = jax.device_put(B, gpu)\n",
    "print(f\"入力データはデバイス {list(A_on_device.devices())[0]} に配置されました。\")\n",
    "\n",
    "# ---------------------------------------------------\n",
    "# 2つの方法をJITコンパイルした関数として定義\n",
    "# ---------------------------------------------------\n",
    "\n",
    "@jax.jit\n",
    "def matmul_with_at_operator(m1, m2):\n",
    "    return m1 @ m2\n",
    "\n",
    "@jax.jit\n",
    "def matmul_with_jnp_function(m1, m2):\n",
    "    return jnp.matmul(m1, m2)\n",
    "\n",
    "# --- 実行と検証 ---\n",
    "\n",
    "# '@' 演算子を使った関数を実行\n",
    "print(\"\\n'@' 演算子で計算を実行中...\")\n",
    "result_at = matmul_with_at_operator(A_on_device, B_on_device)\n",
    "result_at.block_until_ready() # 計算の完了を待つ\n",
    "print(f\"出力デバイス: {list(result_at.devices())[0]}\") # 結果がどのデバイスにあるか確認\n",
    "\n",
    "# 'jnp.matmul' を使った関数を実行\n",
    "print(\"\\n'jnp.matmul' 関数で計算を実行中...\")\n",
    "result_func = matmul_with_jnp_function(A_on_device, B_on_device)\n",
    "result_func.block_until_ready() # 計算の完了を待つ\n",
    "print(f\"出力デバイス: {list(result_func.devices())[0]}\")\n",
    "\n",
    "# 結果が一致することを確認\n",
    "print(f\"\\n両者の結果は一致するか？ {jnp.allclose(result_at, result_func)}\")"
   ]
  },
  {
   "cell_type": "markdown",
   "id": "92e50199-0c64-4910-ba06-9b7ef9a8cc2d",
   "metadata": {},
   "source": [
    "### master equation"
   ]
  },
  {
   "cell_type": "code",
   "execution_count": null,
   "id": "13bd50d5-8427-4a44-8a19-04872aa58496",
   "metadata": {},
   "outputs": [],
   "source": []
  }
 ],
 "metadata": {
  "kernelspec": {
   "display_name": "Python 3 (ipykernel)",
   "language": "python",
   "name": "python3"
  },
  "language_info": {
   "codemirror_mode": {
    "name": "ipython",
    "version": 3
   },
   "file_extension": ".py",
   "mimetype": "text/x-python",
   "name": "python",
   "nbconvert_exporter": "python",
   "pygments_lexer": "ipython3",
   "version": "3.11.9"
  }
 },
 "nbformat": 4,
 "nbformat_minor": 5
}

{
 "cells": [
  {
   "cell_type": "markdown",
   "id": "13ad8cf8-0c62-4741-b44f-bb21b83e3140",
   "metadata": {},
   "source": [
    "# Introduction to QAX"
   ]
  },
  {
   "cell_type": "markdown",
   "id": "7faab139-1136-45c3-a813-3a7c65de2283",
   "metadata": {},
   "source": [
    "Author: R.Maekura (ryomaekura@g.ecc.u-tokyo.ac.jp)"
   ]
  },
  {
   "cell_type": "markdown",
   "id": "c3de36ae-93bc-4db3-94f5-91a60343dd34",
   "metadata": {},
   "source": [
    "## Import package"
   ]
  },
  {
   "cell_type": "code",
   "execution_count": 2,
   "id": "d0c2a620-fff7-4c1d-876a-d67909f83698",
   "metadata": {},
   "outputs": [],
   "source": [
    "import jax\n",
    "import jax.numpy as jnp\n",
    "\n",
    "import sys\n",
    "sys.path.append(\"/home/users/u0001529/ondemand/qax-project\")\n",
    "\n",
    "%load_ext autoreload\n",
    "%autoreload 2\n",
    "from qax import state\n",
    "from qax import operator as op\n",
    "from qax.utils import linalg\n",
    "from qax.utils import device"
   ]
  },
  {
   "cell_type": "markdown",
   "id": "7d2b975e-c4b6-4093-9fcf-bd687a403ff7",
   "metadata": {},
   "source": [
    "## Quantum states"
   ]
  },
  {
   "cell_type": "markdown",
   "id": "b390c49b-766d-455a-828d-61e0ba3d826b",
   "metadata": {},
   "source": [
    "The matrix representations of commonly used quantum states can be accessed via `qax.state`. \\\n",
    "In addition, basic information such as the shape and type of an operator can be displayed using `qax.utils.display.info`"
   ]
  },
  {
   "cell_type": "markdown",
   "id": "a2fb7f7e-65eb-4091-923a-b76cf6d556bb",
   "metadata": {},
   "source": [
    "### state vector"
   ]
  },
  {
   "cell_type": "code",
   "execution_count": 7,
   "id": "474a9553-b819-4e0f-ac19-04b8452c9980",
   "metadata": {},
   "outputs": [
    {
     "name": "stdout",
     "output_type": "stream",
     "text": [
      "Shape: (4,)\n",
      "Dtype: complex64\n",
      "Norm: 1.000000\n"
     ]
    },
    {
     "data": {
      "text/latex": [
       "$\\displaystyle \\left[\\begin{matrix}1.0\\\\0\\\\0\\\\0\\end{matrix}\\right]$"
      ],
      "text/plain": [
       "<IPython.core.display.Math object>"
      ]
     },
     "metadata": {},
     "output_type": "display_data"
    }
   ],
   "source": [
    "# initial n-qubits state\n",
    "n = 2\n",
    "qubit_state = state.n_qubit(n)\n",
    "qubit_state.info()"
   ]
  },
  {
   "cell_type": "code",
   "execution_count": 12,
   "id": "1697186b-4e99-4174-974a-a9ad82d1b7dc",
   "metadata": {},
   "outputs": [
    {
     "name": "stdout",
     "output_type": "stream",
     "text": [
      "Shape: (10,)\n",
      "Dtype: complex64\n",
      "Norm: 1.000000\n"
     ]
    },
    {
     "data": {
      "text/latex": [
       "$\\displaystyle \\left[\\begin{matrix}1.0\\\\0\\\\0\\\\0\\\\0\\\\0\\\\0\\\\0\\\\0\\\\0\\end{matrix}\\right]$"
      ],
      "text/plain": [
       "<IPython.core.display.Math object>"
      ]
     },
     "metadata": {},
     "output_type": "display_data"
    }
   ],
   "source": [
    "# vaccum state\n",
    "sys_dim = 10\n",
    "vac_state = state.vacuum(sys_dim)\n",
    "vac_state.info()"
   ]
  },
  {
   "cell_type": "code",
   "execution_count": 9,
   "id": "0998f591-580f-41fa-a1e5-ee0e3fabc56a",
   "metadata": {},
   "outputs": [
    {
     "name": "stdout",
     "output_type": "stream",
     "text": [
      "Shape: (10,)\n",
      "Dtype: complex64\n",
      "Norm: 1.000000\n"
     ]
    },
    {
     "data": {
      "text/latex": [
       "$\\displaystyle \\left[\\begin{matrix}0\\\\0\\\\0\\\\0\\\\0\\\\1.0\\\\0\\\\0\\\\0\\\\0\\end{matrix}\\right]$"
      ],
      "text/plain": [
       "<IPython.core.display.Math object>"
      ]
     },
     "metadata": {},
     "output_type": "display_data"
    }
   ],
   "source": [
    "# fock state\n",
    "sys_dim = 10\n",
    "n = 5\n",
    "fock_state = state.fock(n, sys_dim)\n",
    "fock_state.info()"
   ]
  },
  {
   "cell_type": "markdown",
   "id": "6ef134fa-0774-446a-b984-656aaf394a18",
   "metadata": {},
   "source": [
    "### density matrix"
   ]
  },
  {
   "cell_type": "markdown",
   "id": "76fb6a6e-82aa-415d-a7a0-8e2f30b42aec",
   "metadata": {},
   "source": [
    "In QAX, the function `qax.utils.linalg.vec2dm()` is used to convert the state vector into a density matrix."
   ]
  },
  {
   "cell_type": "code",
   "execution_count": 10,
   "id": "ce93dfde-444d-471f-a1ba-0b5bc4d8f9a4",
   "metadata": {},
   "outputs": [
    {
     "name": "stdout",
     "output_type": "stream",
     "text": [
      "Shape: (4, 4)\n",
      "Dtype: complex64\n",
      "Hermitian: True\n"
     ]
    },
    {
     "data": {
      "text/latex": [
       "$\\displaystyle \\left[\\begin{matrix}1.0 & 0 & 0 & 0\\\\0 & 0 & 0 & 0\\\\0 & 0 & 0 & 0\\\\0 & 0 & 0 & 0\\end{matrix}\\right]$"
      ],
      "text/plain": [
       "<IPython.core.display.Math object>"
      ]
     },
     "metadata": {},
     "output_type": "display_data"
    }
   ],
   "source": [
    "# density matrix of initial n-qubits state\n",
    "qubit_dm = linalg.vec2dm(qubit_state)\n",
    "qubit_dm.info()"
   ]
  },
  {
   "cell_type": "code",
   "execution_count": 11,
   "id": "c0a5de68-5d5b-43b2-8d88-c728b7e12eb3",
   "metadata": {},
   "outputs": [
    {
     "name": "stdout",
     "output_type": "stream",
     "text": [
      "Shape: (10, 10)\n",
      "Dtype: complex64\n",
      "Hermitian: True\n"
     ]
    },
    {
     "data": {
      "text/latex": [
       "$\\displaystyle \\left[\\begin{matrix}0 & 0 & 0 & 0 & 0 & 0 & 0 & 0 & 0 & 0\\\\0 & 0 & 0 & 0 & 0 & 0 & 0 & 0 & 0 & 0\\\\0 & 0 & 0 & 0 & 0 & 0 & 0 & 0 & 0 & 0\\\\0 & 0 & 0 & 0 & 0 & 0 & 0 & 0 & 0 & 0\\\\0 & 0 & 0 & 0 & 0 & 0 & 0 & 0 & 0 & 0\\\\0 & 0 & 0 & 0 & 0 & 1.0 & 0 & 0 & 0 & 0\\\\0 & 0 & 0 & 0 & 0 & 0 & 0 & 0 & 0 & 0\\\\0 & 0 & 0 & 0 & 0 & 0 & 0 & 0 & 0 & 0\\\\0 & 0 & 0 & 0 & 0 & 0 & 0 & 0 & 0 & 0\\\\0 & 0 & 0 & 0 & 0 & 0 & 0 & 0 & 0 & 0\\end{matrix}\\right]$"
      ],
      "text/plain": [
       "<IPython.core.display.Math object>"
      ]
     },
     "metadata": {},
     "output_type": "display_data"
    }
   ],
   "source": [
    "# density matrix of fock state\n",
    "fock_dm = linalg.vec2dm(fock_state)\n",
    "fock_dm.info()"
   ]
  },
  {
   "cell_type": "markdown",
   "id": "846fae27-5c19-4f59-ad52-26c18803c1dd",
   "metadata": {},
   "source": [
    "## Quantum operators"
   ]
  },
  {
   "cell_type": "markdown",
   "id": "24a08951-fb37-4d2c-8447-63005153d117",
   "metadata": {},
   "source": [
    "### 2-level system"
   ]
  },
  {
   "cell_type": "code",
   "execution_count": 3,
   "id": "c079647a-fb81-4eb1-a678-ffe3b82af6e3",
   "metadata": {},
   "outputs": [
    {
     "name": "stdout",
     "output_type": "stream",
     "text": [
      "Shape: (2, 2)\n",
      "Dtype: complex64\n",
      "Is Hermitian: True\n"
     ]
    },
    {
     "data": {
      "text/latex": [
       "$\\displaystyle \\left[\\begin{matrix}0 & 1.0\\\\1.0 & 0\\end{matrix}\\right]$"
      ],
      "text/plain": [
       "<IPython.core.display.Math object>"
      ]
     },
     "metadata": {},
     "output_type": "display_data"
    }
   ],
   "source": [
    "# pauli operators\n",
    "## pauli x\n",
    "pauli_x = op.pauli_x()\n",
    "pauli_x.info()"
   ]
  },
  {
   "cell_type": "code",
   "execution_count": 4,
   "id": "0db60e5e-1476-4130-9cd7-cbb724db68cf",
   "metadata": {},
   "outputs": [
    {
     "name": "stdout",
     "output_type": "stream",
     "text": [
      "Shape: (2, 2)\n",
      "Dtype: complex64\n",
      "Is Hermitian: True\n"
     ]
    },
    {
     "data": {
      "text/latex": [
       "$\\displaystyle \\left[\\begin{matrix}0 & - 1.0 i\\\\1.0 i & 0\\end{matrix}\\right]$"
      ],
      "text/plain": [
       "<IPython.core.display.Math object>"
      ]
     },
     "metadata": {},
     "output_type": "display_data"
    }
   ],
   "source": [
    "## pauli y\n",
    "pauli_y = op.pauli_y()\n",
    "pauli_y.info()"
   ]
  },
  {
   "cell_type": "code",
   "execution_count": 5,
   "id": "2d9d6ea2-c5b3-45a1-ab59-a00c4041d92e",
   "metadata": {},
   "outputs": [
    {
     "name": "stdout",
     "output_type": "stream",
     "text": [
      "Shape: (2, 2)\n",
      "Dtype: complex64\n",
      "Is Hermitian: True\n"
     ]
    },
    {
     "data": {
      "text/latex": [
       "$\\displaystyle \\left[\\begin{matrix}1.0 & 0\\\\0 & -1.0\\end{matrix}\\right]$"
      ],
      "text/plain": [
       "<IPython.core.display.Math object>"
      ]
     },
     "metadata": {},
     "output_type": "display_data"
    }
   ],
   "source": [
    "## pauli z\n",
    "pauli_z = op.pauli_z()\n",
    "pauli_z.info()"
   ]
  },
  {
   "cell_type": "markdown",
   "id": "0c5ff6e4-9bf5-4ac1-abcb-865cee7b3774",
   "metadata": {},
   "source": [
    "### finite-level system"
   ]
  },
  {
   "cell_type": "code",
   "execution_count": 3,
   "id": "8b35cb43-2b7a-473e-a1f2-491b5fa9f85a",
   "metadata": {},
   "outputs": [
    {
     "name": "stdout",
     "output_type": "stream",
     "text": [
      "Shape: (5, 5)\n",
      "Dtype: complex64\n",
      "Hermitian: False\n"
     ]
    },
    {
     "data": {
      "text/latex": [
       "$\\displaystyle \\left[\\begin{matrix}0 & 1.0 & 0 & 0 & 0\\\\0 & 0 & 1.41400003433228 & 0 & 0\\\\0 & 0 & 0 & 1.73200011253357 & 0\\\\0 & 0 & 0 & 0 & 2.0\\\\0 & 0 & 0 & 0 & 0\\end{matrix}\\right]$"
      ],
      "text/plain": [
       "<IPython.core.display.Math object>"
      ]
     },
     "metadata": {},
     "output_type": "display_data"
    }
   ],
   "source": [
    "# annihilation operator\n",
    "sys_dim = 5\n",
    "a = op.annihilation(sys_dim)\n",
    "a.info()"
   ]
  },
  {
   "cell_type": "code",
   "execution_count": 4,
   "id": "908538eb-a998-4780-a94d-999bc57d656d",
   "metadata": {},
   "outputs": [
    {
     "name": "stdout",
     "output_type": "stream",
     "text": [
      "Shape: (5, 5)\n",
      "Dtype: complex64\n",
      "Hermitian: False\n"
     ]
    },
    {
     "data": {
      "text/latex": [
       "$\\displaystyle \\left[\\begin{matrix}0 & 0 & 0 & 0 & 0\\\\1.0 & 0 & 0 & 0 & 0\\\\0 & 1.41400003433228 & 0 & 0 & 0\\\\0 & 0 & 1.73200011253357 & 0 & 0\\\\0 & 0 & 0 & 2.0 & 0\\end{matrix}\\right]$"
      ],
      "text/plain": [
       "<IPython.core.display.Math object>"
      ]
     },
     "metadata": {},
     "output_type": "display_data"
    }
   ],
   "source": [
    "# creation operator\n",
    "a_dag = op.annihilation(sys_dim).dagger()\n",
    "a_dag.info()"
   ]
  },
  {
   "cell_type": "code",
   "execution_count": 6,
   "id": "8c3f0f3c-b257-4b25-b52d-c78b6e9d7f72",
   "metadata": {},
   "outputs": [
    {
     "name": "stdout",
     "output_type": "stream",
     "text": [
      "Shape: (5, 5)\n",
      "Dtype: complex64\n",
      "Hermitian: True\n"
     ]
    },
    {
     "data": {
      "text/latex": [
       "$\\displaystyle \\left[\\begin{matrix}0 & 0.707000017166138 & 0 & 0 & 0\\\\0.707000017166138 & 0 & 1.0 & 0 & 0\\\\0 & 1.0 & 0 & 1.22500002384186 & 0\\\\0 & 0 & 1.22500002384186 & 0 & 1.41400003433228\\\\0 & 0 & 0 & 1.41400003433228 & 0\\end{matrix}\\right]$"
      ],
      "text/plain": [
       "<IPython.core.display.Math object>"
      ]
     },
     "metadata": {},
     "output_type": "display_data"
    }
   ],
   "source": [
    "# position operator\n",
    "x = op.position(sys_dim)\n",
    "x.info()"
   ]
  },
  {
   "cell_type": "code",
   "execution_count": 7,
   "id": "447386f1-9588-4a44-8b76-596bed85a408",
   "metadata": {},
   "outputs": [
    {
     "name": "stdout",
     "output_type": "stream",
     "text": [
      "Shape: (5, 5)\n",
      "Dtype: complex64\n",
      "Hermitian: True\n"
     ]
    },
    {
     "data": {
      "text/latex": [
       "$\\displaystyle \\left[\\begin{matrix}0 & - 0.707000017166138 i & 0 & 0 & 0\\\\0.707000017166138 i & 0 & - 1.0 i & 0 & 0\\\\0 & 1.0 i & 0 & - 1.22500002384186 i & 0\\\\0 & 0 & 1.22500002384186 i & 0 & - 1.41400003433228 i\\\\0 & 0 & 0 & 1.41400003433228 i & 0\\end{matrix}\\right]$"
      ],
      "text/plain": [
       "<IPython.core.display.Math object>"
      ]
     },
     "metadata": {},
     "output_type": "display_data"
    }
   ],
   "source": [
    "# momentum operator\n",
    "p = op.momentum(sys_dim)\n",
    "p.info()"
   ]
  },
  {
   "cell_type": "markdown",
   "id": "670de673-77e2-4df6-bb7d-b4dcdc2cdea2",
   "metadata": {},
   "source": [
    "## Time evolution"
   ]
  },
  {
   "cell_type": "markdown",
   "id": "dabec951-e86a-4250-a2e7-987cf897ad00",
   "metadata": {},
   "source": [
    "As a demonstration, the time evolution of the system is calculated using the following Jaynes–Cummings Hamiltonian.\n",
    "$$\n",
    "\\begin{align*}\n",
    "H &= \\omega_{\\rm c} \\hat{a}^\\dagger \\hat{a} - \\frac{1}{2} \\omega_{\\rm a} \\sigma_{\\rm z} + g \\left( \\hat{a} \\sigma_+ + \\hat{a}^\\dagger \\sigma_- \\right)\n",
    "\\end{align*}\n",
    "$$"
   ]
  },
  {
   "cell_type": "code",
   "execution_count": null,
   "id": "f648b230-1807-480a-a5cb-07a6e4f38ed7",
   "metadata": {},
   "outputs": [],
   "source": [
    "# Jaynes-Cumming Hamiltonian\n",
    "## physical parameter settings\n",
    "omega_c = 1.0  \n",
    "omega_a = 1.0  \n",
    "g = 0.1\n",
    "\n",
    "## operator settings |atom_state, cavity_state>\n",
    "cavity_dim = 100\n",
    "atom_dim = 2\n",
    "\n",
    "pauli_z = linalg.kron_prod(op.pauli_z(), op.identity(cavity_dim))\n",
    "a = linalg.kron_prod(op.identity(atom_dim), op.creation(cavity_dim))\n",
    "a_dag = linalg.kron_prod(op.identity(atom_dim), op.annihilation(cavity_dim))\n",
    "\n",
    "H = omega_c*a@a_dag - 0.5*omega_a*pauli_z + g*(jnp.dot()+jnp.dot())"
   ]
  },
  {
   "cell_type": "markdown",
   "id": "d0eb6331-bb6b-4ed5-bc4d-9f4bed16575f",
   "metadata": {},
   "source": [
    "### time-dependent Schrödinger equation"
   ]
  },
  {
   "cell_type": "markdown",
   "id": "1743ce27-51c9-4d7d-8cfa-b10c22fa2bb0",
   "metadata": {},
   "source": [
    "$$\n",
    "\\begin{align*}\n",
    "ih \\frac{\\partial}{\\partial t} \\ket{\\Psi} &= \\hat{H} \\ket{\\Psi}\n",
    "\\end{align*}\n",
    "$$"
   ]
  },
  {
   "cell_type": "code",
   "execution_count": 16,
   "id": "cfa708e9-e5a1-478f-9d86-8ab2dbee0e8f",
   "metadata": {},
   "outputs": [
    {
     "name": "stderr",
     "output_type": "stream",
     "text": [
      "2025-07-10 07:02:14.249193: W external/xla/xla/service/gpu/ir_emitter_unnested.cc:1180] Unable to parse backend config for custom call: Could not convert JSON string to proto: : Root element must be a message.\n",
      "Fall back to parse the raw backend config str.\n",
      "2025-07-10 07:02:14.249597: W external/xla/xla/service/gpu/ir_emitter_unnested.cc:1180] Unable to parse backend config for custom call: Could not convert JSON string to proto: : Root element must be a message.\n",
      "Fall back to parse the raw backend config str.\n"
     ]
    },
    {
     "name": "stdout",
     "output_type": "stream",
     "text": [
      "シミュレーションが完了しました。結果をプロットします。\n"
     ]
    },
    {
     "ename": "ValueError",
     "evalue": "Operator must be initialized with a square 2D array, but got shape (1, 2)",
     "output_type": "error",
     "traceback": [
      "\u001b[0;31m---------------------------------------------------------------------------\u001b[0m",
      "\u001b[0;31mValueError\u001b[0m                                Traceback (most recent call last)",
      "Cell \u001b[0;32mIn[16], line 73\u001b[0m\n\u001b[1;32m     71\u001b[0m \u001b[38;5;66;03m# σ_zの期待値を計算\u001b[39;00m\n\u001b[1;32m     72\u001b[0m sigma_z \u001b[38;5;241m=\u001b[39m operator\u001b[38;5;241m.\u001b[39mpauli_z()\n\u001b[0;32m---> 73\u001b[0m times_dimless, exp_vals_z \u001b[38;5;241m=\u001b[39m \u001b[43msolver\u001b[49m\u001b[38;5;241;43m.\u001b[39;49m\u001b[43mexpectation_value\u001b[49m\u001b[43m(\u001b[49m\u001b[43msigma_z\u001b[49m\u001b[43m)\u001b[49m\n\u001b[1;32m     75\u001b[0m \u001b[38;5;66;03m# プロット\u001b[39;00m\n\u001b[1;32m     76\u001b[0m fig, ax1 \u001b[38;5;241m=\u001b[39m plt\u001b[38;5;241m.\u001b[39msubplots(figsize\u001b[38;5;241m=\u001b[39m(\u001b[38;5;241m10\u001b[39m, \u001b[38;5;241m6\u001b[39m))\n",
      "File \u001b[0;32m~/ondemand/qax-project/qax/dynamics/solver/schrodinger.py:130\u001b[0m, in \u001b[0;36mSchrodingerEquation.expectation_value\u001b[0;34m(self, observable)\u001b[0m\n\u001b[1;32m    127\u001b[0m     \u001b[38;5;28;01mreturn\u001b[39;00m exp_val\u001b[38;5;241m.\u001b[39mreal\n\u001b[1;32m    129\u001b[0m \u001b[38;5;66;03m# JITコンパイルして高速化\u001b[39;00m\n\u001b[0;32m--> 130\u001b[0m exp_vals \u001b[38;5;241m=\u001b[39m \u001b[43mjax\u001b[49m\u001b[38;5;241;43m.\u001b[39;49m\u001b[43mjit\u001b[49m\u001b[43m(\u001b[49m\u001b[43m_calculate_ev\u001b[49m\u001b[43m)\u001b[49m\u001b[43m(\u001b[49m\u001b[38;5;28;43mself\u001b[39;49m\u001b[38;5;241;43m.\u001b[39;49m\u001b[43msolution\u001b[49m\u001b[38;5;241;43m.\u001b[39;49m\u001b[43mys\u001b[49m\u001b[43m)\u001b[49m\n\u001b[1;32m    132\u001b[0m \u001b[38;5;28;01mreturn\u001b[39;00m \u001b[38;5;28mself\u001b[39m\u001b[38;5;241m.\u001b[39msolution\u001b[38;5;241m.\u001b[39mts, exp_vals\n",
      "    \u001b[0;31m[... skipping hidden 19 frame]\u001b[0m\n",
      "File \u001b[0;32m~/ondemand/qax-project/qax/dynamics/solver/schrodinger.py:125\u001b[0m, in \u001b[0;36mSchrodingerEquation.expectation_value.<locals>._calculate_ev\u001b[0;34m(psi_data)\u001b[0m\n\u001b[1;32m    122\u001b[0m \u001b[38;5;129m@jax\u001b[39m\u001b[38;5;241m.\u001b[39mvmap\n\u001b[1;32m    123\u001b[0m \u001b[38;5;28;01mdef\u001b[39;00m\u001b[38;5;250m \u001b[39m\u001b[38;5;21m_calculate_ev\u001b[39m(psi_data):\n\u001b[1;32m    124\u001b[0m     ket \u001b[38;5;241m=\u001b[39m StateVector(psi_data)\n\u001b[0;32m--> 125\u001b[0m     bra_op \u001b[38;5;241m=\u001b[39m \u001b[43mket\u001b[49m\u001b[38;5;241;43m.\u001b[39;49m\u001b[43mdagger\u001b[49m\u001b[43m(\u001b[49m\u001b[43m)\u001b[49m\n\u001b[1;32m    126\u001b[0m     exp_val \u001b[38;5;241m=\u001b[39m (bra_op \u001b[38;5;241m@\u001b[39m obs_on_device \u001b[38;5;241m@\u001b[39m ket)\u001b[38;5;241m.\u001b[39mdata[\u001b[38;5;241m0\u001b[39m, \u001b[38;5;241m0\u001b[39m]\n\u001b[1;32m    127\u001b[0m     \u001b[38;5;28;01mreturn\u001b[39;00m exp_val\u001b[38;5;241m.\u001b[39mreal\n",
      "File \u001b[0;32m~/ondemand/qax-project/qax/core.py:114\u001b[0m, in \u001b[0;36mStateVector.dagger\u001b[0;34m(self)\u001b[0m\n\u001b[1;32m    110\u001b[0m \u001b[38;5;28;01mdef\u001b[39;00m\u001b[38;5;250m \u001b[39m\u001b[38;5;21mdagger\u001b[39m(\u001b[38;5;28mself\u001b[39m) \u001b[38;5;241m-\u001b[39m\u001b[38;5;241m>\u001b[39m Operator:\n\u001b[1;32m    111\u001b[0m \u001b[38;5;250m    \u001b[39m\u001b[38;5;124;03m'''\u001b[39;00m\n\u001b[1;32m    112\u001b[0m \u001b[38;5;124;03m    Returns the Hermitian conjugate (bra) as a 1xN Operator.\u001b[39;00m\n\u001b[1;32m    113\u001b[0m \u001b[38;5;124;03m    '''\u001b[39;00m\n\u001b[0;32m--> 114\u001b[0m     \u001b[38;5;28;01mreturn\u001b[39;00m \u001b[43mOperator\u001b[49m\u001b[43m(\u001b[49m\u001b[43mjnp\u001b[49m\u001b[38;5;241;43m.\u001b[39;49m\u001b[43mconj\u001b[49m\u001b[43m(\u001b[49m\u001b[38;5;28;43mself\u001b[39;49m\u001b[38;5;241;43m.\u001b[39;49m\u001b[43mdata\u001b[49m\u001b[43m)\u001b[49m\u001b[38;5;241;43m.\u001b[39;49m\u001b[43mreshape\u001b[49m\u001b[43m(\u001b[49m\u001b[38;5;241;43m1\u001b[39;49m\u001b[43m,\u001b[49m\u001b[43m \u001b[49m\u001b[38;5;241;43m-\u001b[39;49m\u001b[38;5;241;43m1\u001b[39;49m\u001b[43m)\u001b[49m\u001b[43m)\u001b[49m\n",
      "File \u001b[0;32m~/ondemand/qax-project/qax/core.py:124\u001b[0m, in \u001b[0;36mOperator.__init__\u001b[0;34m(self, array)\u001b[0m\n\u001b[1;32m    122\u001b[0m     array \u001b[38;5;241m=\u001b[39m jnp\u001b[38;5;241m.\u001b[39masarray(array, dtype\u001b[38;5;241m=\u001b[39mjnp\u001b[38;5;241m.\u001b[39mcomplex64)\n\u001b[1;32m    123\u001b[0m \u001b[38;5;28;01mif\u001b[39;00m array\u001b[38;5;241m.\u001b[39mndim \u001b[38;5;241m!=\u001b[39m \u001b[38;5;241m2\u001b[39m \u001b[38;5;129;01mor\u001b[39;00m array\u001b[38;5;241m.\u001b[39mshape[\u001b[38;5;241m0\u001b[39m] \u001b[38;5;241m!=\u001b[39m array\u001b[38;5;241m.\u001b[39mshape[\u001b[38;5;241m1\u001b[39m]:\n\u001b[0;32m--> 124\u001b[0m     \u001b[38;5;28;01mraise\u001b[39;00m \u001b[38;5;167;01mValueError\u001b[39;00m(\u001b[38;5;124mf\u001b[39m\u001b[38;5;124m\"\u001b[39m\u001b[38;5;124mOperator must be initialized with a square 2D array, but got shape \u001b[39m\u001b[38;5;132;01m{\u001b[39;00marray\u001b[38;5;241m.\u001b[39mshape\u001b[38;5;132;01m}\u001b[39;00m\u001b[38;5;124m\"\u001b[39m)\n\u001b[1;32m    125\u001b[0m \u001b[38;5;28mself\u001b[39m\u001b[38;5;241m.\u001b[39mdata \u001b[38;5;241m=\u001b[39m array\n",
      "\u001b[0;31mValueError\u001b[0m: Operator must be initialized with a square 2D array, but got shape (1, 2)"
     ]
    }
   ],
   "source": [
    "import jax.numpy as jnp\n",
    "import matplotlib.pyplot as plt\n",
    "import numpy as np\n",
    "\n",
    "# あなたが作成したライブラリのモジュールをインポート\n",
    "# (パッケージ名が 'qax' であると仮定)\n",
    "from qax import state, operator\n",
    "from qax.dynamics.solver.schrodinger import SchrodingerEquation\n",
    "import diffrax # diffraxを直接使うため\n",
    "\n",
    "# --- 1. 物理パラメータを定義 (単位: 2π GHz) ---\n",
    "#    (例: 5.0 は 5.0 * 2π GHz を意味する)\n",
    "delta_phys = 5.0       # 量子ビットのエネルギーギャップ\n",
    "omega_rabi_phys = 2.0  # 駆動の強さ (ラビ周波数)\n",
    "drive_freq_phys = 5.0  # 外部から加える駆動の周波数 (共鳴状態)\n",
    "\n",
    "\n",
    "# --- 2. 無次元化の実行 ---\n",
    "# 基準となる周波数を設定 (通常、系の主要なエネルギースケールを選ぶ)\n",
    "omega_c = delta_phys\n",
    "\n",
    "# 無次元パラメータを計算\n",
    "# これらはすべて1前後のオーダーの数値になる\n",
    "delta_dimless = delta_phys / omega_c      # -> 1.0\n",
    "omega_rabi_dimless = omega_rabi_phys / omega_c # -> 0.4\n",
    "drive_freq_dimless = drive_freq_phys / omega_c # -> 1.0\n",
    "\n",
    "\n",
    "# --- 3. 無次元化されたハミルトニアンを定義 ---\n",
    "# H'(τ) = (Δ/ωc)/2 * σ_z + (Ω/ωc) * cos((ω/ωc) * τ) * σ_x\n",
    "H0_op = (delta_dimless / 2) * operator.pauli_z()\n",
    "H_drive_op = operator.pauli_x()\n",
    "\n",
    "# 時間t (無次元化された時間τ) を引数に取り、ハミルトニアン(Operator)を返す関数\n",
    "def hamiltonian_t_dimless(t: float) -> Operator:\n",
    "    drive_term = omega_rabi_dimless * jnp.cos(drive_freq_dimless * t) * H_drive_op\n",
    "    return H0_op + drive_term\n",
    "\n",
    "\n",
    "# --- 4. 初期状態とシミュレーション時間を設定 ---\n",
    "# 初期状態 |ψ(0)⟩ = |0⟩ (基底状態)\n",
    "psi0 = state.fock(0, dim=2)\n",
    "\n",
    "# シミュレーション時間も無次元化する\n",
    "# 例えば、物理時間で 2.5 ns までシミュレーションしたい場合:\n",
    "# t_phys_end = 2.5 (ns)\n",
    "# τ_end = omega_c * t_phys_end = 5.0 * 2.5 = 12.5\n",
    "t_span_dimless = (0.0, 12.5) \n",
    "\n",
    "# 結果を保存する時間点を設定\n",
    "ts_to_save = jnp.linspace(t_span_dimless[0], t_span_dimless[1], 201)\n",
    "saveat = diffrax.SaveAt(ts=ts_to_save)\n",
    "\n",
    "\n",
    "# --- 5. ソルバーを準備して実行 ---\n",
    "# 無次元化されたハミルトニアンを使ってソルバーをインスタンス化\n",
    "solver = SchrodingerEquation(\n",
    "    hamiltonian=hamiltonian_t_dimless,\n",
    "    initial_state=psi0,\n",
    "    t_span=t_span_dimless\n",
    "    # hbar=1 はデフォルトなので省略\n",
    ")\n",
    "\n",
    "# 時間発展を実行\n",
    "solver.run(saveat=saveat)\n",
    "\n",
    "\n",
    "# --- 6. 結果の分析とプロット ---\n",
    "print(\"シミュレーションが完了しました。結果をプロットします。\")\n",
    "\n",
    "# σ_zの期待値を計算\n",
    "sigma_z = operator.pauli_z()\n",
    "times_dimless, exp_vals_z = solver.expectation_value(sigma_z)\n",
    "\n",
    "# プロット\n",
    "fig, ax1 = plt.subplots(figsize=(10, 6))\n",
    "\n",
    "# 無次元の時間でプロット\n",
    "ax1.plot(np.asarray(times_dimless), np.asarray(exp_vals_z), color='mediumblue')\n",
    "ax1.set_xlabel(\"Dimensionless Time  (τ = ω_c * t)\", fontsize=14)\n",
    "ax1.set_ylabel(\"Expectation Value <σ_z>\", fontsize=14)\n",
    "ax1.set_title(\"Rabi Oscillation (Dimensionless)\", fontsize=16)\n",
    "ax1.grid(True)\n",
    "ax1.set_ylim(-1.1, 1.1)\n",
    "\n",
    "# --- (オプション) 物理的な時間スケールを上部x軸に追加 ---\n",
    "ax2 = ax1.twiny()\n",
    "# τ を t_phys に変換 (t = τ / ω_c)\n",
    "min_phys_time = times_dimless.min() / omega_c\n",
    "max_phys_time = times_dimless.max() / omega_c\n",
    "ax2.set_xlim(min_phys_time, max_phys_time)\n",
    "ax2.set_xlabel(\"Physical Time (ns)\", fontsize=14)\n",
    "\n",
    "fig.tight_layout()\n",
    "plt.show()"
   ]
  },
  {
   "cell_type": "markdown",
   "id": "92e50199-0c64-4910-ba06-9b7ef9a8cc2d",
   "metadata": {},
   "source": [
    "### master equation"
   ]
  },
  {
   "cell_type": "code",
   "execution_count": 7,
   "id": "601988d0-40b4-4584-9062-29d52763b456",
   "metadata": {},
   "outputs": [
    {
     "name": "stdout",
     "output_type": "stream",
     "text": [
      "--- CPUでデバッグ実行 ---\n",
      "演算子のデバイス: TFRT_CPU_0\n",
      "状態ベクトルのデバイス: TFRT_CPU_0\n",
      "結果のデバイス: TFRT_CPU_0\n"
     ]
    }
   ],
   "source": [
    "from qax import operator, state\n",
    "from qax.utils import device\n",
    "import jax.numpy as jnp\n",
    "\n",
    "print(\"--- CPUでデバッグ実行 ---\")\n",
    "\n",
    "# すべてのオブジェクトをCPUに配置\n",
    "cpu = device.select_device('cpu')\n",
    "H_cpu = device.to(operator.pauli_x(), cpu)\n",
    "psi0_cpu = device.to(state.fock(0, 2), cpu)\n",
    "\n",
    "# 計算を実行\n",
    "result_cpu = H_cpu @ psi0_cpu\n",
    "\n",
    "print(f\"演算子のデバイス: {list(H_cpu.data.devices())[0]}\")\n",
    "print(f\"状態ベクトルのデバイス: {list(psi0_cpu.data.devices())[0]}\")\n",
    "print(f\"結果のデバイス: {list(result_cpu.data.devices())[0]}\")"
   ]
  },
  {
   "cell_type": "code",
   "execution_count": 9,
   "id": "b468eaaf-d9ac-4ac5-9556-574486acecdf",
   "metadata": {},
   "outputs": [
    {
     "name": "stdout",
     "output_type": "stream",
     "text": [
      "--- GPUがあれば使い、なければCPUにフォールバック ---\n",
      "GPUを検出しました。計算はGPUで行います。\n",
      "最終的な配列のデバイス: cuda:0\n"
     ]
    }
   ],
   "source": [
    "from qax.utils import device\n",
    "import jax\n",
    "\n",
    "print(\"--- GPUがあれば使い、なければCPUにフォールバック ---\")\n",
    "try:\n",
    "    # プライマリGPUの取得を試みる\n",
    "    target_device = device.select_gpu()\n",
    "    print(\"GPUを検出しました。計算はGPUで行います。\")\n",
    "except ValueError:\n",
    "    # GPUが見つからなければCPUを使う\n",
    "    target_device = device.select_cpu()\n",
    "    print(\"GPUが見つかりません。計算はCPUで行います。\")\n",
    "\n",
    "# データを作成し、選択したデバイスに配置\n",
    "my_array = jax.random.normal(jax.random.PRNGKey(0), (100, 100))\n",
    "my_array_on_device = device.to(my_array, target_device)\n",
    "\n",
    "print(f\"最終的な配列のデバイス: {list(my_array_on_device.devices())[0]}\")"
   ]
  },
  {
   "cell_type": "code",
   "execution_count": 10,
   "id": "9754695b-c5cb-423a-b297-c2cd6d216eac",
   "metadata": {},
   "outputs": [
    {
     "name": "stdout",
     "output_type": "stream",
     "text": [
      "--- マルチGPU並列計算の準備 ---\n",
      "1個のGPUを検出しました: [CudaDevice(id=0)]\n"
     ]
    }
   ],
   "source": [
    "from qax.utils import device\n",
    "import jax\n",
    "\n",
    "print(\"--- マルチGPU並列計算の準備 ---\")\n",
    "try:\n",
    "    # 利用可能なすべてのGPUデバイスを取得\n",
    "    gpu_list = device.list_gpus()\n",
    "    print(f\"{len(gpu_list)}個のGPUを検出しました: {gpu_list}\")\n",
    "\n",
    "    # このリストを `jax.pmap` に渡して並列化する\n",
    "    # @jax.pmap(devices=gpu_list)\n",
    "    # def parallel_function(data_chunk):\n",
    "    #     # ... 各GPUでの計算 ...\n",
    "    #     return result_chunk\n",
    "\n",
    "except ValueError as e:\n",
    "    print(e)"
   ]
  },
  {
   "cell_type": "code",
   "execution_count": 12,
   "id": "ec6c8a1a-9025-4a9e-8cfc-6900ee8d0e7b",
   "metadata": {},
   "outputs": [
    {
     "name": "stdout",
     "output_type": "stream",
     "text": [
      "ソルバーはデバイス cuda:0 上で実行されます。\n"
     ]
    }
   ],
   "source": [
    "from qax.core import Operator, StateVector\n",
    "from qax.utils import device\n",
    "\n",
    "class SchrodingerEquation:\n",
    "    def __init__(self, hamiltonian: Operator, initial_state: StateVector, device_str: str | None = None):\n",
    "        \"\"\"\n",
    "        ソルバーを初期化し、オブジェクトをターゲットデバイスに移動させる\n",
    "        \"\"\"\n",
    "        # device.pyのヘルパーでデバイスオブジェクトを取得\n",
    "        self.device = device.select_device(device_str)\n",
    "        print(f\"ソルバーはデバイス {self.device} 上で実行されます。\")\n",
    "\n",
    "        # device.to() を使ってオブジェクトを移動\n",
    "        self.hamiltonian = device.to(hamiltonian, self.device)\n",
    "        self.initial_state = device.to(initial_state, self.device)\n",
    "        \n",
    "# --- クラスの使い方 ---\n",
    "from qax import operator, state\n",
    "\n",
    "H = operator.pauli_z()\n",
    "psi0 = state.fock(0, 2)\n",
    "\n",
    "# ソルバーをインスタンス化する際に、'gpu'を指定\n",
    "try:\n",
    "    solver_gpu = SchrodingerEquation(H, psi0, device_str='gpu')\n",
    "except ValueError as e:\n",
    "    print(e)"
   ]
  },
  {
   "cell_type": "code",
   "execution_count": null,
   "id": "5c1b027c-018a-4133-bb60-b0a0cd7198e4",
   "metadata": {},
   "outputs": [],
   "source": []
  }
 ],
 "metadata": {
  "kernelspec": {
   "display_name": "Python 3 (ipykernel)",
   "language": "python",
   "name": "python3"
  },
  "language_info": {
   "codemirror_mode": {
    "name": "ipython",
    "version": 3
   },
   "file_extension": ".py",
   "mimetype": "text/x-python",
   "name": "python",
   "nbconvert_exporter": "python",
   "pygments_lexer": "ipython3",
   "version": "3.11.9"
  }
 },
 "nbformat": 4,
 "nbformat_minor": 5
}

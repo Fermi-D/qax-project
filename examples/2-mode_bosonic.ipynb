{
 "cells": [
  {
   "cell_type": "code",
   "execution_count": null,
   "id": "162c5a8d-dd4b-41b0-9b30-39fb37e2b3b2",
   "metadata": {},
   "outputs": [],
   "source": []
  },
  {
   "cell_type": "code",
   "execution_count": 1,
   "id": "705ea1e2-7421-4505-9590-93c6516c10e3",
   "metadata": {},
   "outputs": [],
   "source": [
    "import matplotlib.pyplot as plt\n",
    "import jax.numpy as jnp\n",
    "from jax import jit\n",
    "from functools import partial\n",
    "from jax.scipy.linalg import expm\n",
    "import jax\n",
    "\n",
    "import sys\n",
    "sys.path.append(\"/home/users/u0001529/ondemand/qax\")\n",
    "\n",
    "%load_ext autoreload\n",
    "%autoreload 2\n",
    "from qax.dynamics import state as qs\n",
    "from qax import operators as qo\n",
    "from qax import utils"
   ]
  },
  {
   "cell_type": "code",
   "execution_count": 10,
   "id": "3ee2af78-e6cc-42a3-89d7-c0bf798a347b",
   "metadata": {},
   "outputs": [],
   "source": [
    "import sympy\n",
    "\n",
    "sympy.init_printing()\n",
    "\n",
    "C_11 = sympy.Symbol(r\"C_{{\\rm sc}}\")\n",
    "y = sympy.Symbol('y_1')"
   ]
  },
  {
   "cell_type": "code",
   "execution_count": 8,
   "id": "ada6b5cb-f464-433a-a8cb-1aced662f86c",
   "metadata": {},
   "outputs": [],
   "source": [
    "from sympy import MatrixSymbol\n",
    "C = MatrixSymbol(\"C\", 5, 5)"
   ]
  },
  {
   "cell_type": "code",
   "execution_count": 9,
   "id": "652cb2c3-8c6c-4685-a886-e54003d4e2eb",
   "metadata": {},
   "outputs": [
    {
     "data": {
      "image/png": "[encoded data removed]",
      "text/latex": [
       "$\\displaystyle C$"
      ],
      "text/plain": [
       "C"
      ]
     },
     "execution_count": 9,
     "metadata": {},
     "output_type": "execute_result"
    }
   ],
   "source": [
    "C"
   ]
  },
  {
   "cell_type": "code",
   "execution_count": 11,
   "id": "339d9c90-3654-48bb-8c44-7a08a22d0335",
   "metadata": {},
   "outputs": [
    {
     "data": {
      "text/latex": [
       "$\\displaystyle \\left[\\begin{matrix}1 & x_{1}\\\\y_{1} & 1\\end{matrix}\\right]$"
      ],
      "text/plain": [
       "⎡1   x₁⎤\n",
       "⎢      ⎥\n",
       "⎣y₁  1 ⎦"
      ]
     },
     "execution_count": 11,
     "metadata": {},
     "output_type": "execute_result"
    }
   ],
   "source": [
    "sympy.Matrix([[1, x], [y, 1]])"
   ]
  },
  {
   "cell_type": "code",
   "execution_count": 14,
   "id": "1dc4ac5f-116d-4f1c-b226-62c381e295d0",
   "metadata": {},
   "outputs": [
    {
     "ename": "ImportError",
     "evalue": "LaTeX parsing requires the antlr4 Python package, provided by pip (antlr4-python3-runtime) or conda (antlr-python-runtime), version 4.11",
     "output_type": "error",
     "traceback": [
      "\u001b[0;31m---------------------------------------------------------------------------\u001b[0m",
      "\u001b[0;31mImportError\u001b[0m                               Traceback (most recent call last)",
      "Cell \u001b[0;32mIn[14], line 2\u001b[0m\n\u001b[1;32m      1\u001b[0m \u001b[38;5;28;01mfrom\u001b[39;00m\u001b[38;5;250m \u001b[39m\u001b[38;5;21;01msympy\u001b[39;00m\u001b[38;5;21;01m.\u001b[39;00m\u001b[38;5;21;01mparsing\u001b[39;00m\u001b[38;5;21;01m.\u001b[39;00m\u001b[38;5;21;01mlatex\u001b[39;00m\u001b[38;5;250m \u001b[39m\u001b[38;5;28;01mimport\u001b[39;00m parse_latex\n\u001b[0;32m----> 2\u001b[0m expr \u001b[38;5;241m=\u001b[39m \u001b[43mparse_latex\u001b[49m\u001b[43m(\u001b[49m\u001b[38;5;124;43mr\u001b[39;49m\u001b[38;5;124;43m'\u001b[39;49m\u001b[38;5;124;43m\\\u001b[39;49m\u001b[38;5;124;43mfrac\u001b[39;49m\u001b[38;5;132;43;01m{d}\u001b[39;49;00m\u001b[38;5;132;43;01m{dx}\u001b[39;49;00m\u001b[38;5;124;43m x^2\u001b[39;49m\u001b[38;5;124;43m'\u001b[39;49m\u001b[43m)\u001b[49m\n",
      "File \u001b[0;32m~/ondemand/jupyter/aarch64/lib/python3.11/site-packages/sympy/parsing/latex/__init__.py:61\u001b[0m, in \u001b[0;36mparse_latex\u001b[0;34m(s, strict, backend)\u001b[0m\n\u001b[1;32m     56\u001b[0m     _latex \u001b[38;5;241m=\u001b[39m import_module(\n\u001b[1;32m     57\u001b[0m         \u001b[38;5;124m'\u001b[39m\u001b[38;5;124msympy.parsing.latex._parse_latex_antlr\u001b[39m\u001b[38;5;124m'\u001b[39m,\n\u001b[1;32m     58\u001b[0m         import_kwargs\u001b[38;5;241m=\u001b[39m{\u001b[38;5;124m'\u001b[39m\u001b[38;5;124mfromlist\u001b[39m\u001b[38;5;124m'\u001b[39m: [\u001b[38;5;124m'\u001b[39m\u001b[38;5;124mX\u001b[39m\u001b[38;5;124m'\u001b[39m]})\n\u001b[1;32m     60\u001b[0m     \u001b[38;5;28;01mif\u001b[39;00m _latex \u001b[38;5;129;01mis\u001b[39;00m \u001b[38;5;129;01mnot\u001b[39;00m \u001b[38;5;28;01mNone\u001b[39;00m:\n\u001b[0;32m---> 61\u001b[0m         \u001b[38;5;28;01mreturn\u001b[39;00m \u001b[43m_latex\u001b[49m\u001b[38;5;241;43m.\u001b[39;49m\u001b[43mparse_latex\u001b[49m\u001b[43m(\u001b[49m\u001b[43ms\u001b[49m\u001b[43m,\u001b[49m\u001b[43m \u001b[49m\u001b[43mstrict\u001b[49m\u001b[43m)\u001b[49m\n\u001b[1;32m     62\u001b[0m \u001b[38;5;28;01melif\u001b[39;00m backend \u001b[38;5;241m==\u001b[39m \u001b[38;5;124m\"\u001b[39m\u001b[38;5;124mlark\u001b[39m\u001b[38;5;124m\"\u001b[39m:\n\u001b[1;32m     63\u001b[0m     \u001b[38;5;28;01mreturn\u001b[39;00m parse_latex_lark(s)\n",
      "File \u001b[0;32m~/ondemand/jupyter/aarch64/lib/python3.11/site-packages/sympy/parsing/latex/_parse_latex_antlr.py:66\u001b[0m, in \u001b[0;36mparse_latex\u001b[0;34m(sympy, strict)\u001b[0m\n\u001b[1;32m     62\u001b[0m antlr4 \u001b[38;5;241m=\u001b[39m import_module(\u001b[38;5;124m'\u001b[39m\u001b[38;5;124mantlr4\u001b[39m\u001b[38;5;124m'\u001b[39m)\n\u001b[1;32m     64\u001b[0m \u001b[38;5;28;01mif\u001b[39;00m \u001b[38;5;28;01mNone\u001b[39;00m \u001b[38;5;129;01min\u001b[39;00m [antlr4, MathErrorListener] \u001b[38;5;129;01mor\u001b[39;00m \\\n\u001b[1;32m     65\u001b[0m         \u001b[38;5;129;01mnot\u001b[39;00m version(\u001b[38;5;124m'\u001b[39m\u001b[38;5;124mantlr4-python3-runtime\u001b[39m\u001b[38;5;124m'\u001b[39m)\u001b[38;5;241m.\u001b[39mstartswith(\u001b[38;5;124m'\u001b[39m\u001b[38;5;124m4.11\u001b[39m\u001b[38;5;124m'\u001b[39m):\n\u001b[0;32m---> 66\u001b[0m     \u001b[38;5;28;01mraise\u001b[39;00m \u001b[38;5;167;01mImportError\u001b[39;00m(\u001b[38;5;124m\"\u001b[39m\u001b[38;5;124mLaTeX parsing requires the antlr4 Python package,\u001b[39m\u001b[38;5;124m\"\u001b[39m\n\u001b[1;32m     67\u001b[0m                       \u001b[38;5;124m\"\u001b[39m\u001b[38;5;124m provided by pip (antlr4-python3-runtime) or\u001b[39m\u001b[38;5;124m\"\u001b[39m\n\u001b[1;32m     68\u001b[0m                       \u001b[38;5;124m\"\u001b[39m\u001b[38;5;124m conda (antlr-python-runtime), version 4.11\u001b[39m\u001b[38;5;124m\"\u001b[39m)\n\u001b[1;32m     70\u001b[0m sympy \u001b[38;5;241m=\u001b[39m sympy\u001b[38;5;241m.\u001b[39mstrip()\n\u001b[1;32m     71\u001b[0m matherror \u001b[38;5;241m=\u001b[39m MathErrorListener(sympy)\n",
      "\u001b[0;31mImportError\u001b[0m: LaTeX parsing requires the antlr4 Python package, provided by pip (antlr4-python3-runtime) or conda (antlr-python-runtime), version 4.11"
     ]
    }
   ],
   "source": [
    "from sympy.parsing.latex import parse_latex\n",
    "expr = parse_latex(r'\\frac{d}{dx} x^2')"
   ]
  },
  {
   "cell_type": "code",
   "execution_count": null,
   "id": "9f5e378a-c45f-4568-953a-eb7f8d210b27",
   "metadata": {},
   "outputs": [],
   "source": []
  }
 ],
 "metadata": {
  "kernelspec": {
   "display_name": "Python 3 (ipykernel)",
   "language": "python",
   "name": "python3"
  },
  "language_info": {
   "codemirror_mode": {
    "name": "ipython",
    "version": 3
   },
   "file_extension": ".py",
   "mimetype": "text/x-python",
   "name": "python",
   "nbconvert_exporter": "python",
   "pygments_lexer": "ipython3",
   "version": "3.11.9"
  }
 },
 "nbformat": 4,
 "nbformat_minor": 5
}

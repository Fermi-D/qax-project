{
 "cells": [
  {
   "cell_type": "code",
   "execution_count": 4,
   "id": "d2883926-e2c3-457c-9b41-3b21390f86a6",
   "metadata": {},
   "outputs": [],
   "source": [
    "import jax.numpy as jnp\n",
    "from jax import jit\n",
    "from functools import partial"
   ]
  },
  {
   "cell_type": "code",
   "execution_count": 5,
   "id": "6ef7ead0-e554-41b2-bf5d-2c82331d6558",
   "metadata": {},
   "outputs": [
    {
     "name": "stdout",
     "output_type": "stream",
     "text": [
      "使用可能なGPUの数: 1\n"
     ]
    }
   ],
   "source": [
    "import jax\n",
    "\n",
    "# 全デバイスを取得\n",
    "devices = jax.devices()\n",
    "\n",
    "# GPUデバイスだけを抽出\n",
    "gpu_devices = [device for device in devices if device.platform == \"gpu\"]\n",
    "\n",
    "# GPUの数を出力\n",
    "print(\"使用可能なGPUの数:\", len(gpu_devices))"
   ]
  },
  {
   "cell_type": "code",
   "execution_count": 6,
   "id": "a8e824cb-580c-4b33-9172-28d74b05bc5a",
   "metadata": {},
   "outputs": [
    {
     "name": "stdout",
     "output_type": "stream",
     "text": [
      "51.1 μs ± 298 ns per loop (mean ± std. dev. of 7 runs, 10,000 loops each)\n"
     ]
    }
   ],
   "source": [
    "# 良い例2\n",
    "\n",
    "@partial(jit, static_argnums=(0,))\n",
    "def variable_jax_dot_deco(size):\n",
    "    x = jnp.arange(size**2, dtype=jnp.float32).reshape(size, size)\n",
    "    x_gram = jnp.dot(x, x.T)\n",
    "    return x_gram\n",
    "\n",
    "%timeit variable_jax_dot_deco(5).block_until_ready()"
   ]
  },
  {
   "cell_type": "code",
   "execution_count": 3,
   "id": "b4b08ad0-9647-4c39-847d-29eccf367e21",
   "metadata": {},
   "outputs": [],
   "source": [
    "def identity(dim: int) -> jnp.ndarray:\n",
    "    \"\"\"\n",
    "    Returns the Pauli X (sigma_x) operator.\n",
    "    The Pauli X operator is a 2x2 matrix defined as:\n",
    "    [[0, 1],\n",
    "     [1, 0]]\n",
    "    \n",
    "    Returns:\n",
    "        jnp.array: A 2x2 matrix of the Pauli X operator with complex64 precision.\n",
    "    \"\"\"\n",
    "    return jnp.identity(dim, dtype=jnp.complex64)"
   ]
  },
  {
   "cell_type": "code",
   "execution_count": 5,
   "id": "3e0f5b45-75bb-4dc3-8698-2f7fcbf9fd2c",
   "metadata": {},
   "outputs": [],
   "source": [
    "def pauli_x() -> jnp.ndarray:\n",
    "    \"\"\"\n",
    "    Returns the Pauli X (sigma_x) operator.\n",
    "    The Pauli X operator is a 2x2 matrix defined as:\n",
    "    [[0, 1],\n",
    "     [1, 0]]\n",
    "    \n",
    "    Returns:\n",
    "        jnp.array: A 2x2 matrix of the Pauli X operator with complex64 precision.\n",
    "    \"\"\"\n",
    "    return jnp.array([[0+0j, 1j+0j], [1j+0j, 0+0j]], dtype=jnp.complex64)"
   ]
  },
  {
   "cell_type": "code",
   "execution_count": 7,
   "id": "edb73907-5968-4381-b904-74664e29df4a",
   "metadata": {},
   "outputs": [
    {
     "data": {
      "text/plain": [
       "Array([[0.+0.j, 0.+1.j],\n",
       "       [0.+1.j, 0.+0.j]], dtype=complex64)"
      ]
     },
     "execution_count": 7,
     "metadata": {},
     "output_type": "execute_result"
    }
   ],
   "source": [
    "pauli_x()"
   ]
  },
  {
   "cell_type": "code",
   "execution_count": 2,
   "id": "75cfcc5b-8bee-4bf4-9b5a-91b3720dec2e",
   "metadata": {},
   "outputs": [
    {
     "name": "stdout",
     "output_type": "stream",
     "text": [
      "[[0.+0.j 1.+0.j 0.+0.j 0.+0.j]\n",
      " [1.+0.j 0.+0.j 0.+0.j 0.+0.j]\n",
      " [0.+0.j 0.+0.j 0.+0.j 1.+0.j]\n",
      " [0.+0.j 0.+0.j 1.+0.j 0.+0.j]]\n"
     ]
    }
   ],
   "source": [
    "import jax.numpy as jnp\n",
    "from functools import reduce\n",
    "\n",
    "def x_gate_on_qubit(i: int, n_qubits: int) -> jnp.ndarray:\n",
    "    \"\"\"\n",
    "    全 n_qubits 系において、0-indexedで i 番目の量子ビットにXゲートを作用させる行列を生成します。\n",
    "\n",
    "    Args:\n",
    "        i (int): Xゲートを作用させる量子ビットのインデックス（0-indexed）\n",
    "        n_qubits (int): 全体の量子ビット数\n",
    "\n",
    "    Returns:\n",
    "        jnp.ndarray: サイズ (2**n_qubits, 2**n_qubits) の作用素行列\n",
    "    \"\"\"\n",
    "    # Xゲートの定義\n",
    "    X = jnp.array([[0, 1],\n",
    "                   [1, 0]], dtype=jnp.complex64)\n",
    "    # 2次元単位行列\n",
    "    I = jnp.eye(2, dtype=jnp.complex64)\n",
    "    \n",
    "    # 各量子ビットに対する作用素のリストを作成\n",
    "    ops = [X if j == i else I for j in range(n_qubits)]\n",
    "    \n",
    "    # functools.reduce を用いてテンソル積（Kronecker積）で全体作用素を構成\n",
    "    full_operator = reduce(jnp.kron, ops)\n",
    "    return full_operator\n",
    "\n",
    "# 使用例: 3量子ビット系の2番目（0-indexed: i=1）にXゲートを作用させる場合\n",
    "if __name__ == \"__main__\":\n",
    "    operator_matrix = x_gate_on_qubit(1, 2)\n",
    "    print(operator_matrix)"
   ]
  },
  {
   "cell_type": "code",
   "execution_count": null,
   "id": "9b04cd3f-e972-4b94-bd02-a548205b1804",
   "metadata": {},
   "outputs": [],
   "source": [
    "import jax.numpy as jnp\n",
    "from jax import jit\n",
    "from functools import partial\n",
    "\n",
    "def X(n_qubit: int, target_qubit_idx: int) -> jnp.ndarray:\n",
    "    "
   ]
  },
  {
   "cell_type": "code",
   "execution_count": 11,
   "id": "ca66f90c-5e80-4685-862e-6a612e2475f1",
   "metadata": {},
   "outputs": [
    {
     "data": {
      "text/plain": [
       "1"
      ]
     },
     "execution_count": 11,
     "metadata": {},
     "output_type": "execute_result"
    }
   ],
   "source": [
    "jax.local_device_count()"
   ]
  },
  {
   "cell_type": "code",
   "execution_count": 12,
   "id": "c8026980-bfb5-429d-ab5c-07c6563a8b07",
   "metadata": {},
   "outputs": [
    {
     "data": {
      "text/plain": [
       "[CudaDevice(id=0)]"
      ]
     },
     "execution_count": 12,
     "metadata": {},
     "output_type": "execute_result"
    }
   ],
   "source": [
    "jax.devices()"
   ]
  },
  {
   "cell_type": "code",
   "execution_count": 15,
   "id": "97ead96a-11b5-41e3-9ea9-fc017ae9ec07",
   "metadata": {},
   "outputs": [
    {
     "name": "stdout",
     "output_type": "stream",
     "text": [
      "9.5 ms ± 57.9 μs per loop (mean ± std. dev. of 7 runs, 100 loops each)\n",
      "[1.2109671]\n"
     ]
    }
   ],
   "source": [
    "import jax.numpy as jnp\n",
    "from jax import random, pmap\n",
    "\n",
    "# 8枚のGPUがある環境で行列積を並列実行します。\n",
    "# 8つのランダムな5000x6000 行列を定義します。\n",
    "keys = random.split(random.PRNGKey(0), jax.local_device_count())\n",
    "mats = pmap(lambda key: random.normal(key, (5000, 6000)))(keys)\n",
    "\n",
    "# 明示的なデータ転送なく、行列積を各GPUで並列実行できます。\n",
    "%timeit result = pmap(lambda x: jnp.dot(x, x.T))(mats)  # result.shape = (8, 5000, 5000)\n",
    "\n",
    "# 各GPUの計算結果の平均を求めます。\n",
    "print(pmap(jnp.mean)(result))"
   ]
  },
  {
   "cell_type": "code",
   "execution_count": 17,
   "id": "ed7f2023-39d3-48ed-abac-8fbe7354d84e",
   "metadata": {},
   "outputs": [
    {
     "ename": "TypeError",
     "evalue": "dot_general requires contracting dimensions to have the same shape, got (6000,) and (5000,).",
     "output_type": "error",
     "traceback": [
      "\u001b[0;31m---------------------------------------------------------------------------\u001b[0m",
      "\u001b[0;31mTypeError\u001b[0m                                 Traceback (most recent call last)",
      "Cell \u001b[0;32mIn[17], line 1\u001b[0m\n\u001b[0;32m----> 1\u001b[0m \u001b[43mget_ipython\u001b[49m\u001b[43m(\u001b[49m\u001b[43m)\u001b[49m\u001b[38;5;241;43m.\u001b[39;49m\u001b[43mrun_line_magic\u001b[49m\u001b[43m(\u001b[49m\u001b[38;5;124;43m'\u001b[39;49m\u001b[38;5;124;43mtimeit\u001b[39;49m\u001b[38;5;124;43m'\u001b[39;49m\u001b[43m,\u001b[49m\u001b[43m \u001b[49m\u001b[38;5;124;43m'\u001b[39;49m\u001b[38;5;124;43mjnp.dot(mats, mats.T)\u001b[39;49m\u001b[38;5;124;43m'\u001b[39;49m\u001b[43m)\u001b[49m\n",
      "File \u001b[0;32m/usr/local/lib/python3.11/site-packages/IPython/core/interactiveshell.py:2480\u001b[0m, in \u001b[0;36mInteractiveShell.run_line_magic\u001b[0;34m(self, magic_name, line, _stack_depth)\u001b[0m\n\u001b[1;32m   2478\u001b[0m     kwargs[\u001b[38;5;124m'\u001b[39m\u001b[38;5;124mlocal_ns\u001b[39m\u001b[38;5;124m'\u001b[39m] \u001b[38;5;241m=\u001b[39m \u001b[38;5;28mself\u001b[39m\u001b[38;5;241m.\u001b[39mget_local_scope(stack_depth)\n\u001b[1;32m   2479\u001b[0m \u001b[38;5;28;01mwith\u001b[39;00m \u001b[38;5;28mself\u001b[39m\u001b[38;5;241m.\u001b[39mbuiltin_trap:\n\u001b[0;32m-> 2480\u001b[0m     result \u001b[38;5;241m=\u001b[39m \u001b[43mfn\u001b[49m\u001b[43m(\u001b[49m\u001b[38;5;241;43m*\u001b[39;49m\u001b[43margs\u001b[49m\u001b[43m,\u001b[49m\u001b[43m \u001b[49m\u001b[38;5;241;43m*\u001b[39;49m\u001b[38;5;241;43m*\u001b[39;49m\u001b[43mkwargs\u001b[49m\u001b[43m)\u001b[49m\n\u001b[1;32m   2482\u001b[0m \u001b[38;5;66;03m# The code below prevents the output from being displayed\u001b[39;00m\n\u001b[1;32m   2483\u001b[0m \u001b[38;5;66;03m# when using magics with decorator @output_can_be_silenced\u001b[39;00m\n\u001b[1;32m   2484\u001b[0m \u001b[38;5;66;03m# when the last Python token in the expression is a ';'.\u001b[39;00m\n\u001b[1;32m   2485\u001b[0m \u001b[38;5;28;01mif\u001b[39;00m \u001b[38;5;28mgetattr\u001b[39m(fn, magic\u001b[38;5;241m.\u001b[39mMAGIC_OUTPUT_CAN_BE_SILENCED, \u001b[38;5;28;01mFalse\u001b[39;00m):\n",
      "File \u001b[0;32m/usr/local/lib/python3.11/site-packages/IPython/core/magics/execution.py:1185\u001b[0m, in \u001b[0;36mExecutionMagics.timeit\u001b[0;34m(self, line, cell, local_ns)\u001b[0m\n\u001b[1;32m   1183\u001b[0m \u001b[38;5;28;01mfor\u001b[39;00m index \u001b[38;5;129;01min\u001b[39;00m \u001b[38;5;28mrange\u001b[39m(\u001b[38;5;241m0\u001b[39m, \u001b[38;5;241m10\u001b[39m):\n\u001b[1;32m   1184\u001b[0m     number \u001b[38;5;241m=\u001b[39m \u001b[38;5;241m10\u001b[39m \u001b[38;5;241m*\u001b[39m\u001b[38;5;241m*\u001b[39m index\n\u001b[0;32m-> 1185\u001b[0m     time_number \u001b[38;5;241m=\u001b[39m \u001b[43mtimer\u001b[49m\u001b[38;5;241;43m.\u001b[39;49m\u001b[43mtimeit\u001b[49m\u001b[43m(\u001b[49m\u001b[43mnumber\u001b[49m\u001b[43m)\u001b[49m\n\u001b[1;32m   1186\u001b[0m     \u001b[38;5;28;01mif\u001b[39;00m time_number \u001b[38;5;241m>\u001b[39m\u001b[38;5;241m=\u001b[39m \u001b[38;5;241m0.2\u001b[39m:\n\u001b[1;32m   1187\u001b[0m         \u001b[38;5;28;01mbreak\u001b[39;00m\n",
      "File \u001b[0;32m/usr/local/lib/python3.11/site-packages/IPython/core/magics/execution.py:173\u001b[0m, in \u001b[0;36mTimer.timeit\u001b[0;34m(self, number)\u001b[0m\n\u001b[1;32m    171\u001b[0m gc\u001b[38;5;241m.\u001b[39mdisable()\n\u001b[1;32m    172\u001b[0m \u001b[38;5;28;01mtry\u001b[39;00m:\n\u001b[0;32m--> 173\u001b[0m     timing \u001b[38;5;241m=\u001b[39m \u001b[38;5;28;43mself\u001b[39;49m\u001b[38;5;241;43m.\u001b[39;49m\u001b[43minner\u001b[49m\u001b[43m(\u001b[49m\u001b[43mit\u001b[49m\u001b[43m,\u001b[49m\u001b[43m \u001b[49m\u001b[38;5;28;43mself\u001b[39;49m\u001b[38;5;241;43m.\u001b[39;49m\u001b[43mtimer\u001b[49m\u001b[43m)\u001b[49m\n\u001b[1;32m    174\u001b[0m \u001b[38;5;28;01mfinally\u001b[39;00m:\n\u001b[1;32m    175\u001b[0m     \u001b[38;5;28;01mif\u001b[39;00m gcold:\n",
      "File \u001b[0;32m<magic-timeit>:1\u001b[0m, in \u001b[0;36minner\u001b[0;34m(_it, _timer)\u001b[0m\n",
      "    \u001b[0;31m[... skipping hidden 14 frame]\u001b[0m\n",
      "File \u001b[0;32m~/ondemand/jupyter/aarch64/lib/python3.11/site-packages/jax/_src/numpy/lax_numpy.py:9061\u001b[0m, in \u001b[0;36mdot\u001b[0;34m(a, b, precision, preferred_element_type)\u001b[0m\n\u001b[1;32m   9059\u001b[0m   \u001b[38;5;28;01melse\u001b[39;00m:\n\u001b[1;32m   9060\u001b[0m     contract_dims \u001b[38;5;241m=\u001b[39m ((a_ndim \u001b[38;5;241m-\u001b[39m \u001b[38;5;241m1\u001b[39m,), (b_ndim \u001b[38;5;241m-\u001b[39m \u001b[38;5;241m2\u001b[39m,))\n\u001b[0;32m-> 9061\u001b[0m result \u001b[38;5;241m=\u001b[39m \u001b[43mlax\u001b[49m\u001b[38;5;241;43m.\u001b[39;49m\u001b[43mdot_general\u001b[49m\u001b[43m(\u001b[49m\u001b[43ma\u001b[49m\u001b[43m,\u001b[49m\u001b[43m \u001b[49m\u001b[43mb\u001b[49m\u001b[43m,\u001b[49m\u001b[43m \u001b[49m\u001b[43mdimension_numbers\u001b[49m\u001b[38;5;241;43m=\u001b[39;49m\u001b[43m(\u001b[49m\u001b[43mcontract_dims\u001b[49m\u001b[43m,\u001b[49m\u001b[43m \u001b[49m\u001b[43mbatch_dims\u001b[49m\u001b[43m)\u001b[49m\u001b[43m,\u001b[49m\n\u001b[1;32m   9062\u001b[0m \u001b[43m                         \u001b[49m\u001b[43mprecision\u001b[49m\u001b[38;5;241;43m=\u001b[39;49m\u001b[43mprecision\u001b[49m\u001b[43m,\u001b[49m\n\u001b[1;32m   9063\u001b[0m \u001b[43m                         \u001b[49m\u001b[43mpreferred_element_type\u001b[49m\u001b[38;5;241;43m=\u001b[39;49m\u001b[43mpreferred_element_type\u001b[49m\u001b[43m)\u001b[49m\n\u001b[1;32m   9064\u001b[0m \u001b[38;5;28;01mreturn\u001b[39;00m lax_internal\u001b[38;5;241m.\u001b[39m_convert_element_type(result, preferred_element_type,\n\u001b[1;32m   9065\u001b[0m                                           output_weak_type)\n",
      "    \u001b[0;31m[... skipping hidden 7 frame]\u001b[0m\n",
      "File \u001b[0;32m~/ondemand/jupyter/aarch64/lib/python3.11/site-packages/jax/_src/lax/lax.py:3518\u001b[0m, in \u001b[0;36m_dot_general_shape_rule\u001b[0;34m(lhs, rhs, dimension_numbers, precision, preferred_element_type, out_sharding)\u001b[0m\n\u001b[1;32m   3515\u001b[0m \u001b[38;5;28;01mif\u001b[39;00m \u001b[38;5;129;01mnot\u001b[39;00m core\u001b[38;5;241m.\u001b[39mdefinitely_equal_shape(lhs_contracting_shape, rhs_contracting_shape):\n\u001b[1;32m   3516\u001b[0m   msg \u001b[38;5;241m=\u001b[39m (\u001b[38;5;124m\"\u001b[39m\u001b[38;5;124mdot_general requires contracting dimensions to have the same \u001b[39m\u001b[38;5;124m\"\u001b[39m\n\u001b[1;32m   3517\u001b[0m          \u001b[38;5;124m\"\u001b[39m\u001b[38;5;124mshape, got \u001b[39m\u001b[38;5;132;01m{}\u001b[39;00m\u001b[38;5;124m and \u001b[39m\u001b[38;5;132;01m{}\u001b[39;00m\u001b[38;5;124m.\u001b[39m\u001b[38;5;124m\"\u001b[39m)\n\u001b[0;32m-> 3518\u001b[0m   \u001b[38;5;28;01mraise\u001b[39;00m \u001b[38;5;167;01mTypeError\u001b[39;00m(msg\u001b[38;5;241m.\u001b[39mformat(lhs_contracting_shape, rhs_contracting_shape))\n\u001b[1;32m   3520\u001b[0m \u001b[38;5;28;01mreturn\u001b[39;00m _dot_general_shape_computation(lhs\u001b[38;5;241m.\u001b[39mshape, rhs\u001b[38;5;241m.\u001b[39mshape, dimension_numbers)\n",
      "\u001b[0;31mTypeError\u001b[0m: dot_general requires contracting dimensions to have the same shape, got (6000,) and (5000,)."
     ]
    }
   ],
   "source": [
    "%timeit jnp.dot(mats, mats.T)"
   ]
  },
  {
   "cell_type": "code",
   "execution_count": 18,
   "id": "40dc78b2-d533-47fc-9b3a-cfcf53509d6c",
   "metadata": {},
   "outputs": [],
   "source": [
    "import jax.numpy as jnp\n",
    "from jax import jit\n",
    "from functools import partial\n",
    "\n",
    "def X(n_qubit: int, target_qubit_idx: int) -> jnp.ndarray:\n",
    "    \n",
    "\n",
    "# 1-qubit gate\n",
    "## pauli X\n",
    "@partial(jit, static_argnums=(0, 0, ))\n",
    "def X(n_qubit: int, target_qubit_idx: int) -> jnp.ndarray:\n",
    "    I = identity\n",
    "    local_X = sigma_x()\n",
    "    if target_qubit_idx==0:\n",
    "        mat = local_X\n",
    "    else:\n",
    "        mat = I\n",
    "    for i in range(n_qubit-1):\n",
    "        if i+1==target_qubit_idx:\n",
    "            mat = jnp.kron(mat, local_X)\n",
    "        else:\n",
    "            mat = jnp.kron(mat, I)\n",
    "            \n",
    "    return mat"
   ]
  },
  {
   "cell_type": "code",
   "execution_count": 22,
   "id": "2e3e74f3-f145-4911-9b0c-1184eb26bec6",
   "metadata": {},
   "outputs": [
    {
     "ename": "TypeError",
     "evalue": "Expected a callable value, got [[0. 0. 1. 0.]\n [0. 0. 0. 1.]\n [1. 0. 0. 0.]\n [0. 1. 0. 0.]]",
     "output_type": "error",
     "traceback": [
      "\u001b[0;31m---------------------------------------------------------------------------\u001b[0m",
      "\u001b[0;31mTypeError\u001b[0m                                 Traceback (most recent call last)",
      "Cell \u001b[0;32mIn[22], line 1\u001b[0m\n\u001b[0;32m----> 1\u001b[0m \u001b[43mjit\u001b[49m\u001b[43m(\u001b[49m\u001b[43mX\u001b[49m\u001b[43m(\u001b[49m\u001b[38;5;241;43m2\u001b[39;49m\u001b[43m,\u001b[49m\u001b[43m \u001b[49m\u001b[38;5;241;43m0\u001b[39;49m\u001b[43m)\u001b[49m\u001b[43m)\u001b[49m\u001b[38;5;241m.\u001b[39mblock_until_ready()\n",
      "File \u001b[0;32m~/ondemand/jupyter/aarch64/lib/python3.11/site-packages/jax/_src/api.py:282\u001b[0m, in \u001b[0;36mjit\u001b[0;34m(fun, in_shardings, out_shardings, static_argnums, static_argnames, donate_argnums, donate_argnames, keep_unused, device, backend, inline, abstracted_axes, compiler_options)\u001b[0m\n\u001b[1;32m    142\u001b[0m \u001b[38;5;28;01mdef\u001b[39;00m \u001b[38;5;21mjit\u001b[39m(\n\u001b[1;32m    143\u001b[0m   fun: Callable,\n\u001b[1;32m    144\u001b[0m   in_shardings\u001b[38;5;241m=\u001b[39msharding_impls\u001b[38;5;241m.\u001b[39mUNSPECIFIED,\n\u001b[0;32m   (...)\u001b[0m\n\u001b[1;32m    155\u001b[0m   compiler_options: \u001b[38;5;28mdict\u001b[39m[\u001b[38;5;28mstr\u001b[39m, Any] \u001b[38;5;241m|\u001b[39m \u001b[38;5;28;01mNone\u001b[39;00m \u001b[38;5;241m=\u001b[39m \u001b[38;5;28;01mNone\u001b[39;00m,\n\u001b[1;32m    156\u001b[0m ) \u001b[38;5;241m-\u001b[39m\u001b[38;5;241m>\u001b[39m pjit\u001b[38;5;241m.\u001b[39mJitWrapped:\n\u001b[1;32m    157\u001b[0m \u001b[38;5;250m  \u001b[39m\u001b[38;5;124;03m\"\"\"Sets up ``fun`` for just-in-time compilation with XLA.\u001b[39;00m\n\u001b[1;32m    158\u001b[0m \n\u001b[1;32m    159\u001b[0m \u001b[38;5;124;03m  Args:\u001b[39;00m\n\u001b[0;32m   (...)\u001b[0m\n\u001b[1;32m    280\u001b[0m \u001b[38;5;124;03m    Array([   0,    1,  256, 6561], dtype=int32)\u001b[39;00m\n\u001b[1;32m    281\u001b[0m \u001b[38;5;124;03m  \"\"\"\u001b[39;00m\n\u001b[0;32m--> 282\u001b[0m   \u001b[38;5;28;01mreturn\u001b[39;00m \u001b[43mpjit\u001b[49m\u001b[38;5;241;43m.\u001b[39;49m\u001b[43mmake_jit\u001b[49m\u001b[43m(\u001b[49m\n\u001b[1;32m    283\u001b[0m \u001b[43m        \u001b[49m\u001b[43mfun\u001b[49m\u001b[43m,\u001b[49m\u001b[43m \u001b[49m\u001b[43min_shardings\u001b[49m\u001b[43m,\u001b[49m\u001b[43m \u001b[49m\u001b[43mout_shardings\u001b[49m\u001b[43m,\u001b[49m\u001b[43m \u001b[49m\u001b[43mdonate_argnums\u001b[49m\u001b[43m,\u001b[49m\u001b[43m \u001b[49m\u001b[43mdonate_argnames\u001b[49m\u001b[43m,\u001b[49m\n\u001b[1;32m    284\u001b[0m \u001b[43m        \u001b[49m\u001b[43mstatic_argnums\u001b[49m\u001b[43m,\u001b[49m\u001b[43m \u001b[49m\u001b[43mstatic_argnames\u001b[49m\u001b[43m,\u001b[49m\u001b[43m \u001b[49m\u001b[43mdevice\u001b[49m\u001b[43m,\u001b[49m\u001b[43m \u001b[49m\u001b[43mbackend\u001b[49m\u001b[43m,\u001b[49m\u001b[43m \u001b[49m\u001b[43mabstracted_axes\u001b[49m\u001b[43m,\u001b[49m\n\u001b[1;32m    285\u001b[0m \u001b[43m        \u001b[49m\u001b[43mkeep_unused\u001b[49m\u001b[43m,\u001b[49m\u001b[43m \u001b[49m\u001b[43minline\u001b[49m\u001b[43m,\u001b[49m\u001b[43m \u001b[49m\u001b[43mcompiler_options\u001b[49m\u001b[43m,\u001b[49m\u001b[43m \u001b[49m\u001b[43muse_resource_env\u001b[49m\u001b[38;5;241;43m=\u001b[39;49m\u001b[38;5;28;43;01mFalse\u001b[39;49;00m\u001b[43m)\u001b[49m\n",
      "File \u001b[0;32m~/ondemand/jupyter/aarch64/lib/python3.11/site-packages/jax/_src/pjit.py:526\u001b[0m, in \u001b[0;36mmake_jit\u001b[0;34m(fun, in_shardings, out_shardings, donate_argnums, donate_argnames, static_argnums, static_argnames, device, backend, abstracted_axes, keep_unused, inline, compiler_options, use_resource_env)\u001b[0m\n\u001b[1;32m    516\u001b[0m \u001b[38;5;28;01mdef\u001b[39;00m \u001b[38;5;21mmake_jit\u001b[39m(fun: Callable, in_shardings: Any, out_shardings: Any,\n\u001b[1;32m    517\u001b[0m              donate_argnums: \u001b[38;5;28mint\u001b[39m \u001b[38;5;241m|\u001b[39m Sequence[\u001b[38;5;28mint\u001b[39m] \u001b[38;5;241m|\u001b[39m \u001b[38;5;28;01mNone\u001b[39;00m,\n\u001b[1;32m    518\u001b[0m              donate_argnames: \u001b[38;5;28mstr\u001b[39m \u001b[38;5;241m|\u001b[39m Iterable[\u001b[38;5;28mstr\u001b[39m] \u001b[38;5;241m|\u001b[39m \u001b[38;5;28;01mNone\u001b[39;00m,\n\u001b[0;32m   (...)\u001b[0m\n\u001b[1;32m    523\u001b[0m              inline: \u001b[38;5;28mbool\u001b[39m, compiler_options: \u001b[38;5;28mdict\u001b[39m[\u001b[38;5;28mstr\u001b[39m, Any] \u001b[38;5;241m|\u001b[39m \u001b[38;5;28;01mNone\u001b[39;00m,\n\u001b[1;32m    524\u001b[0m              use_resource_env: \u001b[38;5;28mbool\u001b[39m) \u001b[38;5;241m-\u001b[39m\u001b[38;5;241m>\u001b[39m Any:\n\u001b[1;32m    525\u001b[0m \u001b[38;5;250m  \u001b[39m\u001b[38;5;124;03m\"\"\"jit() and pjit() are thin wrappers around this function.\"\"\"\u001b[39;00m\n\u001b[0;32m--> 526\u001b[0m   jit_info \u001b[38;5;241m=\u001b[39m \u001b[43m_parse_jit_arguments\u001b[49m\u001b[43m(\u001b[49m\n\u001b[1;32m    527\u001b[0m \u001b[43m        \u001b[49m\u001b[43mfun\u001b[49m\u001b[43m,\u001b[49m\u001b[43m \u001b[49m\u001b[43min_shardings\u001b[49m\u001b[43m,\u001b[49m\u001b[43m \u001b[49m\u001b[43mout_shardings\u001b[49m\u001b[43m,\u001b[49m\u001b[43m \u001b[49m\u001b[43mdonate_argnums\u001b[49m\u001b[43m,\u001b[49m\u001b[43m \u001b[49m\u001b[43mdonate_argnames\u001b[49m\u001b[43m,\u001b[49m\n\u001b[1;32m    528\u001b[0m \u001b[43m        \u001b[49m\u001b[43mstatic_argnums\u001b[49m\u001b[43m,\u001b[49m\u001b[43m \u001b[49m\u001b[43mstatic_argnames\u001b[49m\u001b[43m,\u001b[49m\u001b[43m \u001b[49m\u001b[43mdevice\u001b[49m\u001b[43m,\u001b[49m\u001b[43m \u001b[49m\u001b[43mbackend\u001b[49m\u001b[43m,\u001b[49m\u001b[43m \u001b[49m\u001b[43mabstracted_axes\u001b[49m\u001b[43m,\u001b[49m\n\u001b[1;32m    529\u001b[0m \u001b[43m        \u001b[49m\u001b[43mkeep_unused\u001b[49m\u001b[43m,\u001b[49m\u001b[43m \u001b[49m\u001b[43minline\u001b[49m\u001b[43m,\u001b[49m\u001b[43m \u001b[49m\u001b[43mcompiler_options\u001b[49m\u001b[43m,\u001b[49m\u001b[43m \u001b[49m\u001b[43muse_resource_env\u001b[49m\u001b[43m)\u001b[49m\n\u001b[1;32m    530\u001b[0m   \u001b[38;5;28;01mreturn\u001b[39;00m _make_jit_wrapper(fun, jit_info)\n",
      "File \u001b[0;32m~/ondemand/jupyter/aarch64/lib/python3.11/site-packages/jax/_src/pjit.py:413\u001b[0m, in \u001b[0;36m_parse_jit_arguments\u001b[0;34m(fun, in_shardings, out_shardings, donate_argnums, donate_argnames, static_argnums, static_argnames, device, backend, abstracted_axes, keep_unused, inline, compiler_options, use_resource_env)\u001b[0m\n\u001b[1;32m    410\u001b[0m \u001b[38;5;28;01mif\u001b[39;00m abstracted_axes \u001b[38;5;129;01mand\u001b[39;00m \u001b[38;5;129;01mnot\u001b[39;00m config\u001b[38;5;241m.\u001b[39mdynamic_shapes\u001b[38;5;241m.\u001b[39mvalue:\n\u001b[1;32m    411\u001b[0m   \u001b[38;5;28;01mraise\u001b[39;00m \u001b[38;5;167;01mValueError\u001b[39;00m(\u001b[38;5;124m\"\u001b[39m\u001b[38;5;124mabstracted_axes must be used with --jax_dynamic_shapes\u001b[39m\u001b[38;5;124m\"\u001b[39m)\n\u001b[0;32m--> 413\u001b[0m \u001b[43mcheck_callable\u001b[49m\u001b[43m(\u001b[49m\u001b[43mfun\u001b[49m\u001b[43m)\u001b[49m\n\u001b[1;32m    415\u001b[0m \u001b[38;5;28;01mif\u001b[39;00m backend \u001b[38;5;129;01mis\u001b[39;00m \u001b[38;5;129;01mnot\u001b[39;00m \u001b[38;5;28;01mNone\u001b[39;00m \u001b[38;5;129;01mor\u001b[39;00m device \u001b[38;5;129;01mis\u001b[39;00m \u001b[38;5;129;01mnot\u001b[39;00m \u001b[38;5;28;01mNone\u001b[39;00m:\n\u001b[1;32m    416\u001b[0m   warnings\u001b[38;5;241m.\u001b[39mwarn(\n\u001b[1;32m    417\u001b[0m       \u001b[38;5;124m'\u001b[39m\u001b[38;5;124mbackend and device argument on jit is deprecated. You can use\u001b[39m\u001b[38;5;124m'\u001b[39m\n\u001b[1;32m    418\u001b[0m       \u001b[38;5;124m'\u001b[39m\u001b[38;5;124m `jax.device_put(..., jax.local_devices(\u001b[39m\u001b[38;5;124m\"\u001b[39m\u001b[38;5;124mcpu\u001b[39m\u001b[38;5;124m\"\u001b[39m\u001b[38;5;124m)[0])` on the inputs to\u001b[39m\u001b[38;5;124m'\u001b[39m\n\u001b[1;32m    419\u001b[0m       \u001b[38;5;124m'\u001b[39m\u001b[38;5;124m the jitted function to get the same behavior.\u001b[39m\u001b[38;5;124m'\u001b[39m, \u001b[38;5;167;01mDeprecationWarning\u001b[39;00m)\n",
      "File \u001b[0;32m~/ondemand/jupyter/aarch64/lib/python3.11/site-packages/jax/_src/api_util.py:461\u001b[0m, in \u001b[0;36mcheck_callable\u001b[0;34m(fun)\u001b[0m\n\u001b[1;32m    459\u001b[0m   \u001b[38;5;28;01mraise\u001b[39;00m \u001b[38;5;167;01mTypeError\u001b[39;00m(\u001b[38;5;124mf\u001b[39m\u001b[38;5;124m\"\u001b[39m\u001b[38;5;124mstaticmethod arguments are not supported, got \u001b[39m\u001b[38;5;132;01m{\u001b[39;00mfun\u001b[38;5;132;01m}\u001b[39;00m\u001b[38;5;124m\"\u001b[39m)\n\u001b[1;32m    460\u001b[0m \u001b[38;5;28;01mif\u001b[39;00m \u001b[38;5;129;01mnot\u001b[39;00m \u001b[38;5;28mcallable\u001b[39m(fun):\n\u001b[0;32m--> 461\u001b[0m   \u001b[38;5;28;01mraise\u001b[39;00m \u001b[38;5;167;01mTypeError\u001b[39;00m(\u001b[38;5;124mf\u001b[39m\u001b[38;5;124m\"\u001b[39m\u001b[38;5;124mExpected a callable value, got \u001b[39m\u001b[38;5;132;01m{\u001b[39;00mfun\u001b[38;5;132;01m}\u001b[39;00m\u001b[38;5;124m\"\u001b[39m)\n\u001b[1;32m    462\u001b[0m \u001b[38;5;28;01mif\u001b[39;00m inspect\u001b[38;5;241m.\u001b[39misgeneratorfunction(fun):\n\u001b[1;32m    463\u001b[0m   \u001b[38;5;28;01mraise\u001b[39;00m \u001b[38;5;167;01mTypeError\u001b[39;00m(\u001b[38;5;124mf\u001b[39m\u001b[38;5;124m\"\u001b[39m\u001b[38;5;124mExpected a function, got a generator function: \u001b[39m\u001b[38;5;132;01m{\u001b[39;00mfun\u001b[38;5;132;01m}\u001b[39;00m\u001b[38;5;124m\"\u001b[39m)\n",
      "\u001b[0;31mTypeError\u001b[0m: Expected a callable value, got [[0. 0. 1. 0.]\n [0. 0. 0. 1.]\n [1. 0. 0. 0.]\n [0. 1. 0. 0.]]"
     ]
    }
   ],
   "source": [
    "jit(X(2, 0)).block_until_ready()"
   ]
  },
  {
   "cell_type": "code",
   "execution_count": 13,
   "id": "5bcadc45-fecb-4c32-8eec-47a151d776cf",
   "metadata": {},
   "outputs": [],
   "source": [
    "import jax\n",
    "import jax.numpy as jnp\n",
    "from jax import jit\n",
    "from functools import partial, reduce\n",
    "\n",
    "def identity(dim: int) -> jnp.ndarray:\n",
    "    return jnp.identity(dim, dtype=jnp.complex64)\n",
    "\n",
    "def pauli_x() -> jnp.ndarray:\n",
    "    return jnp.array([[0+0j, 1+0j], [1+0j, 0+0j]], dtype=jnp.complex64)\n",
    "\n",
    "@partial(jit, static_argnums=(0, 1))\n",
    "def X(target_qubit_idx: int, n_qubits: int) -> jnp.ndarray:\n",
    "    ops = [pauli_x() if i == target_qubit_idx else identity(dim=2) for i in range(n_qubits)]\n",
    "    mat = reduce(jnp.kron, ops)\n",
    "    return mat"
   ]
  },
  {
   "cell_type": "code",
   "execution_count": null,
   "id": "cf0d7f2f-9ee8-41ad-bb17-ef7f06fa94de",
   "metadata": {},
   "outputs": [],
   "source": [
    "%timeit X(0, 10)"
   ]
  },
  {
   "cell_type": "code",
   "execution_count": 8,
   "id": "c684099c-ce8c-48f5-b895-dba71d4b4a83",
   "metadata": {},
   "outputs": [],
   "source": [
    "def X(target_qubit_idx: int, n_qubits: int) -> jnp.ndarray:\n",
    "    ops = [pauli_x() if i == target_qubit_idx else identity(dim=2) for i in range(n_qubits)]\n",
    "    mat = reduce(jnp.kron, ops)\n",
    "    return mat"
   ]
  },
  {
   "cell_type": "code",
   "execution_count": 9,
   "id": "79bfd39e-0cf5-4761-8bfc-c7c2eeb23a6b",
   "metadata": {},
   "outputs": [
    {
     "name": "stdout",
     "output_type": "stream",
     "text": [
      "5.33 ms ± 192 μs per loop (mean ± std. dev. of 7 runs, 1 loop each)\n"
     ]
    }
   ],
   "source": [
    "%timeit X(0, 10)"
   ]
  },
  {
   "cell_type": "code",
   "execution_count": 12,
   "id": "4b3022ea-5616-4ff9-8fba-1798069ede05",
   "metadata": {},
   "outputs": [
    {
     "name": "stdout",
     "output_type": "stream",
     "text": [
      "The autoreload extension is already loaded. To reload it, use:\n",
      "  %reload_ext autoreload\n"
     ]
    },
    {
     "ename": "ModuleNotFoundError",
     "evalue": "No module named 'gate'",
     "output_type": "error",
     "traceback": [
      "\u001b[0;31m---------------------------------------------------------------------------\u001b[0m",
      "\u001b[0;31mModuleNotFoundError\u001b[0m                       Traceback (most recent call last)",
      "Cell \u001b[0;32mIn[12], line 3\u001b[0m\n\u001b[1;32m      1\u001b[0m get_ipython()\u001b[38;5;241m.\u001b[39mrun_line_magic(\u001b[38;5;124m'\u001b[39m\u001b[38;5;124mload_ext\u001b[39m\u001b[38;5;124m'\u001b[39m, \u001b[38;5;124m'\u001b[39m\u001b[38;5;124mautoreload\u001b[39m\u001b[38;5;124m'\u001b[39m)\n\u001b[1;32m      2\u001b[0m get_ipython()\u001b[38;5;241m.\u001b[39mrun_line_magic(\u001b[38;5;124m'\u001b[39m\u001b[38;5;124mautoreload\u001b[39m\u001b[38;5;124m'\u001b[39m, \u001b[38;5;124m'\u001b[39m\u001b[38;5;124m2\u001b[39m\u001b[38;5;124m'\u001b[39m)\n\u001b[0;32m----> 3\u001b[0m \u001b[38;5;28;01mimport\u001b[39;00m\u001b[38;5;250m \u001b[39m\u001b[38;5;21;01mgate\u001b[39;00m\n\u001b[1;32m      5\u001b[0m gate\u001b[38;5;241m.\u001b[39mX(\u001b[38;5;241m0\u001b[39m, \u001b[38;5;241m5\u001b[39m)\n",
      "\u001b[0;31mModuleNotFoundError\u001b[0m: No module named 'gate'"
     ]
    }
   ],
   "source": [
    "%load_ext autoreload\n",
    "%autoreload 2\n",
    "import gate\n",
    "\n",
    "gate.X(0, 5)"
   ]
  },
  {
   "cell_type": "code",
   "execution_count": 13,
   "id": "7c5defa7-8232-4b17-81ab-1de4d3f7e1e1",
   "metadata": {},
   "outputs": [
    {
     "name": "stdout",
     "output_type": "stream",
     "text": [
      "45\n"
     ]
    }
   ],
   "source": [
    "import jax\n",
    "\n",
    "def body_fun(i, val):\n",
    "    return val + i  # i番目のループで構成した値を返却 → 次のループで使用されるvalとなる\n",
    "\n",
    "# 最終ループで構成したvalがresultに格納される\n",
    "result = jax.lax.fori_loop(\n",
    "    1,        # i=0から始める\n",
    "    10,       # i<10まで実行する\n",
    "    body_fun, # for文の中で実行する関数\n",
    "    0,        # 実行する関数に渡すvalの初期値\n",
    ") \n",
    "\n",
    "print(result)"
   ]
  },
  {
   "cell_type": "code",
   "execution_count": 25,
   "id": "54f7b6ff-8049-4370-83ac-f5f9b960ba09",
   "metadata": {},
   "outputs": [],
   "source": [
    "def X(target_qubit_idx: int, n_qubits: int) -> jnp.ndarray:\n",
    "    \n",
    "    init_ops = jax.lax.cond(target_qubit_idx==0, lambda: pauli_x(), lambda: identity(2))\n",
    "\n",
    "    def loop_kron(i, acc):\n",
    "        ops = jax.lax.cond(target_qubit_idx==i, lambda: pauli_x(), lambda: identity(2))\n",
    "        return jnp.kron(acc, ops)\n",
    "\n",
    "    tot_mat = jax.lax.fori_loop(1, n_qubits, loop_kron, init_ops)\n",
    "    return tot_mat"
   ]
  },
  {
   "cell_type": "code",
   "execution_count": 26,
   "id": "bac27b5e-f8cf-4a89-a741-4cc595acc177",
   "metadata": {},
   "outputs": [
    {
     "ename": "TypeError",
     "evalue": "scan body function carry input and carry output must have equal types (e.g. shapes and dtypes of arrays), but they differ:\n\nThe input carry component loop_carry[1] has type complex64[2,2] but the corresponding output carry component has type complex64[4,4], so the shapes do not match.\n\nRevise the function so that all output types (e.g. shapes and dtypes) match the corresponding input types.",
     "output_type": "error",
     "traceback": [
      "\u001b[0;31m---------------------------------------------------------------------------\u001b[0m",
      "\u001b[0;31mTypeError\u001b[0m                                 Traceback (most recent call last)",
      "Cell \u001b[0;32mIn[26], line 1\u001b[0m\n\u001b[0;32m----> 1\u001b[0m \u001b[43mget_ipython\u001b[49m\u001b[43m(\u001b[49m\u001b[43m)\u001b[49m\u001b[38;5;241;43m.\u001b[39;49m\u001b[43mrun_line_magic\u001b[49m\u001b[43m(\u001b[49m\u001b[38;5;124;43m'\u001b[39;49m\u001b[38;5;124;43mtimeit\u001b[39;49m\u001b[38;5;124;43m'\u001b[39;49m\u001b[43m,\u001b[49m\u001b[43m \u001b[49m\u001b[38;5;124;43m'\u001b[39;49m\u001b[38;5;124;43mX(0, 10)\u001b[39;49m\u001b[38;5;124;43m'\u001b[39;49m\u001b[43m)\u001b[49m\n",
      "File \u001b[0;32m/usr/local/lib/python3.11/site-packages/IPython/core/interactiveshell.py:2480\u001b[0m, in \u001b[0;36mInteractiveShell.run_line_magic\u001b[0;34m(self, magic_name, line, _stack_depth)\u001b[0m\n\u001b[1;32m   2478\u001b[0m     kwargs[\u001b[38;5;124m'\u001b[39m\u001b[38;5;124mlocal_ns\u001b[39m\u001b[38;5;124m'\u001b[39m] \u001b[38;5;241m=\u001b[39m \u001b[38;5;28mself\u001b[39m\u001b[38;5;241m.\u001b[39mget_local_scope(stack_depth)\n\u001b[1;32m   2479\u001b[0m \u001b[38;5;28;01mwith\u001b[39;00m \u001b[38;5;28mself\u001b[39m\u001b[38;5;241m.\u001b[39mbuiltin_trap:\n\u001b[0;32m-> 2480\u001b[0m     result \u001b[38;5;241m=\u001b[39m \u001b[43mfn\u001b[49m\u001b[43m(\u001b[49m\u001b[38;5;241;43m*\u001b[39;49m\u001b[43margs\u001b[49m\u001b[43m,\u001b[49m\u001b[43m \u001b[49m\u001b[38;5;241;43m*\u001b[39;49m\u001b[38;5;241;43m*\u001b[39;49m\u001b[43mkwargs\u001b[49m\u001b[43m)\u001b[49m\n\u001b[1;32m   2482\u001b[0m \u001b[38;5;66;03m# The code below prevents the output from being displayed\u001b[39;00m\n\u001b[1;32m   2483\u001b[0m \u001b[38;5;66;03m# when using magics with decorator @output_can_be_silenced\u001b[39;00m\n\u001b[1;32m   2484\u001b[0m \u001b[38;5;66;03m# when the last Python token in the expression is a ';'.\u001b[39;00m\n\u001b[1;32m   2485\u001b[0m \u001b[38;5;28;01mif\u001b[39;00m \u001b[38;5;28mgetattr\u001b[39m(fn, magic\u001b[38;5;241m.\u001b[39mMAGIC_OUTPUT_CAN_BE_SILENCED, \u001b[38;5;28;01mFalse\u001b[39;00m):\n",
      "File \u001b[0;32m/usr/local/lib/python3.11/site-packages/IPython/core/magics/execution.py:1185\u001b[0m, in \u001b[0;36mExecutionMagics.timeit\u001b[0;34m(self, line, cell, local_ns)\u001b[0m\n\u001b[1;32m   1183\u001b[0m \u001b[38;5;28;01mfor\u001b[39;00m index \u001b[38;5;129;01min\u001b[39;00m \u001b[38;5;28mrange\u001b[39m(\u001b[38;5;241m0\u001b[39m, \u001b[38;5;241m10\u001b[39m):\n\u001b[1;32m   1184\u001b[0m     number \u001b[38;5;241m=\u001b[39m \u001b[38;5;241m10\u001b[39m \u001b[38;5;241m*\u001b[39m\u001b[38;5;241m*\u001b[39m index\n\u001b[0;32m-> 1185\u001b[0m     time_number \u001b[38;5;241m=\u001b[39m \u001b[43mtimer\u001b[49m\u001b[38;5;241;43m.\u001b[39;49m\u001b[43mtimeit\u001b[49m\u001b[43m(\u001b[49m\u001b[43mnumber\u001b[49m\u001b[43m)\u001b[49m\n\u001b[1;32m   1186\u001b[0m     \u001b[38;5;28;01mif\u001b[39;00m time_number \u001b[38;5;241m>\u001b[39m\u001b[38;5;241m=\u001b[39m \u001b[38;5;241m0.2\u001b[39m:\n\u001b[1;32m   1187\u001b[0m         \u001b[38;5;28;01mbreak\u001b[39;00m\n",
      "File \u001b[0;32m/usr/local/lib/python3.11/site-packages/IPython/core/magics/execution.py:173\u001b[0m, in \u001b[0;36mTimer.timeit\u001b[0;34m(self, number)\u001b[0m\n\u001b[1;32m    171\u001b[0m gc\u001b[38;5;241m.\u001b[39mdisable()\n\u001b[1;32m    172\u001b[0m \u001b[38;5;28;01mtry\u001b[39;00m:\n\u001b[0;32m--> 173\u001b[0m     timing \u001b[38;5;241m=\u001b[39m \u001b[38;5;28;43mself\u001b[39;49m\u001b[38;5;241;43m.\u001b[39;49m\u001b[43minner\u001b[49m\u001b[43m(\u001b[49m\u001b[43mit\u001b[49m\u001b[43m,\u001b[49m\u001b[43m \u001b[49m\u001b[38;5;28;43mself\u001b[39;49m\u001b[38;5;241;43m.\u001b[39;49m\u001b[43mtimer\u001b[49m\u001b[43m)\u001b[49m\n\u001b[1;32m    174\u001b[0m \u001b[38;5;28;01mfinally\u001b[39;00m:\n\u001b[1;32m    175\u001b[0m     \u001b[38;5;28;01mif\u001b[39;00m gcold:\n",
      "File \u001b[0;32m<magic-timeit>:1\u001b[0m, in \u001b[0;36minner\u001b[0;34m(_it, _timer)\u001b[0m\n",
      "Cell \u001b[0;32mIn[25], line 8\u001b[0m, in \u001b[0;36mX\u001b[0;34m(target_qubit_idx, n_qubits)\u001b[0m\n\u001b[1;32m      5\u001b[0m     ops \u001b[38;5;241m=\u001b[39m jax\u001b[38;5;241m.\u001b[39mlax\u001b[38;5;241m.\u001b[39mcond(target_qubit_idx\u001b[38;5;241m==\u001b[39mi, \u001b[38;5;28;01mlambda\u001b[39;00m: pauli_x(), \u001b[38;5;28;01mlambda\u001b[39;00m: identity(\u001b[38;5;241m2\u001b[39m))\n\u001b[1;32m      6\u001b[0m     \u001b[38;5;28;01mreturn\u001b[39;00m jnp\u001b[38;5;241m.\u001b[39mkron(acc, ops)\n\u001b[0;32m----> 8\u001b[0m tot_mat \u001b[38;5;241m=\u001b[39m \u001b[43mjax\u001b[49m\u001b[38;5;241;43m.\u001b[39;49m\u001b[43mlax\u001b[49m\u001b[38;5;241;43m.\u001b[39;49m\u001b[43mfori_loop\u001b[49m\u001b[43m(\u001b[49m\u001b[38;5;241;43m1\u001b[39;49m\u001b[43m,\u001b[49m\u001b[43m \u001b[49m\u001b[43mn_qubits\u001b[49m\u001b[43m,\u001b[49m\u001b[43m \u001b[49m\u001b[43mloop_kron\u001b[49m\u001b[43m,\u001b[49m\u001b[43m \u001b[49m\u001b[43minit_ops\u001b[49m\u001b[43m)\u001b[49m\n\u001b[1;32m      9\u001b[0m \u001b[38;5;28;01mreturn\u001b[39;00m tot_mat\n",
      "    \u001b[0;31m[... skipping hidden 4 frame]\u001b[0m\n",
      "File \u001b[0;32m~/ondemand/jupyter/aarch64/lib/python3.11/site-packages/jax/_src/lax/control_flow/loops.py:420\u001b[0m, in \u001b[0;36m_check_carry_type\u001b[0;34m(name, body_fun, in_carry, out_carry_tree, out_avals)\u001b[0m\n\u001b[1;32m    417\u001b[0m \u001b[38;5;28;01melse\u001b[39;00m:\n\u001b[1;32m    418\u001b[0m   differences \u001b[38;5;241m=\u001b[39m (\u001b[38;5;124m'\u001b[39m\u001b[38;5;130;01m\\n\u001b[39;00m\u001b[38;5;124m'\u001b[39m\u001b[38;5;241m.\u001b[39mjoin(\u001b[38;5;124mf\u001b[39m\u001b[38;5;124m'\u001b[39m\u001b[38;5;124m  * \u001b[39m\u001b[38;5;132;01m{\u001b[39;00md\u001b[38;5;132;01m}\u001b[39;00m\u001b[38;5;124m;\u001b[39m\u001b[38;5;130;01m\\n\u001b[39;00m\u001b[38;5;124m'\u001b[39m \u001b[38;5;28;01mfor\u001b[39;00m d \u001b[38;5;129;01min\u001b[39;00m diffs[:\u001b[38;5;241m-\u001b[39m\u001b[38;5;241m1\u001b[39m])\n\u001b[1;32m    419\u001b[0m                  \u001b[38;5;241m+\u001b[39m \u001b[38;5;124mf\u001b[39m\u001b[38;5;124m'\u001b[39m\u001b[38;5;124m  * \u001b[39m\u001b[38;5;132;01m{\u001b[39;00mdiffs[\u001b[38;5;241m-\u001b[39m\u001b[38;5;241m1\u001b[39m]\u001b[38;5;132;01m}\u001b[39;00m\u001b[38;5;124m.\u001b[39m\u001b[38;5;130;01m\\n\u001b[39;00m\u001b[38;5;124m'\u001b[39m)\n\u001b[0;32m--> 420\u001b[0m \u001b[38;5;28;01mraise\u001b[39;00m \u001b[38;5;167;01mTypeError\u001b[39;00m(\n\u001b[1;32m    421\u001b[0m     \u001b[38;5;124mf\u001b[39m\u001b[38;5;124m\"\u001b[39m\u001b[38;5;132;01m{\u001b[39;00mname\u001b[38;5;132;01m}\u001b[39;00m\u001b[38;5;124m function carry input and carry output must have equal types \u001b[39m\u001b[38;5;124m\"\u001b[39m\n\u001b[1;32m    422\u001b[0m     \u001b[38;5;124m\"\u001b[39m\u001b[38;5;124m(e.g. shapes and dtypes of arrays), \u001b[39m\u001b[38;5;124m\"\u001b[39m\n\u001b[1;32m    423\u001b[0m     \u001b[38;5;124m\"\u001b[39m\u001b[38;5;124mbut they differ:\u001b[39m\u001b[38;5;130;01m\\n\u001b[39;00m\u001b[38;5;130;01m\\n\u001b[39;00m\u001b[38;5;124m\"\u001b[39m\n\u001b[1;32m    424\u001b[0m     \u001b[38;5;124mf\u001b[39m\u001b[38;5;124m\"\u001b[39m\u001b[38;5;132;01m{\u001b[39;00mdifferences\u001b[38;5;132;01m}\u001b[39;00m\u001b[38;5;130;01m\\n\u001b[39;00m\u001b[38;5;124m\"\u001b[39m\n\u001b[1;32m    425\u001b[0m     \u001b[38;5;124m\"\u001b[39m\u001b[38;5;124mRevise the function so that all output types (e.g. shapes \u001b[39m\u001b[38;5;124m\"\u001b[39m\n\u001b[1;32m    426\u001b[0m     \u001b[38;5;124m\"\u001b[39m\u001b[38;5;124mand dtypes) match the corresponding input types.\u001b[39m\u001b[38;5;124m\"\u001b[39m)\n",
      "\u001b[0;31mTypeError\u001b[0m: scan body function carry input and carry output must have equal types (e.g. shapes and dtypes of arrays), but they differ:\n\nThe input carry component loop_carry[1] has type complex64[2,2] but the corresponding output carry component has type complex64[4,4], so the shapes do not match.\n\nRevise the function so that all output types (e.g. shapes and dtypes) match the corresponding input types."
     ]
    }
   ],
   "source": [
    "%timeit X(0, 10)"
   ]
  },
  {
   "cell_type": "code",
   "execution_count": 17,
   "id": "757bc6d4-1f22-45c1-aece-529bf25bc1ee",
   "metadata": {},
   "outputs": [],
   "source": [
    "import jax\n",
    "import jax.numpy as jnp\n",
    "\n",
    "def identity(dim: int) -> jnp.ndarray:\n",
    "    return jnp.identity(dim, dtype=jnp.complex64)\n",
    "\n",
    "def pauli_x() -> jnp.ndarray:\n",
    "    return jnp.array([[0+0j, 1+0j],\n",
    "                      [1+0j, 0+0j]], dtype=jnp.complex64)\n",
    "\n",
    "def X(target_qubit_idx: int, n_qubits: int) -> jnp.ndarray:\n",
    "    # 最終的な行列サイズは 2^n_qubits × 2^n_qubits\n",
    "    final_dim = 2 ** n_qubits\n",
    "\n",
    "    # 初期状態：量子ビット 0 に対応するオペレータを設定し、最終サイズのゼロ行列の左上に埋め込む\n",
    "    init_op = jax.lax.cond(\n",
    "        target_qubit_idx == 0,\n",
    "        lambda _: pauli_x(),\n",
    "        lambda _: identity(2),\n",
    "        operand=None\n",
    "    )\n",
    "    acc0 = jnp.zeros((final_dim, final_dim), dtype=jnp.complex64)\n",
    "    acc0 = jax.lax.dynamic_update_slice(acc0, init_op, (0, 0))\n",
    "    \n",
    "    def loop_kron(i, acc):\n",
    "        # 現在の有効部分のサイズ（2^i × 2^i）\n",
    "        current_size = 2 ** i\n",
    "        current = jax.lax.dynamic_slice(acc, (0, 0), (current_size, current_size))\n",
    "        # i 番目の量子ビットに対するオペレータを選択\n",
    "        op = jax.lax.cond(\n",
    "            target_qubit_idx == i,\n",
    "            lambda _: pauli_x(),\n",
    "            lambda _: identity(2),\n",
    "            operand=None\n",
    "        )\n",
    "        # 現在のオペレータとのクロネッカー積を計算（サイズは 2^(i+1) × 2^(i+1) になる）\n",
    "        new_val = jnp.kron(current, op)\n",
    "        # 最終サイズのゼロ行列を作成し、左上に new_val を埋め込むことで carry の型を固定\n",
    "        new_acc = jnp.zeros((final_dim, final_dim), dtype=jnp.complex64)\n",
    "        new_acc = jax.lax.dynamic_update_slice(new_acc, new_val, (0, 0))\n",
    "        return new_acc\n",
    "\n",
    "    # i = 1 から n_qubits - 1 までループ\n",
    "    tot_mat = jax.lax.fori_loop(1, n_qubits, loop_kron, acc0)\n",
    "    return tot_mat"
   ]
  },
  {
   "cell_type": "code",
   "execution_count": 18,
   "id": "32b642db-b3e5-41ac-8aef-e2a0f3608f94",
   "metadata": {},
   "outputs": [
    {
     "ename": "TypeError",
     "evalue": "Shapes must be 1D sequences of concrete values of integer type, got (Traced<ShapedArray(int32[])>with<DynamicJaxprTrace>, Traced<ShapedArray(int32[])>with<DynamicJaxprTrace>).\nIf using `jit`, try using `static_argnums` or applying `jit` to smaller subfunctions.\nThe error occurred while tracing the function loop_kron at /tmp/ipykernel_637915/777855946.py:25 for scan. This concrete value was not available in Python because it depends on the value of the argument loop_carry[0].\nThe error occurred while tracing the function loop_kron at /tmp/ipykernel_637915/777855946.py:25 for scan. This concrete value was not available in Python because it depends on the value of the argument loop_carry[0].",
     "output_type": "error",
     "traceback": [
      "\u001b[0;31m---------------------------------------------------------------------------\u001b[0m",
      "\u001b[0;31mTypeError\u001b[0m                                 Traceback (most recent call last)",
      "Cell \u001b[0;32mIn[18], line 1\u001b[0m\n\u001b[0;32m----> 1\u001b[0m \u001b[43mget_ipython\u001b[49m\u001b[43m(\u001b[49m\u001b[43m)\u001b[49m\u001b[38;5;241;43m.\u001b[39;49m\u001b[43mrun_line_magic\u001b[49m\u001b[43m(\u001b[49m\u001b[38;5;124;43m'\u001b[39;49m\u001b[38;5;124;43mtimeit\u001b[39;49m\u001b[38;5;124;43m'\u001b[39;49m\u001b[43m,\u001b[49m\u001b[43m \u001b[49m\u001b[38;5;124;43m'\u001b[39;49m\u001b[38;5;124;43mX(0, 10)\u001b[39;49m\u001b[38;5;124;43m'\u001b[39;49m\u001b[43m)\u001b[49m\n",
      "File \u001b[0;32m/usr/local/lib/python3.11/site-packages/IPython/core/interactiveshell.py:2482\u001b[0m, in \u001b[0;36mInteractiveShell.run_line_magic\u001b[0;34m(self, magic_name, line, _stack_depth)\u001b[0m\n\u001b[1;32m   2480\u001b[0m     kwargs[\u001b[38;5;124m'\u001b[39m\u001b[38;5;124mlocal_ns\u001b[39m\u001b[38;5;124m'\u001b[39m] \u001b[38;5;241m=\u001b[39m \u001b[38;5;28mself\u001b[39m\u001b[38;5;241m.\u001b[39mget_local_scope(stack_depth)\n\u001b[1;32m   2481\u001b[0m \u001b[38;5;28;01mwith\u001b[39;00m \u001b[38;5;28mself\u001b[39m\u001b[38;5;241m.\u001b[39mbuiltin_trap:\n\u001b[0;32m-> 2482\u001b[0m     result \u001b[38;5;241m=\u001b[39m \u001b[43mfn\u001b[49m\u001b[43m(\u001b[49m\u001b[38;5;241;43m*\u001b[39;49m\u001b[43margs\u001b[49m\u001b[43m,\u001b[49m\u001b[43m \u001b[49m\u001b[38;5;241;43m*\u001b[39;49m\u001b[38;5;241;43m*\u001b[39;49m\u001b[43mkwargs\u001b[49m\u001b[43m)\u001b[49m\n\u001b[1;32m   2484\u001b[0m \u001b[38;5;66;03m# The code below prevents the output from being displayed\u001b[39;00m\n\u001b[1;32m   2485\u001b[0m \u001b[38;5;66;03m# when using magics with decorator @output_can_be_silenced\u001b[39;00m\n\u001b[1;32m   2486\u001b[0m \u001b[38;5;66;03m# when the last Python token in the expression is a ';'.\u001b[39;00m\n\u001b[1;32m   2487\u001b[0m \u001b[38;5;28;01mif\u001b[39;00m \u001b[38;5;28mgetattr\u001b[39m(fn, magic\u001b[38;5;241m.\u001b[39mMAGIC_OUTPUT_CAN_BE_SILENCED, \u001b[38;5;28;01mFalse\u001b[39;00m):\n",
      "File \u001b[0;32m/usr/local/lib/python3.11/site-packages/IPython/core/magics/execution.py:1209\u001b[0m, in \u001b[0;36mExecutionMagics.timeit\u001b[0;34m(self, line, cell, local_ns)\u001b[0m\n\u001b[1;32m   1207\u001b[0m \u001b[38;5;28;01mfor\u001b[39;00m index \u001b[38;5;129;01min\u001b[39;00m \u001b[38;5;28mrange\u001b[39m(\u001b[38;5;241m0\u001b[39m, \u001b[38;5;241m10\u001b[39m):\n\u001b[1;32m   1208\u001b[0m     number \u001b[38;5;241m=\u001b[39m \u001b[38;5;241m10\u001b[39m \u001b[38;5;241m*\u001b[39m\u001b[38;5;241m*\u001b[39m index\n\u001b[0;32m-> 1209\u001b[0m     time_number \u001b[38;5;241m=\u001b[39m \u001b[43mtimer\u001b[49m\u001b[38;5;241;43m.\u001b[39;49m\u001b[43mtimeit\u001b[49m\u001b[43m(\u001b[49m\u001b[43mnumber\u001b[49m\u001b[43m)\u001b[49m\n\u001b[1;32m   1210\u001b[0m     \u001b[38;5;28;01mif\u001b[39;00m time_number \u001b[38;5;241m>\u001b[39m\u001b[38;5;241m=\u001b[39m \u001b[38;5;241m0.2\u001b[39m:\n\u001b[1;32m   1211\u001b[0m         \u001b[38;5;28;01mbreak\u001b[39;00m\n",
      "File \u001b[0;32m/usr/local/lib/python3.11/site-packages/IPython/core/magics/execution.py:173\u001b[0m, in \u001b[0;36mTimer.timeit\u001b[0;34m(self, number)\u001b[0m\n\u001b[1;32m    171\u001b[0m gc\u001b[38;5;241m.\u001b[39mdisable()\n\u001b[1;32m    172\u001b[0m \u001b[38;5;28;01mtry\u001b[39;00m:\n\u001b[0;32m--> 173\u001b[0m     timing \u001b[38;5;241m=\u001b[39m \u001b[38;5;28;43mself\u001b[39;49m\u001b[38;5;241;43m.\u001b[39;49m\u001b[43minner\u001b[49m\u001b[43m(\u001b[49m\u001b[43mit\u001b[49m\u001b[43m,\u001b[49m\u001b[43m \u001b[49m\u001b[38;5;28;43mself\u001b[39;49m\u001b[38;5;241;43m.\u001b[39;49m\u001b[43mtimer\u001b[49m\u001b[43m)\u001b[49m\n\u001b[1;32m    174\u001b[0m \u001b[38;5;28;01mfinally\u001b[39;00m:\n\u001b[1;32m    175\u001b[0m     \u001b[38;5;28;01mif\u001b[39;00m gcold:\n",
      "File \u001b[0;32m<magic-timeit>:1\u001b[0m, in \u001b[0;36minner\u001b[0;34m(_it, _timer)\u001b[0m\n",
      "Cell \u001b[0;32mIn[17], line 44\u001b[0m, in \u001b[0;36mX\u001b[0;34m(target_qubit_idx, n_qubits)\u001b[0m\n\u001b[1;32m     41\u001b[0m     \u001b[38;5;28;01mreturn\u001b[39;00m new_acc\n\u001b[1;32m     43\u001b[0m \u001b[38;5;66;03m# i = 1 から n_qubits - 1 までループ\u001b[39;00m\n\u001b[0;32m---> 44\u001b[0m tot_mat \u001b[38;5;241m=\u001b[39m \u001b[43mjax\u001b[49m\u001b[38;5;241;43m.\u001b[39;49m\u001b[43mlax\u001b[49m\u001b[38;5;241;43m.\u001b[39;49m\u001b[43mfori_loop\u001b[49m\u001b[43m(\u001b[49m\u001b[38;5;241;43m1\u001b[39;49m\u001b[43m,\u001b[49m\u001b[43m \u001b[49m\u001b[43mn_qubits\u001b[49m\u001b[43m,\u001b[49m\u001b[43m \u001b[49m\u001b[43mloop_kron\u001b[49m\u001b[43m,\u001b[49m\u001b[43m \u001b[49m\u001b[43macc0\u001b[49m\u001b[43m)\u001b[49m\n\u001b[1;32m     45\u001b[0m \u001b[38;5;28;01mreturn\u001b[39;00m tot_mat\n",
      "    \u001b[0;31m[... skipping hidden 12 frame]\u001b[0m\n",
      "Cell \u001b[0;32mIn[17], line 28\u001b[0m, in \u001b[0;36mX.<locals>.loop_kron\u001b[0;34m(i, acc)\u001b[0m\n\u001b[1;32m     25\u001b[0m \u001b[38;5;28;01mdef\u001b[39;00m\u001b[38;5;250m \u001b[39m\u001b[38;5;21mloop_kron\u001b[39m(i, acc):\n\u001b[1;32m     26\u001b[0m     \u001b[38;5;66;03m# 現在の有効部分のサイズ（2^i × 2^i）\u001b[39;00m\n\u001b[1;32m     27\u001b[0m     current_size \u001b[38;5;241m=\u001b[39m \u001b[38;5;241m2\u001b[39m \u001b[38;5;241m*\u001b[39m\u001b[38;5;241m*\u001b[39m i\n\u001b[0;32m---> 28\u001b[0m     current \u001b[38;5;241m=\u001b[39m \u001b[43mjax\u001b[49m\u001b[38;5;241;43m.\u001b[39;49m\u001b[43mlax\u001b[49m\u001b[38;5;241;43m.\u001b[39;49m\u001b[43mdynamic_slice\u001b[49m\u001b[43m(\u001b[49m\u001b[43macc\u001b[49m\u001b[43m,\u001b[49m\u001b[43m \u001b[49m\u001b[43m(\u001b[49m\u001b[38;5;241;43m0\u001b[39;49m\u001b[43m,\u001b[49m\u001b[43m \u001b[49m\u001b[38;5;241;43m0\u001b[39;49m\u001b[43m)\u001b[49m\u001b[43m,\u001b[49m\u001b[43m \u001b[49m\u001b[43m(\u001b[49m\u001b[43mcurrent_size\u001b[49m\u001b[43m,\u001b[49m\u001b[43m \u001b[49m\u001b[43mcurrent_size\u001b[49m\u001b[43m)\u001b[49m\u001b[43m)\u001b[49m\n\u001b[1;32m     29\u001b[0m     \u001b[38;5;66;03m# i 番目の量子ビットに対するオペレータを選択\u001b[39;00m\n\u001b[1;32m     30\u001b[0m     op \u001b[38;5;241m=\u001b[39m jax\u001b[38;5;241m.\u001b[39mlax\u001b[38;5;241m.\u001b[39mcond(\n\u001b[1;32m     31\u001b[0m         target_qubit_idx \u001b[38;5;241m==\u001b[39m i,\n\u001b[1;32m     32\u001b[0m         \u001b[38;5;28;01mlambda\u001b[39;00m _: pauli_x(),\n\u001b[1;32m     33\u001b[0m         \u001b[38;5;28;01mlambda\u001b[39;00m _: identity(\u001b[38;5;241m2\u001b[39m),\n\u001b[1;32m     34\u001b[0m         operand\u001b[38;5;241m=\u001b[39m\u001b[38;5;28;01mNone\u001b[39;00m\n\u001b[1;32m     35\u001b[0m     )\n",
      "    \u001b[0;31m[... skipping hidden 1 frame]\u001b[0m\n",
      "File \u001b[0;32m~/ondemand/jupyter/aarch64/lib/python3.11/site-packages/jax/_src/core.py:1643\u001b[0m, in \u001b[0;36mcanonicalize_shape\u001b[0;34m(shape, context)\u001b[0m\n\u001b[1;32m   1641\u001b[0m \u001b[38;5;28;01mexcept\u001b[39;00m \u001b[38;5;167;01mTypeError\u001b[39;00m:\n\u001b[1;32m   1642\u001b[0m   \u001b[38;5;28;01mpass\u001b[39;00m\n\u001b[0;32m-> 1643\u001b[0m \u001b[38;5;28;01mraise\u001b[39;00m _invalid_shape_error(shape, context)\n",
      "\u001b[0;31mTypeError\u001b[0m: Shapes must be 1D sequences of concrete values of integer type, got (Traced<ShapedArray(int32[])>with<DynamicJaxprTrace>, Traced<ShapedArray(int32[])>with<DynamicJaxprTrace>).\nIf using `jit`, try using `static_argnums` or applying `jit` to smaller subfunctions.\nThe error occurred while tracing the function loop_kron at /tmp/ipykernel_637915/777855946.py:25 for scan. This concrete value was not available in Python because it depends on the value of the argument loop_carry[0].\nThe error occurred while tracing the function loop_kron at /tmp/ipykernel_637915/777855946.py:25 for scan. This concrete value was not available in Python because it depends on the value of the argument loop_carry[0]."
     ]
    }
   ],
   "source": [
    "%timeit X(0, 10)"
   ]
  },
  {
   "cell_type": "markdown",
   "id": "2f54ea77-ca86-4898-80ca-abe56d4080dd",
   "metadata": {},
   "source": [
    "## quantum gate"
   ]
  },
  {
   "cell_type": "code",
   "execution_count": 4,
   "id": "28a42d11-0229-4b38-a63f-56ad78f7f6b1",
   "metadata": {},
   "outputs": [],
   "source": [
    "import jax.numpy as jnp\n",
    "from jax import jit\n",
    "from functools import partial\n",
    "\n",
    "# 1-qubit gate\n",
    "## pauli X\n",
    "@partial(jit, static_argnums=(0, 0, ))\n",
    "def X(n_qubit: int, target_qubit_idx: int) -> jnp.ndarray:\n",
    "    I = jnp.eye(2)\n",
    "    local_X = jnp.array([[0,1],[1,0]])\n",
    "    if target_qubit_idx==0:\n",
    "        mat = local_X\n",
    "    else:\n",
    "        mat = I\n",
    "    for i in range(n_qubit-1):\n",
    "        if i+1==target_qubit_idx:\n",
    "            mat = jnp.kron(mat, local_X)\n",
    "        else:\n",
    "            mat = jnp.kron(mat, I)\n",
    "            \n",
    "    return mat\n",
    "\n",
    "## pauli Y\n",
    "def Y(n_qubit, target_qubit_idx):\n",
    "    I = jnp.eye(2)\n",
    "    local_Y = np.array([[0,-1j], [1j,0]])\n",
    "    if target_qubit_idx==0:\n",
    "        mat = local_Y\n",
    "    else:\n",
    "        mat = I\n",
    "    for i in range(n_qubit-1):\n",
    "        if i+1==target_qubit_idx:\n",
    "            mat = jnp.kron(mat, local_Y)\n",
    "        else:\n",
    "            mat = jnp.kron(mat, I)\n",
    "            \n",
    "    return mat\n",
    "\n",
    "## pauli Z\n",
    "def Z(n_qubit, target_qubit_idx):\n",
    "    I = np.eye(2)\n",
    "    local_Z = jnp.array([[1,0], [0,-1]])\n",
    "    if target_qubit_idx==0:\n",
    "        mat = local_Z\n",
    "    else:\n",
    "        mat = I\n",
    "    for i in range(n_qubit-1):\n",
    "        if i+1==target_qubit_idx:\n",
    "            mat = jnp.kron(mat, local_Z)\n",
    "        else:\n",
    "            mat = jnp.kron(mat, I)\n",
    "            \n",
    "    return mat\n",
    "\n",
    "## Hadamard gate\n",
    "def H(n_qubit, target_qubit_idx):\n",
    "    I = np.eye(2)\n",
    "    local_H = jnp.array([[1,1], [1,-1]]) / np.sqrt(2)\n",
    "    if target_qubit_idx==0:\n",
    "        mat = local_H\n",
    "    else:\n",
    "        mat = I\n",
    "    for i in range(n_qubit-1):\n",
    "        if i+1==target_qubit_idx:\n",
    "            mat = jnp.kron(mat, local_H)\n",
    "        else:\n",
    "            mat = jnp.kron(mat, I)\n",
    "            \n",
    "    return mat\n",
    "\n",
    "## S gate\n",
    "def S(n_qubit, target_qubit_idx):\n",
    "    I = np.eye(2)\n",
    "    local_S = jnp.array([[1,0], [0,1j]])\n",
    "    if target_qubit_idx==0:\n",
    "        mat = local_S\n",
    "    else:\n",
    "        mat = I\n",
    "    for i in range(n_qubit-1):\n",
    "        if i+1==target_qubit_idx:\n",
    "            mat = jnp.kron(mat, local_S)\n",
    "        else:\n",
    "            mat = jnp.kron(mat, I)\n",
    "            \n",
    "    return mat\n",
    "\n",
    "## T gate\n",
    "def T(n_qubit, target_qubit_idx):\n",
    "    I = np.eye(2)\n",
    "    local_T = jnp.array([[1,0], [0,-np.exp(1j*np.pi/4)]])\n",
    "    if target_qubit_idx==0:\n",
    "        mat = local_T\n",
    "    else:\n",
    "        mat = I\n",
    "    for i in range(n_qubit-1):\n",
    "        if i+1==target_qubit_idx:\n",
    "            mat = jnp.kron(mat, local_T)\n",
    "        else:\n",
    "            mat = jnp.kron(mat, I)\n",
    "            \n",
    "    return mat\n",
    "\n",
    "## Rx gate\n",
    "def Rx(n_qubit, target_qubit_idx, theta):\n",
    "    I = np.eye(2)\n",
    "    local_Rx = jnp.array([[np.cos(theta/2),-1j*np.sin(theta/2)], [-1j*np.sin(theta/2),np.cos(theta/2)]])\n",
    "    if target_qubit_idx==0:\n",
    "        mat = local_Rx\n",
    "    else:\n",
    "        mat = I\n",
    "    for i in range(n_qubit-1):\n",
    "        if i+1==target_qubit_idx:\n",
    "            mat = jnp.kron(mat, local_Rx)\n",
    "        else:\n",
    "            mat = jnp.kron(mat, I)\n",
    "            \n",
    "    return mat\n",
    "\n",
    "## Ry gate\n",
    "def Ry(n_qubit, target_qubit_idx, theta):\n",
    "    I = np.eye(2)\n",
    "    local_Ry = jnp.array([[np.cos(theta/2),-np.sin(theta/2)], [-np.sin(theta/2),np.cos(theta/2)]])\n",
    "    if target_qubit_idx==0:\n",
    "        mat = local_Ry\n",
    "    else:\n",
    "        mat = I\n",
    "    for i in range(n_qubit-1):\n",
    "        if i+1==target_qubit_idx:\n",
    "            mat = jnp.kron(mat, local_Ry)\n",
    "        else:\n",
    "            mat = jnp.kron(mat, I)\n",
    "            \n",
    "    return mat\n",
    "\n",
    "## Rz gate\n",
    "def Rz(n_qubit, target_qubit_idx, theta):\n",
    "    I = np.eye(2)\n",
    "    local_Rz = np.array([[np.exp(-1j*theta/2),0], [0,np.cos(1j*theta/2)]])\n",
    "    if target_qubit_idx==0:\n",
    "        mat = local_Rz\n",
    "    else:\n",
    "        mat = I\n",
    "    for i in range(n_qubit-1):\n",
    "        if i+1==target_qubit_idx:\n",
    "            mat = np.kron(mat, local_Rz)\n",
    "        else:\n",
    "            mat = np.kron(mat, I)\n",
    "            \n",
    "    return mat\n",
    "\n",
    "# 2-qubit gate\n",
    "## CX gate\n",
    "def CX(n_qubit, control_qubit_idx, target_qubit_idx):\n",
    "    I = np.eye(2)\n",
    "    ket_0 = np.array([[1],[0]]) \n",
    "    ket_1 = np.array([[0],[1]])\n",
    "    \n",
    "    mat_00 = ket_0 @ ket_0.T.conjugate() ### |0><0|\n",
    "    mat_11 = ket_1 @ ket_1.T.conjugate() ### |1><1|\n",
    "    \n",
    "    eye_tensor = I\n",
    "    \n",
    "    for i in range(n_qubit-2):\n",
    "        eye_tensor = np.kron(eye_tensor, I)\n",
    "    \n",
    "    if control_qubit_idx < target_qubit_idx:\n",
    "        ### |0><0|　\\otimes I \\otimes ... \\otimes I\n",
    "        cx_mat_term1 = np.kron(mat_00, eye_tensor)\n",
    "        ### |1><1| \\otimes I ... \\otimes X ...\n",
    "        cx_mat_term2 = np.kron(mat_11, X(n_qubit-1, target_qubit_idx-1))\n",
    "        \n",
    "    if control_qubit_idx > target_qubit_idx:\n",
    "        ### I \\otimes ... \\otimes I \\otimes |0><0|\n",
    "        cx_mat_term1 = np.kron(eye_tensor, mat_00)\n",
    "        ### ... \\otimes X ... \\otimes |1><1|\n",
    "        cx_mat_term2 = np.kron(X(n_qubit-1, target_qubit_idx), mat_11)\n",
    "    \n",
    "    mat = cx_mat_term1 + cx_mat_term2\n",
    "    \n",
    "    return mat\n",
    "\n",
    "## CY gate\n",
    "def CY(n_qubit, control_qubit_idx, target_qubit_idx):\n",
    "    I = np.eye(2)\n",
    "    ket_0 = np.array([[1],[0]]) \n",
    "    ket_1 = np.array([[0],[1]])\n",
    "    \n",
    "    mat_00 = ket_0 @ ket_0.T.conjugate() ### |0><0|\n",
    "    mat_11 = ket_1 @ ket_1.T.conjugate() ### |1><1|\n",
    "    \n",
    "    eye_tensor = I\n",
    "    \n",
    "    for i in range(n_qubit-2):\n",
    "        eye_tensor = np.kron(eye_tensor, I)\n",
    "    \n",
    "    if control_qubit_idx < target_qubit_idx:\n",
    "        ### |0><0|　\\otimes I \\otimes ... \\otimes I\n",
    "        cx_mat_term1 = np.kron(mat_00, eye_tensor)\n",
    "        ### |1><1| \\otimes ... \\otimes Y ...\n",
    "        cx_mat_term2 = np.kron(mat_11, Y(n_qubit-1, target_qubit_idx-1))\n",
    "        \n",
    "    if control_qubit_idx > target_qubit_idx:\n",
    "        ### I \\otimes ... \\otimes I \\otimes |0><0|\n",
    "        cx_mat_term1 = np.kron(eye_tensor, mat_00)\n",
    "        ### ... \\otimes Y ... \\otimes |1><1|\n",
    "        cx_mat_term2 = np.kron(Y(n_qubit-1, target_qubit_idx), mat_11)\n",
    "    \n",
    "    mat = cx_mat_term1 + cx_mat_term2\n",
    "    \n",
    "    return mat\n",
    "\n",
    "## CZ gate\n",
    "def CZ(n_qubit, control_qubit_idx, target_qubit_idx):\n",
    "    I = np.eye(2)\n",
    "    ket_0 = np.array([[1],[0]]) \n",
    "    ket_1 = np.array([[0],[1]])\n",
    "    \n",
    "    mat_00 = ket_0 @ ket_0.T.conjugate() ### |0><0|\n",
    "    mat_11 = ket_1 @ ket_1.T.conjugate() ### |1><1|\n",
    "    \n",
    "    eye_tensor = I\n",
    "    \n",
    "    for i in range(n_qubit-2):\n",
    "        eye_tensor = np.kron(eye_tensor, I)\n",
    "    \n",
    "    if control_qubit_idx < target_qubit_idx:\n",
    "        ### |0><0|　\\otimes I \\otimes ... \\otimes I\n",
    "        cx_mat_term1 = np.kron(mat_00, eye_tensor)\n",
    "        ### |1><1| \\otimes I ... \\otimes Z ...\n",
    "        cx_mat_term2 = np.kron(mat_11, Z(n_qubit-1, target_qubit_idx-1))\n",
    "        \n",
    "    if control_qubit_idx > target_qubit_idx:\n",
    "        ### I \\otimes ... \\otimes I \\otimes |0><0|\n",
    "        cx_mat_term1 = np.kron(eye_tensor, mat_00)\n",
    "        ### ... \\otimes Z ... \\otimes |1><1|\n",
    "        cx_mat_term2 = np.kron(Z(n_qubit-1, target_qubit_idx), mat_11)\n",
    "    \n",
    "    mat = cx_mat_term1 + cx_mat_term2\n",
    "    \n",
    "    return mat\n",
    "\n",
    "## CH gate\n",
    "def CH(n_qubit, control_qubit_idx, target_qubit_idx):\n",
    "    I = np.eye(2)\n",
    "    ket_0 = np.array([[1],[0]]) \n",
    "    ket_1 = np.array([[0],[1]])\n",
    "    \n",
    "    mat_00 = ket_0 @ ket_0.T.conjugate() ### |0><0|\n",
    "    mat_11 = ket_1 @ ket_1.T.conjugate() ### |1><1|\n",
    "    \n",
    "    eye_tensor = I\n",
    "    \n",
    "    for i in range(n_qubit-2):\n",
    "        eye_tensor = np.kron(eye_tensor, I)\n",
    "    \n",
    "    if control_qubit_idx < target_qubit_idx:\n",
    "        ### |0><0|　\\otimes I \\otimes ... \\otimes I\n",
    "        cx_mat_term1 = np.kron(mat_00, eye_tensor)\n",
    "        ### |1><1| \\otimes I ... \\otimes H ...\n",
    "        cx_mat_term2 = np.kron(mat_11, H(n_qubit-1, target_qubit_idx-1))\n",
    "        \n",
    "    if control_qubit_idx > target_qubit_idx:\n",
    "        ### I \\otimes ... \\otimes I \\otimes |0><0|\n",
    "        cx_mat_term1 = np.kron(eye_tensor, mat_00)\n",
    "        ### ... \\otimes H ... \\otimes |1><1|\n",
    "        cx_mat_term2 = np.kron(H(n_qubit-1, target_qubit_idx), mat_11)\n",
    "    \n",
    "    mat = cx_mat_term1 + cx_mat_term2\n",
    "    \n",
    "    return mat\n",
    "\n",
    "## CRx gate\n",
    "def CRx(n_qubit, control_qubit_idx, target_qubit_idx, theta):\n",
    "    I = np.eye(2)\n",
    "    ket_0 = np.array([[1],[0]]) \n",
    "    ket_1 = np.array([[0],[1]])\n",
    "    \n",
    "    mat_00 = ket_0 @ ket_0.T.conjugate() ### |0><0|\n",
    "    mat_11 = ket_1 @ ket_1.T.conjugate() ### |1><1|\n",
    "    \n",
    "    eye_tensor = I\n",
    "    \n",
    "    for i in range(n_qubit-2):\n",
    "        eye_tensor = np.kron(eye_tensor, I)\n",
    "    \n",
    "    if control_qubit_idx < target_qubit_idx:\n",
    "        ### |0><0|　\\otimes I \\otimes ... \\otimes I\n",
    "        cx_mat_term1 = np.kron(mat_00, eye_tensor)\n",
    "        ### |1><1| \\otimes I ... \\otimes Rx ...\n",
    "        cx_mat_term2 = np.kron(mat_11, Rx(n_qubit-1, target_qubit_idx-1, theta))\n",
    "        \n",
    "    if control_qubit_idx > target_qubit_idx:\n",
    "        ### I \\otimes ... \\otimes I \\otimes |0><0|\n",
    "        cx_mat_term1 = np.kron(eye_tensor, mat_00)\n",
    "        ### ... \\otimes Rx ... \\otimes |1><1|\n",
    "        cx_mat_term2 = np.kron(Rx(n_qubit-1, target_qubit_idx, theta), mat_11)\n",
    "    \n",
    "    mat = cx_mat_term1 + cx_mat_term2\n",
    "    \n",
    "    return mat\n",
    "\n",
    "## CRy gate\n",
    "def CRy(n_qubit, control_qubit_idx, target_qubit_idx, theta):\n",
    "    I = np.eye(2)\n",
    "    ket_0 = np.array([[1],[0]]) \n",
    "    ket_1 = np.array([[0],[1]])\n",
    "    \n",
    "    mat_00 = ket_0 @ ket_0.T.conjugate() ### |0><0|\n",
    "    mat_11 = ket_1 @ ket_1.T.conjugate() ### |1><1|\n",
    "    \n",
    "    eye_tensor = I\n",
    "    \n",
    "    for i in range(n_qubit-2):\n",
    "        eye_tensor = np.kron(eye_tensor, I)\n",
    "    \n",
    "    if control_qubit_idx < target_qubit_idx:\n",
    "        ### |0><0|　\\otimes I \\otimes ... \\otimes I\n",
    "        cx_mat_term1 = np.kron(mat_00, eye_tensor)\n",
    "        ### |1><1| \\otimes I ... \\otimes Ry ...\n",
    "        cx_mat_term2 = np.kron(mat_11, Ry(n_qubit-1, target_qubit_idx-1, theta))\n",
    "        \n",
    "    if control_qubit_idx > target_qubit_idx:\n",
    "        ### I \\otimes ... \\otimes I \\otimes |0><0|\n",
    "        cx_mat_term1 = np.kron(eye_tensor, mat_00)\n",
    "        ### ... \\otimes Ry ... \\otimes |1><1|\n",
    "        cx_mat_term2 = np.kron(Ry(n_qubit-1, target_qubit_idx, theta), mat_11)\n",
    "    \n",
    "    mat = cx_mat_term1 + cx_mat_term2\n",
    "    \n",
    "    return mat\n",
    "\n",
    "## CRz gate\n",
    "def CRz(n_qubit, control_qubit_idx, target_qubit_idx, theta):\n",
    "    I = np.eye(2)\n",
    "    ket_0 = np.array([[1],[0]]) \n",
    "    ket_1 = np.array([[0],[1]])\n",
    "    \n",
    "    mat_00 = ket_0 @ ket_0.T.conjugate() ### |0><0|\n",
    "    mat_11 = ket_1 @ ket_1.T.conjugate() ### |1><1|\n",
    "    \n",
    "    eye_tensor = I\n",
    "    \n",
    "    for i in range(n_qubit-2):\n",
    "        eye_tensor = np.kron(eye_tensor, I)\n",
    "    \n",
    "    if control_qubit_idx < target_qubit_idx:\n",
    "        ### |0><0|　\\otimes I \\otimes ... \\otimes I\n",
    "        cx_mat_term1 = np.kron(mat_00, eye_tensor)\n",
    "        ### |1><1| \\otimes I ... \\otimes Rz ...\n",
    "        cx_mat_term2 = np.kron(mat_11, Rz(n_qubit-1, target_qubit_idx-1, theta))\n",
    "        \n",
    "    if control_qubit_idx > target_qubit_idx:\n",
    "        ### I \\otimes ... \\otimes I \\otimes |0><0|\n",
    "        cx_mat_term1 = np.kron(eye_tensor, mat_00)\n",
    "        ### ... \\otimes Rz ... \\otimes |1><1|\n",
    "        cx_mat_term2 = np.kron(Rz(n_qubit-1, target_qubit_idx, theta), mat_11)\n",
    "    \n",
    "    mat = cx_mat_term1 + cx_mat_term2\n",
    "    \n",
    "    return mat\n",
    "\n",
    "## SWAP gate\n",
    "def SWAP(n_qubit, qubit_idx_1, qubit_idx_2):\n",
    "    mat = CX(n_qubit, qubit_idx_1, qubit_idx_2) @ CX(n_qubit, qubit_idx_2, qubit_idx_1)\n",
    "    mat = mat @ CX(n_qubit, qubit_idx_1, qubit_idx_2)\n",
    "    \n",
    "    return mat\n",
    "\n",
    "# 3-qubit gate\n",
    "## toffoli gate\n",
    "\"\"\"\n",
    "def toffoli(n_qubit, control_qubit_idx_1, control_qubit_idx_2, target_qubit_idx):\n",
    "\"\"\"\n",
    "\n",
    "def global_depolarizing_error(state, n_qubit, error_rate):\n",
    "    return (1-error_rate)*state + error_rate*np.trace(state)*np.eye(2**n_qubit)/(2**n_qubit)\n",
    "    \n",
    "def unitary_error(state, n_qubit, theta, target_qubit_idx):\n",
    "    return Rx(n_qubit, target_qubit_idx, theta) @ state @ Rx(n_qubit, target_qubit_idx, theta).T.conjugate()"
   ]
  },
  {
   "cell_type": "code",
   "execution_count": 5,
   "id": "adf2bc81-e423-4e28-bfca-3f5b304bc2ca",
   "metadata": {},
   "outputs": [
    {
     "ename": "TypeError",
     "evalue": "X() takes 2 positional arguments but 3 were given",
     "output_type": "error",
     "traceback": [
      "\u001b[0;31m---------------------------------------------------------------------------\u001b[0m",
      "\u001b[0;31mTypeError\u001b[0m                                 Traceback (most recent call last)",
      "Cell \u001b[0;32mIn[5], line 1\u001b[0m\n\u001b[0;32m----> 1\u001b[0m \u001b[43mX\u001b[49m\u001b[43m(\u001b[49m\u001b[38;5;241;43m2\u001b[39;49m\u001b[43m,\u001b[49m\u001b[43m \u001b[49m\u001b[38;5;241;43m0\u001b[39;49m\u001b[43m)\u001b[49m\u001b[38;5;241m.\u001b[39mblock_until_ready()\n",
      "    \u001b[0;31m[... skipping hidden 14 frame]\u001b[0m\n",
      "File \u001b[0;32m~/ondemand/jupyter/aarch64/lib/python3.11/site-packages/jax/_src/api_util.py:652\u001b[0m, in \u001b[0;36mresult_paths\u001b[0;34m(_fun, _store, *args, **kwargs)\u001b[0m\n\u001b[1;32m    649\u001b[0m \u001b[38;5;129m@lu\u001b[39m\u001b[38;5;241m.\u001b[39mtransformation_with_aux2\n\u001b[1;32m    650\u001b[0m \u001b[38;5;28;01mdef\u001b[39;00m \u001b[38;5;21mresult_paths\u001b[39m(_fun, _store, \u001b[38;5;241m*\u001b[39margs, \u001b[38;5;241m*\u001b[39m\u001b[38;5;241m*\u001b[39mkwargs):\n\u001b[1;32m    651\u001b[0m   \u001b[38;5;124m\"\u001b[39m\u001b[38;5;124mlinear_util transform to get output pytree paths of pre-flattened function.\u001b[39m\u001b[38;5;124m\"\u001b[39m\n\u001b[0;32m--> 652\u001b[0m   ans \u001b[38;5;241m=\u001b[39m \u001b[43m_fun\u001b[49m\u001b[43m(\u001b[49m\u001b[38;5;241;43m*\u001b[39;49m\u001b[43margs\u001b[49m\u001b[43m,\u001b[49m\u001b[43m \u001b[49m\u001b[38;5;241;43m*\u001b[39;49m\u001b[38;5;241;43m*\u001b[39;49m\u001b[43mkwargs\u001b[49m\u001b[43m)\u001b[49m\n\u001b[1;32m    653\u001b[0m   _store\u001b[38;5;241m.\u001b[39mstore([keystr(path) \u001b[38;5;28;01mfor\u001b[39;00m path, _ \u001b[38;5;129;01min\u001b[39;00m generate_key_paths(ans)])\n\u001b[1;32m    654\u001b[0m   \u001b[38;5;28;01mreturn\u001b[39;00m ans\n",
      "\u001b[0;31mTypeError\u001b[0m: X() takes 2 positional arguments but 3 were given"
     ]
    }
   ],
   "source": [
    "X(2, 0).block_until_ready()"
   ]
  },
  {
   "cell_type": "code",
   "execution_count": 3,
   "id": "acf438eb-bedb-46a1-bd50-b6f1762cb41e",
   "metadata": {},
   "outputs": [
    {
     "name": "stdout",
     "output_type": "stream",
     "text": [
      "shape: (5, 4)\n",
      "┌──────┬───────┬──────────┬────────┐\n",
      "│ nrs  ┆ names ┆ random   ┆ groups │\n",
      "│ ---  ┆ ---   ┆ ---      ┆ ---    │\n",
      "│ i64  ┆ str   ┆ f64      ┆ str    │\n",
      "╞══════╪═══════╪══════════╪════════╡\n",
      "│ 1    ┆ foo   ┆ 0.703911 ┆ A      │\n",
      "│ 2    ┆ ham   ┆ 0.091943 ┆ A      │\n",
      "│ 3    ┆ spam  ┆ 0.023759 ┆ B      │\n",
      "│ null ┆ egg   ┆ 0.434993 ┆ C      │\n",
      "│ 5    ┆ null  ┆ 0.376646 ┆ B      │\n",
      "└──────┴───────┴──────────┴────────┘\n"
     ]
    }
   ],
   "source": [
    "import polars as pl\n",
    "import numpy as np\n",
    "df = pl.DataFrame(\n",
    "    {\n",
    "        \"nrs\": [1, 2, 3, None, 5],\n",
    "        \"names\": [\"foo\", \"ham\", \"spam\", \"egg\", None],\n",
    "        \"random\": np.random.rand(5),\n",
    "        \"groups\": [\"A\", \"A\", \"B\", \"C\", \"B\"],\n",
    "    }\n",
    ")"
   ]
  },
  {
   "cell_type": "code",
   "execution_count": 4,
   "id": "cfe7968b-b2ca-450c-a220-61cbe39d3ee1",
   "metadata": {},
   "outputs": [
    {
     "data": {
      "text/html": [
       "<div><style>\n",
       ".dataframe > thead > tr,\n",
       ".dataframe > tbody > tr {\n",
       "  text-align: right;\n",
       "  white-space: pre-wrap;\n",
       "}\n",
       "</style>\n",
       "<small>shape: (5, 4)</small><table border=\"1\" class=\"dataframe\"><thead><tr><th>nrs</th><th>names</th><th>random</th><th>groups</th></tr><tr><td>i64</td><td>str</td><td>f64</td><td>str</td></tr></thead><tbody><tr><td>1</td><td>&quot;foo&quot;</td><td>0.703911</td><td>&quot;A&quot;</td></tr><tr><td>2</td><td>&quot;ham&quot;</td><td>0.091943</td><td>&quot;A&quot;</td></tr><tr><td>3</td><td>&quot;spam&quot;</td><td>0.023759</td><td>&quot;B&quot;</td></tr><tr><td>null</td><td>&quot;egg&quot;</td><td>0.434993</td><td>&quot;C&quot;</td></tr><tr><td>5</td><td>null</td><td>0.376646</td><td>&quot;B&quot;</td></tr></tbody></table></div>"
      ],
      "text/plain": [
       "shape: (5, 4)\n",
       "┌──────┬───────┬──────────┬────────┐\n",
       "│ nrs  ┆ names ┆ random   ┆ groups │\n",
       "│ ---  ┆ ---   ┆ ---      ┆ ---    │\n",
       "│ i64  ┆ str   ┆ f64      ┆ str    │\n",
       "╞══════╪═══════╪══════════╪════════╡\n",
       "│ 1    ┆ foo   ┆ 0.703911 ┆ A      │\n",
       "│ 2    ┆ ham   ┆ 0.091943 ┆ A      │\n",
       "│ 3    ┆ spam  ┆ 0.023759 ┆ B      │\n",
       "│ null ┆ egg   ┆ 0.434993 ┆ C      │\n",
       "│ 5    ┆ null  ┆ 0.376646 ┆ B      │\n",
       "└──────┴───────┴──────────┴────────┘"
      ]
     },
     "execution_count": 4,
     "metadata": {},
     "output_type": "execute_result"
    }
   ],
   "source": [
    "def gen_dataset()"
   ]
  },
  {
   "cell_type": "code",
   "execution_count": null,
   "id": "cf035a87-1858-48b6-ba43-64d5329ca4e7",
   "metadata": {},
   "outputs": [],
   "source": [
    "import jax\n",
    "import jax.numpy as jnp\n",
    "from flax import nnx\n",
    "\n",
    "class RBM(nnx.Module):\n",
    "    def __init__(self, num_vnodes: int, num_hnodes: int):\n",
    "        \"\"\"\n",
    "        Define the parameters of RBM.\n",
    "        Args:\n",
    "            num_vnodes (int): number of visible nodes\n",
    "            num_hnodes (int): number of hidden nodes\n",
    "        \"\"\"\n",
    "        self.num_vnodes = num_vnodes\n",
    "        self.num_hnodes = num_hnodes\n",
    "        self.W = nnx.Param(jnp.zeros((num_vnodes, num_hnodes)))\n",
    "        self.v_bias = nnx.Param(jnp.zeros(num_vnodes))\n",
    "        self.h_bias = nnx.Param(jnp.zeros(num_hnodes))\n",
    "\n",
    "    def free_energy(self, v: jnp.ndarray, h:jnp.ndarray) -> jnp.ndarray:\n",
    "        \"\"\"\n",
    "        Compute energy function\n",
    "        Args:\n",
    "            v (jnp.ndarray): \n",
    "            h (jnp.ndarray): \n",
    "        \"\"\"\n",
    "        term_1 = jnp.dot(v, jnp.dot(self.W, h))\n",
    "        term_2 = jnp.dot(self.v_bias, v)\n",
    "        term_3 = jnp.dot(self.h_bias, h)\n",
    "        \n",
    "        return -(term_1+term_2+term3)\n",
    "\n",
    "    def grad_energy"
   ]
  },
  {
   "cell_type": "code",
   "execution_count": null,
   "id": "fc6971a2-6076-40df-b5a5-7ceb51e243f4",
   "metadata": {},
   "outputs": [],
   "source": [
    "class RBM4PureState(nnx.Module):\n",
    "\n",
    "class RBM4MixedState(nnx.Module):\n",
    "    "
   ]
  },
  {
   "cell_type": "code",
   "execution_count": 1,
   "id": "b056c8e1-2ce5-4fdd-bc7d-68cf82387146",
   "metadata": {},
   "outputs": [],
   "source": [
    "import equinox as eqx\n",
    "import jax\n",
    "\n",
    "class Linear(eqx.Module):\n",
    "    weight: jax.Array\n",
    "    bias: jax.Array\n",
    "\n",
    "    def __init__(self, in_size, out_size, key):\n",
    "        wkey, bkey = jax.random.split(key)\n",
    "        self.weight = jax.random.normal(wkey, (out_size, in_size))\n",
    "        self.bias = jax.random.normal(bkey, (out_size,))\n",
    "\n",
    "    def __call__(self, x):\n",
    "        return self.weight @ x + self.bias\n",
    "\n",
    "@jax.jit\n",
    "@jax.grad\n",
    "def loss_fn(model, x, y):\n",
    "    pred_y = jax.vmap(model)(x)\n",
    "    return jax.numpy.mean((y - pred_y) ** 2)\n",
    "\n",
    "batch_size, in_size, out_size = 32, 2, 3\n",
    "model = Linear(in_size, out_size, key=jax.random.PRNGKey(0))\n",
    "x = jax.numpy.zeros((batch_size, in_size))\n",
    "y = jax.numpy.zeros((batch_size, out_size))\n",
    "grads = loss_fn(model, x, y)"
   ]
  },
  {
   "cell_type": "code",
   "execution_count": 2,
   "id": "dcb3de9c-a59c-4ffe-9b54-deb5ec172546",
   "metadata": {},
   "outputs": [
    {
     "data": {
      "text/plain": [
       "Linear(weight=f32[3,2], bias=f32[3])"
      ]
     },
     "execution_count": 2,
     "metadata": {},
     "output_type": "execute_result"
    }
   ],
   "source": [
    "grads"
   ]
  },
  {
   "cell_type": "code",
   "execution_count": null,
   "id": "124f279d-19d0-4faf-b8e9-ca2d752a145a",
   "metadata": {},
   "outputs": [],
   "source": [
    "class RBM(eqx.Module):\n",
    "    def __init__(self, num_vnode: int, num_hnode: int, rand_key: int):\n",
    "        self.num_vnode = num_vnode\n",
    "        self.num_hnode = num_hnode\n",
    "\n",
    "    def initialize_params(self, \n",
    "\n",
    "    def energy(self, v, h):\n",
    "        r\"\"\"\n",
    "        \\mathcal{E} \\left( \\vb*{v}, \\vb*{h}, \\vb*{\\theta} \\right)\n",
    "        &= - \\vb*{b}^\\top \\vb*{v} - \\vb*{c}^\\top \\vb*{h} - \\vb*{v}^\\top \\vb*{W} \\vb*{h}\n",
    "        \"\"\"\n",
    "        return -jnp.\n",
    "\n",
    "    def partition(self, ):\n",
    "        \n",
    "\n",
    "    def free_energy(self, v: jax.Array) -> jax.Array:\n",
    "        r\"\"\"\n",
    "        $$\n",
    "        F() &= \n",
    "        $$\n",
    "        \"\"\"\n",
    "        \n",
    "        return "
   ]
  },
  {
   "cell_type": "code",
   "execution_count": 4,
   "id": "5d22b16c-2110-45a2-8dad-3d05824720a3",
   "metadata": {},
   "outputs": [
    {
     "data": {
      "text/plain": [
       "Array([0., 0.], dtype=float32)"
      ]
     },
     "execution_count": 4,
     "metadata": {},
     "output_type": "execute_result"
    }
   ],
   "source": [
    "jnp.zeros(2)"
   ]
  },
  {
   "cell_type": "markdown",
   "id": "f6d4dc97-e5f7-41c2-b68f-c142fdc683a0",
   "metadata": {},
   "source": [
    "$$\n",
    "\\begin{align}\n",
    "\\mathcal{E}(\\boldsymbol{v}) &= -\\sum_{j}b_j v_j\n",
    "                        - \\sum_{i}\\log\n",
    "                            \\left\\lbrack 1 +\n",
    "                                  \\exp\\left(c_{i} + \\sum_{j} W_{ij} v_j\\right)\n",
    "                            \\right\\rbrack\n",
    "\\end{align}\n",
    "$$"
   ]
  },
  {
   "cell_type": "code",
   "execution_count": 2,
   "id": "663d182a-0535-4844-9726-6106c9014d4d",
   "metadata": {},
   "outputs": [
    {
     "data": {
      "text/plain": [
       "Array([[1., 0.],\n",
       "       [0., 1.]], dtype=float32)"
      ]
     },
     "execution_count": 2,
     "metadata": {},
     "output_type": "execute_result"
    }
   ],
   "source": [
    "jnp.eye(2)"
   ]
  },
  {
   "cell_type": "code",
   "execution_count": null,
   "id": "69a2ec34-ee56-4c99-ba93-44c5c38c0a41",
   "metadata": {},
   "outputs": [],
   "source": []
  }
 ],
 "metadata": {
  "kernelspec": {
   "display_name": "Python 3 (ipykernel)",
   "language": "python",
   "name": "python3"
  },
  "language_info": {
   "codemirror_mode": {
    "name": "ipython",
    "version": 3
   },
   "file_extension": ".py",
   "mimetype": "text/x-python",
   "name": "python",
   "nbconvert_exporter": "python",
   "pygments_lexer": "ipython3",
   "version": "3.11.9"
  }
 },
 "nbformat": 4,
 "nbformat_minor": 5
}

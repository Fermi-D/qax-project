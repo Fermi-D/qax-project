{
 "cells": [
  {
   "cell_type": "code",
   "execution_count": 12,
   "id": "1f191ac0-6fc8-476f-a83e-e3e97248ac56",
   "metadata": {},
   "outputs": [
    {
     "name": "stdout",
     "output_type": "stream",
     "text": [
      "The autoreload extension is already loaded. To reload it, use:\n",
      "  %reload_ext autoreload\n"
     ]
    }
   ],
   "source": [
    "%load_ext autoreload\n",
    "%autoreload 2\n",
    "from qax_circuit import gate\n",
    "from qax_circuit.circuit import QuantumCircuit"
   ]
  },
  {
   "cell_type": "code",
   "execution_count": 13,
   "id": "754bfc1d-7fe3-4123-bfb9-9f55fd42275f",
   "metadata": {},
   "outputs": [
    {
     "ename": "TypeError",
     "evalue": "Argument 'X_0' of type <class 'str'> is not a valid JAX type",
     "output_type": "error",
     "traceback": [
      "\u001b[0;31m---------------------------------------------------------------------------\u001b[0m",
      "\u001b[0;31mTypeError\u001b[0m                                 Traceback (most recent call last)",
      "Cell \u001b[0;32mIn[13], line 3\u001b[0m\n\u001b[1;32m      1\u001b[0m n_qubits \u001b[38;5;241m=\u001b[39m \u001b[38;5;241m2\u001b[39m\n\u001b[1;32m      2\u001b[0m cirq \u001b[38;5;241m=\u001b[39m QuantumCircuit(n_qubits, \u001b[38;5;124m\"\u001b[39m\u001b[38;5;124mstate vector\u001b[39m\u001b[38;5;124m\"\u001b[39m)\n\u001b[0;32m----> 3\u001b[0m cirq \u001b[38;5;241m=\u001b[39m cirq\u001b[38;5;241m.\u001b[39mact(\u001b[43mgate\u001b[49m\u001b[38;5;241;43m.\u001b[39;49m\u001b[43mX\u001b[49m\u001b[43m(\u001b[49m\u001b[38;5;241;43m0\u001b[39;49m\u001b[43m,\u001b[49m\u001b[43m \u001b[49m\u001b[43mn_qubits\u001b[49m\u001b[43m)\u001b[49m, \u001b[38;5;28;01mNone\u001b[39;00m)\n\u001b[1;32m      4\u001b[0m \u001b[38;5;66;03m#cirq = cirq.acton(gate.CNOT(0, 1, n_qubits))\u001b[39;00m\n\u001b[1;32m      5\u001b[0m cirq\n",
      "    \u001b[0;31m[... skipping hidden 12 frame]\u001b[0m\n",
      "File \u001b[0;32m~/ondemand/jupyter/aarch64/lib/python3.11/site-packages/jax/_src/core.py:662\u001b[0m, in \u001b[0;36m_str_abstractify\u001b[0;34m(x)\u001b[0m\n\u001b[1;32m    661\u001b[0m \u001b[38;5;28;01mdef\u001b[39;00m\u001b[38;5;250m \u001b[39m\u001b[38;5;21m_str_abstractify\u001b[39m(x):\n\u001b[0;32m--> 662\u001b[0m   \u001b[38;5;28;01mraise\u001b[39;00m \u001b[38;5;167;01mTypeError\u001b[39;00m(\u001b[38;5;124mf\u001b[39m\u001b[38;5;124m\"\u001b[39m\u001b[38;5;124mArgument \u001b[39m\u001b[38;5;124m'\u001b[39m\u001b[38;5;132;01m{\u001b[39;00mx\u001b[38;5;132;01m}\u001b[39;00m\u001b[38;5;124m'\u001b[39m\u001b[38;5;124m of type \u001b[39m\u001b[38;5;132;01m{\u001b[39;00m\u001b[38;5;28mtype\u001b[39m(x)\u001b[38;5;132;01m}\u001b[39;00m\u001b[38;5;124m is not a valid JAX type\u001b[39m\u001b[38;5;124m\"\u001b[39m)\n",
      "\u001b[0;31mTypeError\u001b[0m: Argument 'X_0' of type <class 'str'> is not a valid JAX type"
     ]
    }
   ],
   "source": [
    "n_qubits = 2\n",
    "cirq = QuantumCircuit(n_qubits, \"state vector\")\n",
    "cirq = cirq.act(gate.X(0, n_qubits), None)\n",
    "#cirq = cirq.acton(gate.CNOT(0, 1, n_qubits))\n",
    "cirq"
   ]
  },
  {
   "cell_type": "code",
   "execution_count": 14,
   "id": "674c8715-0bb6-40c7-9776-f6a85fc6142b",
   "metadata": {},
   "outputs": [
    {
     "ename": "TypeError",
     "evalue": "Argument 'X_0' of type <class 'str'> is not a valid JAX type",
     "output_type": "error",
     "traceback": [
      "\u001b[0;31m---------------------------------------------------------------------------\u001b[0m",
      "\u001b[0;31mTypeError\u001b[0m                                 Traceback (most recent call last)",
      "Cell \u001b[0;32mIn[14], line 1\u001b[0m\n\u001b[0;32m----> 1\u001b[0m \u001b[43mgate\u001b[49m\u001b[38;5;241;43m.\u001b[39;49m\u001b[43mX\u001b[49m\u001b[43m(\u001b[49m\u001b[38;5;241;43m0\u001b[39;49m\u001b[43m,\u001b[49m\u001b[43m \u001b[49m\u001b[43mn_qubits\u001b[49m\u001b[43m)\u001b[49m\n",
      "    \u001b[0;31m[... skipping hidden 12 frame]\u001b[0m\n",
      "File \u001b[0;32m~/ondemand/jupyter/aarch64/lib/python3.11/site-packages/jax/_src/core.py:662\u001b[0m, in \u001b[0;36m_str_abstractify\u001b[0;34m(x)\u001b[0m\n\u001b[1;32m    661\u001b[0m \u001b[38;5;28;01mdef\u001b[39;00m\u001b[38;5;250m \u001b[39m\u001b[38;5;21m_str_abstractify\u001b[39m(x):\n\u001b[0;32m--> 662\u001b[0m   \u001b[38;5;28;01mraise\u001b[39;00m \u001b[38;5;167;01mTypeError\u001b[39;00m(\u001b[38;5;124mf\u001b[39m\u001b[38;5;124m\"\u001b[39m\u001b[38;5;124mArgument \u001b[39m\u001b[38;5;124m'\u001b[39m\u001b[38;5;132;01m{\u001b[39;00mx\u001b[38;5;132;01m}\u001b[39;00m\u001b[38;5;124m'\u001b[39m\u001b[38;5;124m of type \u001b[39m\u001b[38;5;132;01m{\u001b[39;00m\u001b[38;5;28mtype\u001b[39m(x)\u001b[38;5;132;01m}\u001b[39;00m\u001b[38;5;124m is not a valid JAX type\u001b[39m\u001b[38;5;124m\"\u001b[39m)\n",
      "\u001b[0;31mTypeError\u001b[0m: Argument 'X_0' of type <class 'str'> is not a valid JAX type"
     ]
    }
   ],
   "source": [
    "gate.X(0, n_qubits)"
   ]
  },
  {
   "cell_type": "code",
   "execution_count": 8,
   "id": "41aea322-9617-4fd3-8585-116cbd269f58",
   "metadata": {},
   "outputs": [],
   "source": [
    "import jax\n",
    "import jax.numpy as jnp\n",
    "from flax import nnx\n",
    "from functools import partial\n",
    "import optax\n",
    "\n",
    "from functools import partial"
   ]
  },
  {
   "cell_type": "code",
   "execution_count": 9,
   "id": "b0a8a129-913f-4936-8eab-7bb6cea615d2",
   "metadata": {},
   "outputs": [
    {
     "data": {
      "text/plain": [
       "Param(\n",
       "  value=Array([0., 0., 0.], dtype=float32)\n",
       ")"
      ]
     },
     "execution_count": 9,
     "metadata": {},
     "output_type": "execute_result"
    }
   ],
   "source": [
    "nnx.Param(jnp.zeros((3,)))"
   ]
  },
  {
   "cell_type": "code",
   "execution_count": null,
   "id": "3eb87508-6731-46b3-84e0-13f36771ca2c",
   "metadata": {},
   "outputs": [],
   "source": [
    "class RBM(nnx.Module):\n",
    "    def __init__(self, n_vnodes: int, n_hnodes: int, rngs: nnx.Rngs, use_gpu: bool):\n",
    "        self.n_vnodes = n_vnodes\n",
    "        self.n_hnodes = n_hnodes\n",
    "        self.W = nnx.Param(jax.random.uniform(key, (self.n_vnodes, self.n_hnodes)))\n",
    "        self.b = nnx.Param(jnp.zeros((self.n_vnodes,)))\n",
    "        self.c = nnx.Param(jnp.zeros((self.n_hnodes,)))\n",
    "        \n",
    "    def energy(self, v: jax.Array, h: jax.Array) -> jax.Array:\n",
    "        r\"\"\"\n",
    "        E \\left( \\vb*{v}, \\vb*{h}, \\vb*{\\theta} \\right)\n",
    "        &= - \\vb*{b}^\\top \\vb*{v} - \\vb*{c}^\\top \\vb*{h} - \\vb*{v}^\\top \\vb*{W} \\vb*{h}\n",
    "        \"\"\"\n",
    "        f_term = jnp.inner(self.b, v)\n",
    "        s_term = jnp.inner(self.c, h)\n",
    "        t_term = jnp.inner(v, jnp.dot(self.W, h))\n",
    "\n",
    "        return -(f_term + s_term + t_term)\n",
    "        \n",
    "    def free_energy(self, ):\n",
    "        r\"\"\"\n",
    "        $$\n",
    "        F(\\) &= \n",
    "        $$\n",
    "        \"\"\"\n",
    "\n",
    "class "
   ]
  },
  {
   "cell_type": "code",
   "execution_count": 11,
   "id": "2170d45b-6943-4295-bce2-3df9a4ace712",
   "metadata": {},
   "outputs": [
    {
     "name": "stdout",
     "output_type": "stream",
     "text": [
      "[1.2109671]\n"
     ]
    }
   ],
   "source": [
    "import jax.numpy as jnp\n",
    "from jax import random, pmap\n",
    "\n",
    "# 8枚のGPUがある環境で行列積を並列実行します。\n",
    "# 8つのランダムな5000x6000 行列を定義します。\n",
    "keys = random.split(random.PRNGKey(0), 1)\n",
    "mats = pmap(lambda key: random.normal(key, (5000, 6000)))(keys)\n",
    "\n",
    "# 明示的なデータ転送なく、行列積を各GPUで並列実行できます。\n",
    "result = pmap(lambda x: jnp.dot(x, x.T))(mats)  # result.shape = (8, 5000, 5000)\n",
    "\n",
    "# 各GPUの計算結果の平均を求めます。\n",
    "print(pmap(jnp.mean)(result))"
   ]
  },
  {
   "cell_type": "code",
   "execution_count": 12,
   "id": "1f04a42b-19e5-4881-955d-0d51bf1b9050",
   "metadata": {},
   "outputs": [
    {
     "data": {
      "text/plain": [
       "Array([[[ 6.16292188e+03, -8.17884803e-01,  9.36211777e+01, ...,\n",
       "         -8.75701675e+01, -1.01916000e+02, -1.03496124e+02],\n",
       "        [-8.17884803e-01,  6.07993945e+03, -1.13358467e+02, ...,\n",
       "          1.52782501e+02, -3.67200546e+01, -1.59060040e+01],\n",
       "        [ 9.36211777e+01, -1.13358467e+02,  6.16999463e+03, ...,\n",
       "          2.88735733e+01, -5.03922234e+01, -2.22707539e+01],\n",
       "        ...,\n",
       "        [-8.75701675e+01,  1.52782501e+02,  2.88735733e+01, ...,\n",
       "          5.97320947e+03, -1.90880337e+01, -1.89144783e+01],\n",
       "        [-1.01916000e+02, -3.67200546e+01, -5.03922234e+01, ...,\n",
       "         -1.90880337e+01,  6.00293115e+03,  1.09472115e+02],\n",
       "        [-1.03496124e+02, -1.59060040e+01, -2.22707539e+01, ...,\n",
       "         -1.89144783e+01,  1.09472115e+02,  5.93192334e+03]]],      dtype=float32)"
      ]
     },
     "execution_count": 12,
     "metadata": {},
     "output_type": "execute_result"
    }
   ],
   "source": [
    "result"
   ]
  },
  {
   "cell_type": "code",
   "execution_count": null,
   "id": "32635bbb-d86c-4aa9-a001-c7d20bbbe435",
   "metadata": {},
   "outputs": [],
   "source": []
  }
 ],
 "metadata": {
  "kernelspec": {
   "display_name": "Python 3 (ipykernel)",
   "language": "python",
   "name": "python3"
  },
  "language_info": {
   "codemirror_mode": {
    "name": "ipython",
    "version": 3
   },
   "file_extension": ".py",
   "mimetype": "text/x-python",
   "name": "python",
   "nbconvert_exporter": "python",
   "pygments_lexer": "ipython3",
   "version": "3.11.9"
  }
 },
 "nbformat": 4,
 "nbformat_minor": 5
}
